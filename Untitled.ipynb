{
 "cells": [
  {
   "cell_type": "code",
   "execution_count": null,
   "id": "9bd3d408",
   "metadata": {},
   "outputs": [],
   "source": [
    "class Calculator:\n",
    "    def __init__(self,args):\n",
    "        self.arg = args\n",
    "    \n",
    "    def sum(self):\n",
    "        result = 0\n",
    "        for num in self.arg:\n",
    "            result += num\n",
    "        print(result)\n",
    "    \n",
    "    def avg(self):\n",
    "        result = 0\n",
    "        for num in self.arg:\n",
    "            result += num\n",
    "        print(result/len(self.arg))\n",
    "\n",
    "cal = Calculator([1,2,3,4,5])\n",
    "cal.sum()\n",
    "cal.avg()"
   ]
  },
  {
   "cell_type": "code",
   "execution_count": null,
   "id": "4395d220",
   "metadata": {},
   "outputs": [],
   "source": [
    "kor = input(\"국어점수를 입력->\")\n",
    "eng = input(\"영어점수를 입력->\")\n",
    "mat = input(\"수학점수를 입력->\")\n",
    "sum= int(kor)+int(eng)+int(mat)\n",
    "avg= sum/3.0\n",
    "\n",
    "print(\"총점->{}\".format(sum))\n",
    "print(\"평균->{}\".format(avg))"
   ]
  },
  {
   "cell_type": "code",
   "execution_count": 22,
   "id": "afe919df",
   "metadata": {},
   "outputs": [
    {
     "name": "stdout",
     "output_type": "stream",
     "text": [
      "문자열을 입력->I love coffee and study java and python\n",
      "금지어를 입력->java C linux\n",
      "결과:I love coffee and study **** and python \n"
     ]
    }
   ],
   "source": [
    "str = input(\"문자열을 입력->\")\n",
    "fob = input(\"금지어를 입력->\")\n",
    "\n",
    "str = str.split(\" \")\n",
    "fob = fob.split(\" \")\n",
    "\n",
    "after =\"\"\n",
    "\n",
    "for s in str:\n",
    "    for f in fob:\n",
    "        if s==f:\n",
    "            star=\"\"\n",
    "            for i in range(0,len(s)):\n",
    "                star += \"*\"\n",
    "            s=star\n",
    "    after += s + \" \"\n",
    "print(\"결과:{}\".format(after))"
   ]
  },
  {
   "cell_type": "code",
   "execution_count": 33,
   "id": "be69c2d4",
   "metadata": {},
   "outputs": [
    {
     "name": "stdout",
     "output_type": "stream",
     "text": [
      "82.75\n"
     ]
    }
   ],
   "source": [
    "score = []\n",
    "with open(\"score.txt\", \"r\",encoding='utf-8') as f:\n",
    "    score = f.readlines()\n",
    "\n",
    "sum = 0\n",
    "for s in score:\n",
    "    sum += float(s.replace(\"\\n\",\"\",1))\n",
    "avg = sum/len(score)\n",
    "print(avg)\n",
    "with open(\"score.txt\", \"a\",encoding='utf-8') as f:\n",
    "    f.write(\"\\n평균값:{}\".format(avg))"
   ]
  },
  {
   "cell_type": "code",
   "execution_count": null,
   "id": "e706d95b",
   "metadata": {},
   "outputs": [],
   "source": []
  }
 ],
 "metadata": {
  "kernelspec": {
   "display_name": "Python [conda env:tensor] *",
   "language": "python",
   "name": "conda-env-tensor-py"
  },
  "language_info": {
   "codemirror_mode": {
    "name": "ipython",
    "version": 3
   },
   "file_extension": ".py",
   "mimetype": "text/x-python",
   "name": "python",
   "nbconvert_exporter": "python",
   "pygments_lexer": "ipython3",
   "version": "3.8.11"
  }
 },
 "nbformat": 4,
 "nbformat_minor": 5
}
