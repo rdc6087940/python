{
 "cells": [
  {
   "cell_type": "markdown",
   "id": "6dbd1101",
   "metadata": {},
   "source": [
    "# 1. csv 형식 데이터 판다스 데이터프레임 입력"
   ]
  },
  {
   "cell_type": "code",
   "execution_count": 140,
   "id": "5b68a157",
   "metadata": {},
   "outputs": [
    {
     "data": {
      "text/html": [
       "<div>\n",
       "<style scoped>\n",
       "    .dataframe tbody tr th:only-of-type {\n",
       "        vertical-align: middle;\n",
       "    }\n",
       "\n",
       "    .dataframe tbody tr th {\n",
       "        vertical-align: top;\n",
       "    }\n",
       "\n",
       "    .dataframe thead th {\n",
       "        text-align: right;\n",
       "    }\n",
       "</style>\n",
       "<table border=\"1\" class=\"dataframe\">\n",
       "  <thead>\n",
       "    <tr style=\"text-align: right;\">\n",
       "      <th></th>\n",
       "      <th>show_id</th>\n",
       "      <th>type</th>\n",
       "      <th>title</th>\n",
       "      <th>director</th>\n",
       "      <th>cast</th>\n",
       "      <th>country</th>\n",
       "      <th>date_added</th>\n",
       "      <th>release_year</th>\n",
       "      <th>rating</th>\n",
       "      <th>duration</th>\n",
       "      <th>listed_in</th>\n",
       "      <th>description</th>\n",
       "    </tr>\n",
       "  </thead>\n",
       "  <tbody>\n",
       "    <tr>\n",
       "      <th>0</th>\n",
       "      <td>s1</td>\n",
       "      <td>TV Show</td>\n",
       "      <td>3%</td>\n",
       "      <td>NaN</td>\n",
       "      <td>João Miguel, Bianca Comparato, Michel Gomes, R...</td>\n",
       "      <td>Brazil</td>\n",
       "      <td>August 14, 2020</td>\n",
       "      <td>2020</td>\n",
       "      <td>TV-MA</td>\n",
       "      <td>4 Seasons</td>\n",
       "      <td>International TV Shows, TV Dramas, TV Sci-Fi &amp;...</td>\n",
       "      <td>In a future where the elite inhabit an island ...</td>\n",
       "    </tr>\n",
       "    <tr>\n",
       "      <th>1</th>\n",
       "      <td>s2</td>\n",
       "      <td>Movie</td>\n",
       "      <td>7:19</td>\n",
       "      <td>Jorge Michel Grau</td>\n",
       "      <td>Demián Bichir, Héctor Bonilla, Oscar Serrano, ...</td>\n",
       "      <td>Mexico</td>\n",
       "      <td>December 23, 2016</td>\n",
       "      <td>2016</td>\n",
       "      <td>TV-MA</td>\n",
       "      <td>93 min</td>\n",
       "      <td>Dramas, International Movies</td>\n",
       "      <td>After a devastating earthquake hits Mexico Cit...</td>\n",
       "    </tr>\n",
       "    <tr>\n",
       "      <th>2</th>\n",
       "      <td>s3</td>\n",
       "      <td>Movie</td>\n",
       "      <td>23:59</td>\n",
       "      <td>Gilbert Chan</td>\n",
       "      <td>Tedd Chan, Stella Chung, Henley Hii, Lawrence ...</td>\n",
       "      <td>Singapore</td>\n",
       "      <td>December 20, 2018</td>\n",
       "      <td>2011</td>\n",
       "      <td>R</td>\n",
       "      <td>78 min</td>\n",
       "      <td>Horror Movies, International Movies</td>\n",
       "      <td>When an army recruit is found dead, his fellow...</td>\n",
       "    </tr>\n",
       "    <tr>\n",
       "      <th>3</th>\n",
       "      <td>s4</td>\n",
       "      <td>Movie</td>\n",
       "      <td>9</td>\n",
       "      <td>Shane Acker</td>\n",
       "      <td>Elijah Wood, John C. Reilly, Jennifer Connelly...</td>\n",
       "      <td>United States</td>\n",
       "      <td>November 16, 2017</td>\n",
       "      <td>2009</td>\n",
       "      <td>PG-13</td>\n",
       "      <td>80 min</td>\n",
       "      <td>Action &amp; Adventure, Independent Movies, Sci-Fi...</td>\n",
       "      <td>In a postapocalyptic world, rag-doll robots hi...</td>\n",
       "    </tr>\n",
       "    <tr>\n",
       "      <th>4</th>\n",
       "      <td>s5</td>\n",
       "      <td>Movie</td>\n",
       "      <td>21</td>\n",
       "      <td>Robert Luketic</td>\n",
       "      <td>Jim Sturgess, Kevin Spacey, Kate Bosworth, Aar...</td>\n",
       "      <td>United States</td>\n",
       "      <td>January 1, 2020</td>\n",
       "      <td>2008</td>\n",
       "      <td>PG-13</td>\n",
       "      <td>123 min</td>\n",
       "      <td>Dramas</td>\n",
       "      <td>A brilliant group of students become card-coun...</td>\n",
       "    </tr>\n",
       "    <tr>\n",
       "      <th>...</th>\n",
       "      <td>...</td>\n",
       "      <td>...</td>\n",
       "      <td>...</td>\n",
       "      <td>...</td>\n",
       "      <td>...</td>\n",
       "      <td>...</td>\n",
       "      <td>...</td>\n",
       "      <td>...</td>\n",
       "      <td>...</td>\n",
       "      <td>...</td>\n",
       "      <td>...</td>\n",
       "      <td>...</td>\n",
       "    </tr>\n",
       "    <tr>\n",
       "      <th>7782</th>\n",
       "      <td>s7783</td>\n",
       "      <td>Movie</td>\n",
       "      <td>Zozo</td>\n",
       "      <td>Josef Fares</td>\n",
       "      <td>Imad Creidi, Antoinette Turk, Elias Gergi, Car...</td>\n",
       "      <td>Sweden, Czech Republic, United Kingdom, Denmar...</td>\n",
       "      <td>October 19, 2020</td>\n",
       "      <td>2005</td>\n",
       "      <td>TV-MA</td>\n",
       "      <td>99 min</td>\n",
       "      <td>Dramas, International Movies</td>\n",
       "      <td>When Lebanon's Civil War deprives Zozo of his ...</td>\n",
       "    </tr>\n",
       "    <tr>\n",
       "      <th>7783</th>\n",
       "      <td>s7784</td>\n",
       "      <td>Movie</td>\n",
       "      <td>Zubaan</td>\n",
       "      <td>Mozez Singh</td>\n",
       "      <td>Vicky Kaushal, Sarah-Jane Dias, Raaghav Chanan...</td>\n",
       "      <td>India</td>\n",
       "      <td>March 2, 2019</td>\n",
       "      <td>2015</td>\n",
       "      <td>TV-14</td>\n",
       "      <td>111 min</td>\n",
       "      <td>Dramas, International Movies, Music &amp; Musicals</td>\n",
       "      <td>A scrappy but poor boy worms his way into a ty...</td>\n",
       "    </tr>\n",
       "    <tr>\n",
       "      <th>7784</th>\n",
       "      <td>s7785</td>\n",
       "      <td>Movie</td>\n",
       "      <td>Zulu Man in Japan</td>\n",
       "      <td>NaN</td>\n",
       "      <td>Nasty C</td>\n",
       "      <td>NaN</td>\n",
       "      <td>September 25, 2020</td>\n",
       "      <td>2019</td>\n",
       "      <td>TV-MA</td>\n",
       "      <td>44 min</td>\n",
       "      <td>Documentaries, International Movies, Music &amp; M...</td>\n",
       "      <td>In this documentary, South African rapper Nast...</td>\n",
       "    </tr>\n",
       "    <tr>\n",
       "      <th>7785</th>\n",
       "      <td>s7786</td>\n",
       "      <td>TV Show</td>\n",
       "      <td>Zumbo's Just Desserts</td>\n",
       "      <td>NaN</td>\n",
       "      <td>Adriano Zumbo, Rachel Khoo</td>\n",
       "      <td>Australia</td>\n",
       "      <td>October 31, 2020</td>\n",
       "      <td>2019</td>\n",
       "      <td>TV-PG</td>\n",
       "      <td>1 Season</td>\n",
       "      <td>International TV Shows, Reality TV</td>\n",
       "      <td>Dessert wizard Adriano Zumbo looks for the nex...</td>\n",
       "    </tr>\n",
       "    <tr>\n",
       "      <th>7786</th>\n",
       "      <td>s7787</td>\n",
       "      <td>Movie</td>\n",
       "      <td>ZZ TOP: THAT LITTLE OL' BAND FROM TEXAS</td>\n",
       "      <td>Sam Dunn</td>\n",
       "      <td>NaN</td>\n",
       "      <td>United Kingdom, Canada, United States</td>\n",
       "      <td>March 1, 2020</td>\n",
       "      <td>2019</td>\n",
       "      <td>TV-MA</td>\n",
       "      <td>90 min</td>\n",
       "      <td>Documentaries, Music &amp; Musicals</td>\n",
       "      <td>This documentary delves into the mystique behi...</td>\n",
       "    </tr>\n",
       "  </tbody>\n",
       "</table>\n",
       "<p>7787 rows × 12 columns</p>\n",
       "</div>"
      ],
      "text/plain": [
       "     show_id     type                                    title  \\\n",
       "0         s1  TV Show                                       3%   \n",
       "1         s2    Movie                                     7:19   \n",
       "2         s3    Movie                                    23:59   \n",
       "3         s4    Movie                                        9   \n",
       "4         s5    Movie                                       21   \n",
       "...      ...      ...                                      ...   \n",
       "7782   s7783    Movie                                     Zozo   \n",
       "7783   s7784    Movie                                   Zubaan   \n",
       "7784   s7785    Movie                        Zulu Man in Japan   \n",
       "7785   s7786  TV Show                    Zumbo's Just Desserts   \n",
       "7786   s7787    Movie  ZZ TOP: THAT LITTLE OL' BAND FROM TEXAS   \n",
       "\n",
       "               director                                               cast  \\\n",
       "0                   NaN  João Miguel, Bianca Comparato, Michel Gomes, R...   \n",
       "1     Jorge Michel Grau  Demián Bichir, Héctor Bonilla, Oscar Serrano, ...   \n",
       "2          Gilbert Chan  Tedd Chan, Stella Chung, Henley Hii, Lawrence ...   \n",
       "3           Shane Acker  Elijah Wood, John C. Reilly, Jennifer Connelly...   \n",
       "4        Robert Luketic  Jim Sturgess, Kevin Spacey, Kate Bosworth, Aar...   \n",
       "...                 ...                                                ...   \n",
       "7782        Josef Fares  Imad Creidi, Antoinette Turk, Elias Gergi, Car...   \n",
       "7783        Mozez Singh  Vicky Kaushal, Sarah-Jane Dias, Raaghav Chanan...   \n",
       "7784                NaN                                            Nasty C   \n",
       "7785                NaN                         Adriano Zumbo, Rachel Khoo   \n",
       "7786           Sam Dunn                                                NaN   \n",
       "\n",
       "                                                country          date_added  \\\n",
       "0                                                Brazil     August 14, 2020   \n",
       "1                                                Mexico   December 23, 2016   \n",
       "2                                             Singapore   December 20, 2018   \n",
       "3                                         United States   November 16, 2017   \n",
       "4                                         United States     January 1, 2020   \n",
       "...                                                 ...                 ...   \n",
       "7782  Sweden, Czech Republic, United Kingdom, Denmar...    October 19, 2020   \n",
       "7783                                              India       March 2, 2019   \n",
       "7784                                                NaN  September 25, 2020   \n",
       "7785                                          Australia    October 31, 2020   \n",
       "7786              United Kingdom, Canada, United States       March 1, 2020   \n",
       "\n",
       "      release_year rating   duration  \\\n",
       "0             2020  TV-MA  4 Seasons   \n",
       "1             2016  TV-MA     93 min   \n",
       "2             2011      R     78 min   \n",
       "3             2009  PG-13     80 min   \n",
       "4             2008  PG-13    123 min   \n",
       "...            ...    ...        ...   \n",
       "7782          2005  TV-MA     99 min   \n",
       "7783          2015  TV-14    111 min   \n",
       "7784          2019  TV-MA     44 min   \n",
       "7785          2019  TV-PG   1 Season   \n",
       "7786          2019  TV-MA     90 min   \n",
       "\n",
       "                                              listed_in  \\\n",
       "0     International TV Shows, TV Dramas, TV Sci-Fi &...   \n",
       "1                          Dramas, International Movies   \n",
       "2                   Horror Movies, International Movies   \n",
       "3     Action & Adventure, Independent Movies, Sci-Fi...   \n",
       "4                                                Dramas   \n",
       "...                                                 ...   \n",
       "7782                       Dramas, International Movies   \n",
       "7783     Dramas, International Movies, Music & Musicals   \n",
       "7784  Documentaries, International Movies, Music & M...   \n",
       "7785                 International TV Shows, Reality TV   \n",
       "7786                    Documentaries, Music & Musicals   \n",
       "\n",
       "                                            description  \n",
       "0     In a future where the elite inhabit an island ...  \n",
       "1     After a devastating earthquake hits Mexico Cit...  \n",
       "2     When an army recruit is found dead, his fellow...  \n",
       "3     In a postapocalyptic world, rag-doll robots hi...  \n",
       "4     A brilliant group of students become card-coun...  \n",
       "...                                                 ...  \n",
       "7782  When Lebanon's Civil War deprives Zozo of his ...  \n",
       "7783  A scrappy but poor boy worms his way into a ty...  \n",
       "7784  In this documentary, South African rapper Nast...  \n",
       "7785  Dessert wizard Adriano Zumbo looks for the nex...  \n",
       "7786  This documentary delves into the mystique behi...  \n",
       "\n",
       "[7787 rows x 12 columns]"
      ]
     },
     "execution_count": 140,
     "metadata": {},
     "output_type": "execute_result"
    }
   ],
   "source": [
    "import pandas as pd\n",
    "\n",
    "data = pd.read_csv('./netflix.csv')\n",
    "data"
   ]
  },
  {
   "cell_type": "markdown",
   "id": "b33ef017",
   "metadata": {},
   "source": [
    "## 1) 넷플릭스 프로그램 제작 년도 집계 데이터\n",
    " - 필요한 변수 : release_year"
   ]
  },
  {
   "cell_type": "code",
   "execution_count": 61,
   "id": "688ad651",
   "metadata": {},
   "outputs": [
    {
     "data": {
      "image/png": "[encoded data removed]",
      "text/plain": [
       "<Figure size 432x288 with 1 Axes>"
      ]
     },
     "metadata": {
      "needs_background": "light"
     },
     "output_type": "display_data"
    },
    {
     "name": "stdout",
     "output_type": "stream",
     "text": [
      "1       1966\n",
      "2       1970\n",
      "3       1962\n",
      "4       1972\n",
      "5       1971\n",
      "10      1986\n",
      "7       1987\n",
      "6       1978\n",
      "9       1985\n",
      "11      1979\n",
      "15      1982\n",
      "16      1994\n",
      "13      1989\n",
      "20      1990\n",
      "17      1991\n",
      "18      1992\n",
      "22      1993\n",
      "19      1996\n",
      "30      1997\n",
      "31      2021\n",
      "33      1999\n",
      "34      2000\n",
      "36      2001\n",
      "45      2002\n",
      "49      2003\n",
      "59      2004\n",
      "73      2005\n",
      "85      2007\n",
      "125     2008\n",
      "137     2009\n",
      "173     2010\n",
      "166     2011\n",
      "219     2012\n",
      "267     2013\n",
      "334     2014\n",
      "541     2015\n",
      "882     2016\n",
      "1012    2017\n",
      "1121    2018\n",
      "996     2019\n",
      "868     2020\n",
      "dtype: object\n"
     ]
    }
   ],
   "source": [
    "import matplotlib.pyplot as plt\n",
    "\n",
    "lists = []\n",
    "for re in data['release_year']:\n",
    "    lists.append(str(re))\n",
    "\n",
    "wordCount = {} \n",
    "wordCounts = []\n",
    " # word -> count 기준 정렬한 dictionary\n",
    "for word in lists:\n",
    "    # Get 명령어를 통해, Dictionary에 Key가 없으면 0리턴\n",
    "    wordCount[word] = wordCount.get(word, 0) + 1 \n",
    "    \n",
    "keys = sorted(wordCount.items(),key=(lambda x:x[0]),reverse=False)\n",
    "\n",
    "ratio = []\n",
    "labels = []\n",
    "for word in keys:\n",
    "    ratio.append(word[1])\n",
    "    labels.append(word[0])\n",
    "    lists.append(word[0])  \n",
    "    wordCounts.append(word[1])\n",
    "\n",
    "x_values = labels[:-1]\t# x축 지점의 값들\n",
    "y_values = ratio[:-1]\t# y축 지점의 값들\n",
    "plt.plot(x_values, y_values)\t# line 그래프를 그립니다\n",
    "plt.show()\t# 그래프를 화면에 보여줍니다    \n",
    "\n",
    "keys = dict(map(reversed,keys))\n",
    "to_pd = pd.Series(keys)\n",
    "print(to_pd)\n",
    "\n",
    "to_pd.to_csv(\"release_year.csv\",mode=\"w\")"
   ]
  },
  {
   "cell_type": "markdown",
   "id": "6c9cb099",
   "metadata": {},
   "source": [
    "## 2) 프로그램 캐스팅 배우 빈도 측정"
   ]
  },
  {
   "cell_type": "code",
   "execution_count": 137,
   "id": "9fba3d0f",
   "metadata": {},
   "outputs": [],
   "source": [
    "import matplotlib.pyplot as plt\n",
    "\n",
    "\n",
    "castings = []\n",
    "\n",
    "for cast in data['cast']:\n",
    "    caster_list = str(cast).replace(\",\",\" \")\n",
    "    caster_list = caster_list.split(\"  \")\n",
    "    for caster in caster_list:\n",
    "        castings.append(caster)\n",
    "\n",
    "wordCount = {} \n",
    "wordCounts = []\n",
    " # word -> count 기준 정렬한 dictionary\n",
    "for word in castings:\n",
    "    # Get 명령어를 통해, Dictionary에 Key가 없으면 0리턴\n",
    "    wordCount[word] = wordCount.get(word, 0) + 1 \n",
    "    \n",
    "castings = sorted(wordCount.items(),key=(lambda x:x[1]),reverse=True)\n",
    "\n",
    "ratio = []\n",
    "labels = []\n",
    "\n",
    "for word in castings[1:]:\n",
    "    ratio.append(word[1])\n",
    "    labels.append(word[0])\n",
    "    lists.append(word[0])  \n",
    "    wordCounts.append(word[1])\n",
    "\n",
    "\n",
    "castings = dict(castings[1:])\n",
    "to_pd = pd.Series(castings)\n",
    "\n",
    "to_pd.to_csv(\"casting_ratio.csv\",mode=\"w\")"
   ]
  },
  {
   "cell_type": "code",
   "execution_count": 138,
   "id": "abe618b0",
   "metadata": {},
   "outputs": [
    {
     "data": {
      "image/png": "[encoded data removed]",
      "text/plain": [
       "<Figure size 432x288 with 1 Axes>"
      ]
     },
     "metadata": {
      "needs_background": "light"
     },
     "output_type": "display_data"
    }
   ],
   "source": [
    "x_values = labels[1:100]\t# x축 지점의 값들\n",
    "y_values = ratio[1:100]\t# y축 지점의 값들\n",
    "plt.bar(x_values, y_values)\t# bar 그래프를 그립니다\n",
    "plt.show()\t# 그래프를 화면에 보여줍니다   "
   ]
  },
  {
   "cell_type": "markdown",
   "id": "e5c878e4",
   "metadata": {},
   "source": [
    "## 3) 프로그램 타입 파이 차트 분석"
   ]
  },
  {
   "cell_type": "code",
   "execution_count": 153,
   "id": "573e47ab",
   "metadata": {},
   "outputs": [
    {
     "data": {
      "image/png": "[encoded data removed]",
      "text/plain": [
       "<Figure size 432x288 with 1 Axes>"
      ]
     },
     "metadata": {},
     "output_type": "display_data"
    }
   ],
   "source": [
    "data = pd.read_csv('./netflix.csv')\n",
    "type_unique = data['type'].value_counts(ascending=True)\n",
    "\n",
    "\n",
    "\n",
    "ratio = [float(type_unique['TV Show']), float(type_unique['Movie'])]\n",
    "labels = ['TV Show', 'Movie']\n",
    "\n",
    "plt.pie(ratio, labels=labels, autopct='%.1f%%')\n",
    "plt.show()"
   ]
  },
  {
   "cell_type": "markdown",
   "id": "a1770eea",
   "metadata": {},
   "source": [
    "# 2. Regular Expression"
   ]
  },
  {
   "cell_type": "code",
   "execution_count": null,
   "id": "f025797c",
   "metadata": {},
   "outputs": [],
   "source": [
    "import re\n",
    "\n",
    "letter = re.sub('[^a-zA-Z0-9]',' ',example1.get_text())\n",
    "print(letter)"
   ]
  },
  {
   "cell_type": "markdown",
   "id": "a68a9378",
   "metadata": {},
   "source": [
    "# 3. 소문자 변환 & 토큰화"
   ]
  },
  {
   "cell_type": "code",
   "execution_count": null,
   "id": "c0a4a009",
   "metadata": {},
   "outputs": [],
   "source": [
    "letter = letter.lower()\n",
    "\n",
    "words = letter.split(\" \")\n",
    "words"
   ]
  },
  {
   "cell_type": "markdown",
   "id": "911bc778",
   "metadata": {},
   "source": [
    "# 4. 불용어 제거\n",
    "NLTK 자체는 내장되어 있지만 특정 불용어 규칙을 사용하기 위해서는 nltk data 에서 원하는 불용어 규칙을\n",
    "다운받은 다음 (Win 일 경우)  C/nltk-data/corpora/다운받은 불용어 규칙\n",
    "www.nltk.org/nltk_data"
   ]
  },
  {
   "cell_type": "code",
   "execution_count": null,
   "id": "712eaab8",
   "metadata": {
    "scrolled": false
   },
   "outputs": [],
   "source": [
    "import nltk\n",
    "from nltk.corpus import stopwords\n",
    "stopword = stopwords.words('english')"
   ]
  },
  {
   "cell_type": "markdown",
   "id": "47e40b92",
   "metadata": {},
   "source": [
    "- 불용어 제거 예시"
   ]
  },
  {
   "cell_type": "code",
   "execution_count": null,
   "id": "15ce50d1",
   "metadata": {},
   "outputs": [],
   "source": [
    "words = [w for w in words if not w in stopwords.words('english')]\n",
    "print(len(words))\n",
    "words"
   ]
  },
  {
   "cell_type": "markdown",
   "id": "6d35abeb",
   "metadata": {},
   "source": [
    "# 5. Stemming - 어간 추출, 형태소 분석기 사용"
   ]
  },
  {
   "cell_type": "code",
   "execution_count": null,
   "id": "b0d3bf12",
   "metadata": {},
   "outputs": [],
   "source": [
    "# 포터 스태머의 사용 예시\n",
    "stemmer = nltk.stem.PorterStemmer()\n",
    "print(stemmer.stem('maximum'))\n",
    "print('running stems : {}'.format(stemmer.stem(\"running\")))\n",
    "print('runs stems : {}'.format(stemmer.stem(\" \")))\n",
    "print('run stems : {}'.format(stemmer.stem(\"run\")))"
   ]
  },
  {
   "cell_type": "code",
   "execution_count": null,
   "id": "63d7a607",
   "metadata": {},
   "outputs": [],
   "source": [
    "# 랭커스터 스태머의 사용 예시\n",
    "from nltk.stem.lancaster import LancasterStemmer\n",
    "lan_stemmer = LancasterStemmer()\n",
    "print(lan_stemmer.stem('maximum'))\n",
    "print('running stems : {}'.format(lan_stemmer.stem(\"running\")))\n",
    "print('runs stems : {}'.format(lan_stemmer.stem(\"runs\")))\n",
    "print('run stems : {}'.format(lan_stemmer.stem(\"run\")))"
   ]
  },
  {
   "cell_type": "code",
   "execution_count": null,
   "id": "0c4109c5",
   "metadata": {},
   "outputs": [],
   "source": [
    "#  스노우볼 스테머의 사용\n",
    "from nltk.stem.snowball import SnowballStemmer\n",
    "\n",
    "stemmer = SnowballStemmer('english')\n",
    "words = [stemmer.stem(w) for w in words]\n",
    "words"
   ]
  },
  {
   "cell_type": "markdown",
   "id": "c3810456",
   "metadata": {},
   "source": [
    "# 6. Lemmatization (음소 표기법) - 동음이의어 등"
   ]
  },
  {
   "cell_type": "code",
   "execution_count": null,
   "id": "002926b2",
   "metadata": {},
   "outputs": [],
   "source": [
    "from nltk.stem import WordNetLemmatizer\n",
    "wordnet_lemmatizer = WordNetLemmatizer()\n",
    "\n",
    "print(wordnet_lemmatizer.lemmatize(\"fly\"))\n",
    "print(wordnet_lemmatizer.lemmatize(\"flies\"))\n",
    "\n",
    "words = [wordnet_lemmatizer.lemmatize(w) for w in words]\n",
    "# 처리 후 단어\n",
    "words"
   ]
  },
  {
   "cell_type": "markdown",
   "id": "7ae00765",
   "metadata": {},
   "source": [
    "# 함수화"
   ]
  },
  {
   "cell_type": "code",
   "execution_count": null,
   "id": "1cb384ed",
   "metadata": {},
   "outputs": [],
   "source": [
    "def natural_to_datas(natural):\n",
    "   \n",
    "    # 2. 영문자가 아닌 문자는 공백으로 치환 -> letters_only\n",
    "    letters_only = re.sub('[^a-zA-Z]',' ',natural)\n",
    "    \n",
    "    # 3. 소문자 변환 -> words\n",
    "    words = letters_only.lower().split()\n",
    "    \n",
    "    # 4. 파이썬에서는 리스트보다 세트로 찾는게 훨씬 빠르다 ********\n",
    "    # stopwords 를 세트로 변환한다.\n",
    "    stops = set(stopwords.words('english'))\n",
    "    \n",
    "    # 5. Stopwords 불용어 제거 -> meaningful_words\n",
    "    meaningful_words = [w for w in words if not w in stops]\n",
    "    \n",
    "    # 6. 어간추출\n",
    "    datas = [stemmer.stem(w) for w in meaningful_words]\n",
    "    \n",
    "    # 7. 공백으로 구분된 문자열로 결합하여 결과를 반환\n",
    "    return( ' '.join(datas))"
   ]
  },
  {
   "cell_type": "code",
   "execution_count": null,
   "id": "6f79ca8a",
   "metadata": {},
   "outputs": [],
   "source": [
    "data = natural_to_datas(html_doc)\n",
    "data"
   ]
  }
 ],
 "metadata": {
  "kernelspec": {
   "display_name": "tensor",
   "language": "python",
   "name": "tensor"
  },
  "language_info": {
   "codemirror_mode": {
    "name": "ipython",
    "version": 3
   },
   "file_extension": ".py",
   "mimetype": "text/x-python",
   "name": "python",
   "nbconvert_exporter": "python",
   "pygments_lexer": "ipython3",
   "version": "3.8.8"
  }
 },
 "nbformat": 4,
 "nbformat_minor": 5
}
