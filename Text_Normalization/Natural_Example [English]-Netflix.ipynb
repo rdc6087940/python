{
 "cells": [
  {
   "cell_type": "markdown",
   "id": "6dbd1101",
   "metadata": {},
   "source": [
    "# 1. csv 형식 데이터 판다스 데이터프레임 입력"
   ]
  },
  {
   "cell_type": "code",
   "execution_count": 1,
   "id": "5b68a157",
   "metadata": {},
   "outputs": [
    {
     "data": {
      "text/html": [
       "<div>\n",
       "<style scoped>\n",
       "    .dataframe tbody tr th:only-of-type {\n",
       "        vertical-align: middle;\n",
       "    }\n",
       "\n",
       "    .dataframe tbody tr th {\n",
       "        vertical-align: top;\n",
       "    }\n",
       "\n",
       "    .dataframe thead th {\n",
       "        text-align: right;\n",
       "    }\n",
       "</style>\n",
       "<table border=\"1\" class=\"dataframe\">\n",
       "  <thead>\n",
       "    <tr style=\"text-align: right;\">\n",
       "      <th></th>\n",
       "      <th>show_id</th>\n",
       "      <th>type</th>\n",
       "      <th>title</th>\n",
       "      <th>director</th>\n",
       "      <th>cast</th>\n",
       "      <th>country</th>\n",
       "      <th>date_added</th>\n",
       "      <th>release_year</th>\n",
       "      <th>rating</th>\n",
       "      <th>duration</th>\n",
       "      <th>listed_in</th>\n",
       "      <th>description</th>\n",
       "    </tr>\n",
       "  </thead>\n",
       "  <tbody>\n",
       "    <tr>\n",
       "      <th>0</th>\n",
       "      <td>s1</td>\n",
       "      <td>TV Show</td>\n",
       "      <td>3%</td>\n",
       "      <td>NaN</td>\n",
       "      <td>João Miguel, Bianca Comparato, Michel Gomes, R...</td>\n",
       "      <td>Brazil</td>\n",
       "      <td>August 14, 2020</td>\n",
       "      <td>2020</td>\n",
       "      <td>TV-MA</td>\n",
       "      <td>4 Seasons</td>\n",
       "      <td>International TV Shows, TV Dramas, TV Sci-Fi &amp;...</td>\n",
       "      <td>In a future where the elite inhabit an island ...</td>\n",
       "    </tr>\n",
       "    <tr>\n",
       "      <th>1</th>\n",
       "      <td>s2</td>\n",
       "      <td>Movie</td>\n",
       "      <td>7:19</td>\n",
       "      <td>Jorge Michel Grau</td>\n",
       "      <td>Demián Bichir, Héctor Bonilla, Oscar Serrano, ...</td>\n",
       "      <td>Mexico</td>\n",
       "      <td>December 23, 2016</td>\n",
       "      <td>2016</td>\n",
       "      <td>TV-MA</td>\n",
       "      <td>93 min</td>\n",
       "      <td>Dramas, International Movies</td>\n",
       "      <td>After a devastating earthquake hits Mexico Cit...</td>\n",
       "    </tr>\n",
       "    <tr>\n",
       "      <th>2</th>\n",
       "      <td>s3</td>\n",
       "      <td>Movie</td>\n",
       "      <td>23:59</td>\n",
       "      <td>Gilbert Chan</td>\n",
       "      <td>Tedd Chan, Stella Chung, Henley Hii, Lawrence ...</td>\n",
       "      <td>Singapore</td>\n",
       "      <td>December 20, 2018</td>\n",
       "      <td>2011</td>\n",
       "      <td>R</td>\n",
       "      <td>78 min</td>\n",
       "      <td>Horror Movies, International Movies</td>\n",
       "      <td>When an army recruit is found dead, his fellow...</td>\n",
       "    </tr>\n",
       "    <tr>\n",
       "      <th>3</th>\n",
       "      <td>s4</td>\n",
       "      <td>Movie</td>\n",
       "      <td>9</td>\n",
       "      <td>Shane Acker</td>\n",
       "      <td>Elijah Wood, John C. Reilly, Jennifer Connelly...</td>\n",
       "      <td>United States</td>\n",
       "      <td>November 16, 2017</td>\n",
       "      <td>2009</td>\n",
       "      <td>PG-13</td>\n",
       "      <td>80 min</td>\n",
       "      <td>Action &amp; Adventure, Independent Movies, Sci-Fi...</td>\n",
       "      <td>In a postapocalyptic world, rag-doll robots hi...</td>\n",
       "    </tr>\n",
       "    <tr>\n",
       "      <th>4</th>\n",
       "      <td>s5</td>\n",
       "      <td>Movie</td>\n",
       "      <td>21</td>\n",
       "      <td>Robert Luketic</td>\n",
       "      <td>Jim Sturgess, Kevin Spacey, Kate Bosworth, Aar...</td>\n",
       "      <td>United States</td>\n",
       "      <td>January 1, 2020</td>\n",
       "      <td>2008</td>\n",
       "      <td>PG-13</td>\n",
       "      <td>123 min</td>\n",
       "      <td>Dramas</td>\n",
       "      <td>A brilliant group of students become card-coun...</td>\n",
       "    </tr>\n",
       "    <tr>\n",
       "      <th>...</th>\n",
       "      <td>...</td>\n",
       "      <td>...</td>\n",
       "      <td>...</td>\n",
       "      <td>...</td>\n",
       "      <td>...</td>\n",
       "      <td>...</td>\n",
       "      <td>...</td>\n",
       "      <td>...</td>\n",
       "      <td>...</td>\n",
       "      <td>...</td>\n",
       "      <td>...</td>\n",
       "      <td>...</td>\n",
       "    </tr>\n",
       "    <tr>\n",
       "      <th>7782</th>\n",
       "      <td>s7783</td>\n",
       "      <td>Movie</td>\n",
       "      <td>Zozo</td>\n",
       "      <td>Josef Fares</td>\n",
       "      <td>Imad Creidi, Antoinette Turk, Elias Gergi, Car...</td>\n",
       "      <td>Sweden, Czech Republic, United Kingdom, Denmar...</td>\n",
       "      <td>October 19, 2020</td>\n",
       "      <td>2005</td>\n",
       "      <td>TV-MA</td>\n",
       "      <td>99 min</td>\n",
       "      <td>Dramas, International Movies</td>\n",
       "      <td>When Lebanon's Civil War deprives Zozo of his ...</td>\n",
       "    </tr>\n",
       "    <tr>\n",
       "      <th>7783</th>\n",
       "      <td>s7784</td>\n",
       "      <td>Movie</td>\n",
       "      <td>Zubaan</td>\n",
       "      <td>Mozez Singh</td>\n",
       "      <td>Vicky Kaushal, Sarah-Jane Dias, Raaghav Chanan...</td>\n",
       "      <td>India</td>\n",
       "      <td>March 2, 2019</td>\n",
       "      <td>2015</td>\n",
       "      <td>TV-14</td>\n",
       "      <td>111 min</td>\n",
       "      <td>Dramas, International Movies, Music &amp; Musicals</td>\n",
       "      <td>A scrappy but poor boy worms his way into a ty...</td>\n",
       "    </tr>\n",
       "    <tr>\n",
       "      <th>7784</th>\n",
       "      <td>s7785</td>\n",
       "      <td>Movie</td>\n",
       "      <td>Zulu Man in Japan</td>\n",
       "      <td>NaN</td>\n",
       "      <td>Nasty C</td>\n",
       "      <td>NaN</td>\n",
       "      <td>September 25, 2020</td>\n",
       "      <td>2019</td>\n",
       "      <td>TV-MA</td>\n",
       "      <td>44 min</td>\n",
       "      <td>Documentaries, International Movies, Music &amp; M...</td>\n",
       "      <td>In this documentary, South African rapper Nast...</td>\n",
       "    </tr>\n",
       "    <tr>\n",
       "      <th>7785</th>\n",
       "      <td>s7786</td>\n",
       "      <td>TV Show</td>\n",
       "      <td>Zumbo's Just Desserts</td>\n",
       "      <td>NaN</td>\n",
       "      <td>Adriano Zumbo, Rachel Khoo</td>\n",
       "      <td>Australia</td>\n",
       "      <td>October 31, 2020</td>\n",
       "      <td>2019</td>\n",
       "      <td>TV-PG</td>\n",
       "      <td>1 Season</td>\n",
       "      <td>International TV Shows, Reality TV</td>\n",
       "      <td>Dessert wizard Adriano Zumbo looks for the nex...</td>\n",
       "    </tr>\n",
       "    <tr>\n",
       "      <th>7786</th>\n",
       "      <td>s7787</td>\n",
       "      <td>Movie</td>\n",
       "      <td>ZZ TOP: THAT LITTLE OL' BAND FROM TEXAS</td>\n",
       "      <td>Sam Dunn</td>\n",
       "      <td>NaN</td>\n",
       "      <td>United Kingdom, Canada, United States</td>\n",
       "      <td>March 1, 2020</td>\n",
       "      <td>2019</td>\n",
       "      <td>TV-MA</td>\n",
       "      <td>90 min</td>\n",
       "      <td>Documentaries, Music &amp; Musicals</td>\n",
       "      <td>This documentary delves into the mystique behi...</td>\n",
       "    </tr>\n",
       "  </tbody>\n",
       "</table>\n",
       "<p>7787 rows × 12 columns</p>\n",
       "</div>"
      ],
      "text/plain": [
       "     show_id     type                                    title  \\\n",
       "0         s1  TV Show                                       3%   \n",
       "1         s2    Movie                                     7:19   \n",
       "2         s3    Movie                                    23:59   \n",
       "3         s4    Movie                                        9   \n",
       "4         s5    Movie                                       21   \n",
       "...      ...      ...                                      ...   \n",
       "7782   s7783    Movie                                     Zozo   \n",
       "7783   s7784    Movie                                   Zubaan   \n",
       "7784   s7785    Movie                        Zulu Man in Japan   \n",
       "7785   s7786  TV Show                    Zumbo's Just Desserts   \n",
       "7786   s7787    Movie  ZZ TOP: THAT LITTLE OL' BAND FROM TEXAS   \n",
       "\n",
       "               director                                               cast  \\\n",
       "0                   NaN  João Miguel, Bianca Comparato, Michel Gomes, R...   \n",
       "1     Jorge Michel Grau  Demián Bichir, Héctor Bonilla, Oscar Serrano, ...   \n",
       "2          Gilbert Chan  Tedd Chan, Stella Chung, Henley Hii, Lawrence ...   \n",
       "3           Shane Acker  Elijah Wood, John C. Reilly, Jennifer Connelly...   \n",
       "4        Robert Luketic  Jim Sturgess, Kevin Spacey, Kate Bosworth, Aar...   \n",
       "...                 ...                                                ...   \n",
       "7782        Josef Fares  Imad Creidi, Antoinette Turk, Elias Gergi, Car...   \n",
       "7783        Mozez Singh  Vicky Kaushal, Sarah-Jane Dias, Raaghav Chanan...   \n",
       "7784                NaN                                            Nasty C   \n",
       "7785                NaN                         Adriano Zumbo, Rachel Khoo   \n",
       "7786           Sam Dunn                                                NaN   \n",
       "\n",
       "                                                country          date_added  \\\n",
       "0                                                Brazil     August 14, 2020   \n",
       "1                                                Mexico   December 23, 2016   \n",
       "2                                             Singapore   December 20, 2018   \n",
       "3                                         United States   November 16, 2017   \n",
       "4                                         United States     January 1, 2020   \n",
       "...                                                 ...                 ...   \n",
       "7782  Sweden, Czech Republic, United Kingdom, Denmar...    October 19, 2020   \n",
       "7783                                              India       March 2, 2019   \n",
       "7784                                                NaN  September 25, 2020   \n",
       "7785                                          Australia    October 31, 2020   \n",
       "7786              United Kingdom, Canada, United States       March 1, 2020   \n",
       "\n",
       "      release_year rating   duration  \\\n",
       "0             2020  TV-MA  4 Seasons   \n",
       "1             2016  TV-MA     93 min   \n",
       "2             2011      R     78 min   \n",
       "3             2009  PG-13     80 min   \n",
       "4             2008  PG-13    123 min   \n",
       "...            ...    ...        ...   \n",
       "7782          2005  TV-MA     99 min   \n",
       "7783          2015  TV-14    111 min   \n",
       "7784          2019  TV-MA     44 min   \n",
       "7785          2019  TV-PG   1 Season   \n",
       "7786          2019  TV-MA     90 min   \n",
       "\n",
       "                                              listed_in  \\\n",
       "0     International TV Shows, TV Dramas, TV Sci-Fi &...   \n",
       "1                          Dramas, International Movies   \n",
       "2                   Horror Movies, International Movies   \n",
       "3     Action & Adventure, Independent Movies, Sci-Fi...   \n",
       "4                                                Dramas   \n",
       "...                                                 ...   \n",
       "7782                       Dramas, International Movies   \n",
       "7783     Dramas, International Movies, Music & Musicals   \n",
       "7784  Documentaries, International Movies, Music & M...   \n",
       "7785                 International TV Shows, Reality TV   \n",
       "7786                    Documentaries, Music & Musicals   \n",
       "\n",
       "                                            description  \n",
       "0     In a future where the elite inhabit an island ...  \n",
       "1     After a devastating earthquake hits Mexico Cit...  \n",
       "2     When an army recruit is found dead, his fellow...  \n",
       "3     In a postapocalyptic world, rag-doll robots hi...  \n",
       "4     A brilliant group of students become card-coun...  \n",
       "...                                                 ...  \n",
       "7782  When Lebanon's Civil War deprives Zozo of his ...  \n",
       "7783  A scrappy but poor boy worms his way into a ty...  \n",
       "7784  In this documentary, South African rapper Nast...  \n",
       "7785  Dessert wizard Adriano Zumbo looks for the nex...  \n",
       "7786  This documentary delves into the mystique behi...  \n",
       "\n",
       "[7787 rows x 12 columns]"
      ]
     },
     "execution_count": 1,
     "metadata": {},
     "output_type": "execute_result"
    }
   ],
   "source": [
    "import pandas as pd\n",
    "\n",
    "data = pd.read_csv('./netflix.csv')\n",
    "data"
   ]
  },
  {
   "cell_type": "markdown",
   "id": "b33ef017",
   "metadata": {},
   "source": [
    "## 1) 넷플릭스 프로그램 제작 년도 집계 데이터\n",
    " - 필요한 변수 : release_year"
   ]
  },
  {
   "cell_type": "code",
   "execution_count": 44,
   "id": "688ad651",
   "metadata": {},
   "outputs": [
    {
     "data": {
      "image/png": "[encoded data removed]",
      "text/plain": [
       "<Figure size 432x288 with 1 Axes>"
      ]
     },
     "metadata": {
      "needs_background": "light"
     },
     "output_type": "display_data"
    },
    {
     "name": "stdout",
     "output_type": "stream",
     "text": [
      "1925       1\n",
      "1942       2\n",
      "1943       3\n",
      "1944       3\n",
      "1945       3\n",
      "        ... \n",
      "2017    1012\n",
      "2018    1121\n",
      "2019     996\n",
      "2020     868\n",
      "2021      31\n",
      "Length: 73, dtype: int64\n"
     ]
    }
   ],
   "source": [
    "import matplotlib.pyplot as plt\n",
    "\n",
    "lists = []\n",
    "for re in data['release_year']:\n",
    "    lists.append(str(re))\n",
    "\n",
    "wordCount = {} \n",
    "wordCounts = []\n",
    " # word -> count 기준 정렬한 dictionary\n",
    "for word in lists:\n",
    "    # Get 명령어를 통해, Dictionary에 Key가 없으면 0리턴\n",
    "    wordCount[word] = wordCount.get(word, 0) + 1 \n",
    "    \n",
    "keys = sorted(wordCount.items(),key=(lambda x:x[0]),reverse=False)\n",
    "\n",
    "ratio = []\n",
    "labels = []\n",
    "for word in keys:\n",
    "    ratio.append(word[1])\n",
    "    labels.append(word[0])\n",
    "    lists.append(word[0])  \n",
    "    wordCounts.append(word[1])\n",
    "\n",
    "x_values = labels[:-1]\t# x축 지점의 값들\n",
    "y_values = ratio[:-1]\t# y축 지점의 값들\n",
    "plt.plot(x_values, y_values)\t# line 그래프를 그립니다\n",
    "plt.show()\t# 그래프를 화면에 보여줍니다    \n",
    "\n",
    "keys = dict(keys)\n",
    "to_pd = pd.Series(keys)\n",
    "print(to_pd)\n",
    "\n",
    "to_pd.to_csv(\"release_year.csv\",mode=\"w\")"
   ]
  },
  {
   "cell_type": "markdown",
   "id": "6c9cb099",
   "metadata": {},
   "source": [
    "## 2) 프로그램 캐스팅 배우 빈도 측정"
   ]
  },
  {
   "cell_type": "code",
   "execution_count": 45,
   "id": "9fba3d0f",
   "metadata": {},
   "outputs": [],
   "source": [
    "import matplotlib.pyplot as plt\n",
    "\n",
    "castings = []\n",
    "\n",
    "for cast in data['cast']:\n",
    "    caster_list = str(cast).replace(\",\",\" \")\n",
    "    caster_list = caster_list.split(\"  \")\n",
    "    for caster in caster_list:\n",
    "        castings.append(caster)\n",
    "\n",
    "wordCount = {} \n",
    "wordCounts = []\n",
    " # word -> count 기준 정렬한 dictionary\n",
    "for word in castings:\n",
    "    # Get 명령어를 통해, Dictionary에 Key가 없으면 0리턴\n",
    "    wordCount[word] = wordCount.get(word, 0) + 1 \n",
    "    \n",
    "castings = sorted(wordCount.items(),key=(lambda x:x[1]),reverse=True)\n",
    "\n",
    "ratio = []\n",
    "labels = []\n",
    "\n",
    "for word in castings[1:]:\n",
    "    ratio.append(word[1])\n",
    "    labels.append(word[0])\n",
    "    lists.append(word[0])  \n",
    "    wordCounts.append(word[1])\n",
    "\n",
    "\n",
    "castings = dict(castings[1:])\n",
    "to_pd = pd.Series(castings)\n",
    "\n",
    "to_pd.to_csv(\"casting_ratio.csv\",mode=\"w\")"
   ]
  },
  {
   "cell_type": "code",
   "execution_count": 46,
   "id": "abe618b0",
   "metadata": {},
   "outputs": [
    {
     "data": {
      "image/png": "[encoded data removed]",
      "text/plain": [
       "<Figure size 432x288 with 1 Axes>"
      ]
     },
     "metadata": {
      "needs_background": "light"
     },
     "output_type": "display_data"
    }
   ],
   "source": [
    "x_values = labels[1:100]\t# x축 지점의 값들\n",
    "y_values = ratio[1:100]\t# y축 지점의 값들\n",
    "plt.bar(x_values, y_values)\t# bar 그래프를 그립니다\n",
    "plt.show()\t# 그래프를 화면에 보여줍니다   "
   ]
  },
  {
   "cell_type": "markdown",
   "id": "e5c878e4",
   "metadata": {},
   "source": [
    "## 3) 프로그램 타입 파이 차트 분석"
   ]
  },
  {
   "cell_type": "code",
   "execution_count": 56,
   "id": "573e47ab",
   "metadata": {},
   "outputs": [
    {
     "data": {
      "image/png": "[encoded data removed]",
      "text/plain": [
       "<Figure size 432x288 with 1 Axes>"
      ]
     },
     "metadata": {},
     "output_type": "display_data"
    }
   ],
   "source": [
    "data = pd.read_csv('./netflix.csv')\n",
    "type_unique = data['type'].value_counts(ascending=True)\n",
    "\n",
    "ratio = [float(type_unique['TV Show']), float(type_unique['Movie'])]\n",
    "labels = ['TV Show', 'Movie']\n",
    "\n",
    "plt.pie(ratio, labels=labels, autopct='%.1f%%')\n",
    "plt.show()\n",
    "\n",
    "student_card = pd.DataFrame([['TV Show', type_unique['TV Show']],['Movie', type_unique['Movie']]])   \n",
    "student_card.to_csv(\"programtype_ratio.csv\",mode=\"w\")"
   ]
  },
  {
   "cell_type": "markdown",
   "id": "8311ebe5",
   "metadata": {},
   "source": [
    "## 4) 넷플릭스 작품 설명에서 가장 많이 사용한 키워드"
   ]
  },
  {
   "cell_type": "code",
   "execution_count": 50,
   "id": "7f037538",
   "metadata": {},
   "outputs": [],
   "source": [
    "data = pd.read_csv('./netflix.csv')\n",
    "letter = \"\"\n",
    "for le in data['description']:\n",
    "    letter = letter + str(le) + \" \""
   ]
  },
  {
   "cell_type": "markdown",
   "id": "607516f5",
   "metadata": {},
   "source": [
    "## 5) 2021년 전세계 기준 넷플릭스 최고의 프로그램"
   ]
  },
  {
   "cell_type": "code",
   "execution_count": 57,
   "id": "387fc712",
   "metadata": {},
   "outputs": [],
   "source": [
    "import pandas as pd\n",
    "data = pd.read_csv('./netflix_crolling.csv')\n",
    "top_movie = data['top_movie'][0]\n",
    "top_movie_score = data['top_movie_score'][0]\n",
    "top_tv = data['top_tv'][0]\n",
    "top_tv_score = data['top_tv_score'][0]\n",
    "\n",
    "top_tv_score = top_tv_score.replace(\"[\",\"\")\n",
    "top_tv_score = top_tv_score.replace(\"]\",\"\")\n",
    "top_tv_score = top_tv_score.split(\", \")\n",
    "top_tv_score = list(map(int, top_tv_score))\n",
    "\n",
    "top_tv = top_tv.replace(\"[\",\"\")\n",
    "top_tv = top_tv.replace(\"]\",\"\")\n",
    "top_tv = top_tv.replace(\"'\",\"\")\n",
    "top_tv= top_tv.split(\", \")\n",
    "\n",
    "top_movie_score = top_movie_score.replace(\"[\",\"\")\n",
    "top_movie_score = top_movie_score.replace(\"]\",\"\")\n",
    "top_movie_score = top_movie_score.split(\", \")\n",
    "top_movie_score = list(map(int, top_movie_score))\n",
    "\n",
    "top_movie = top_movie.replace(\"[\",\"\")\n",
    "top_movie = top_movie.replace(\"]\",\"\")\n",
    "top_movie = top_movie.replace(\"'\",\"\")\n",
    "top_movie = top_movie.split(\", \")\n",
    "\n",
    "lists =[]\n",
    "for i in range(0,len(top_movie)):\n",
    "    lists.append([top_movie[i],top_movie_score[i],top_tv[i],top_tv_score[i]])\n",
    "list_df = pd.DataFrame(lists)\n",
    "list_df.to_csv(\"world_top_program.csv\",mode=\"w\")"
   ]
  },
  {
   "cell_type": "code",
   "execution_count": 50,
   "id": "b97a80a0",
   "metadata": {},
   "outputs": [
    {
     "data": {
      "image/png": "[encoded data removed]",
      "text/plain": [
       "<Figure size 432x288 with 1 Axes>"
      ]
     },
     "metadata": {
      "needs_background": "light"
     },
     "output_type": "display_data"
    }
   ],
   "source": [
    "import matplotlib.pyplot as plt\n",
    "x_values = top_movie\t# x축 지점의 값들\n",
    "y_values = top_movie_score\t# y축 지점의 값들\n",
    "plt.bar(x_values, y_values)\t# bar 그래프를 그립니다\n",
    "plt.show()\t# 그래프를 화면에 보여줍니다   "
   ]
  },
  {
   "cell_type": "markdown",
   "id": "a1770eea",
   "metadata": {},
   "source": [
    "### Regular Expression"
   ]
  },
  {
   "cell_type": "code",
   "execution_count": 51,
   "id": "f025797c",
   "metadata": {},
   "outputs": [],
   "source": [
    "import re\n",
    "letter = re.sub('[^a-zA-Z]',' ',letter)"
   ]
  },
  {
   "cell_type": "markdown",
   "id": "a68a9378",
   "metadata": {},
   "source": [
    "###  소문자 변환 & 토큰화"
   ]
  },
  {
   "cell_type": "code",
   "execution_count": 52,
   "id": "c0a4a009",
   "metadata": {},
   "outputs": [],
   "source": [
    "letter = letter.lower()\n",
    "words = letter.split(\" \")\n",
    "words = list(filter(('').__ne__, words))"
   ]
  },
  {
   "cell_type": "markdown",
   "id": "911bc778",
   "metadata": {},
   "source": [
    "### 불용어 제거\n",
    "NLTK 자체는 내장되어 있지만 특정 불용어 규칙을 사용하기 위해서는 nltk data 에서 원하는 불용어 규칙을\n",
    "다운받은 다음 (Win 일 경우)  C/nltk-data/corpora/다운받은 불용어 규칙\n",
    "www.nltk.org/nltk_data"
   ]
  },
  {
   "cell_type": "code",
   "execution_count": 53,
   "id": "712eaab8",
   "metadata": {
    "scrolled": false
   },
   "outputs": [],
   "source": [
    "import nltk\n",
    "from nltk.corpus import stopwords\n",
    "stopword = stopwords.words('english')"
   ]
  },
  {
   "cell_type": "code",
   "execution_count": 54,
   "id": "15ce50d1",
   "metadata": {},
   "outputs": [],
   "source": [
    "words = [w for w in words if not w in stopwords.words('english')]"
   ]
  },
  {
   "cell_type": "markdown",
   "id": "6d35abeb",
   "metadata": {},
   "source": [
    "### Stemming - 어간 추출, 형태소 분석기 사용"
   ]
  },
  {
   "cell_type": "code",
   "execution_count": 40,
   "id": "0c4109c5",
   "metadata": {},
   "outputs": [],
   "source": [
    "#  스노우볼 스테머의 사용\n",
    "from nltk.stem.snowball import SnowballStemmer\n",
    "stemmer = SnowballStemmer('english')\n",
    "words = [stemmer.stem(w) for w in words]"
   ]
  },
  {
   "cell_type": "markdown",
   "id": "c3810456",
   "metadata": {},
   "source": [
    "### Lemmatization (음소 표기법) - 동음이의어 등"
   ]
  },
  {
   "cell_type": "code",
   "execution_count": 41,
   "id": "002926b2",
   "metadata": {},
   "outputs": [],
   "source": [
    "from nltk.stem import WordNetLemmatizer\n",
    "wordnet_lemmatizer = WordNetLemmatizer()\n",
    "words = [wordnet_lemmatizer.lemmatize(w) for w in words]"
   ]
  },
  {
   "cell_type": "markdown",
   "id": "f8275480",
   "metadata": {},
   "source": [
    "### 단어 빈도수 측정"
   ]
  },
  {
   "cell_type": "code",
   "execution_count": 42,
   "id": "f3d192a0",
   "metadata": {},
   "outputs": [],
   "source": [
    "wordCount = {} \n",
    "wordCounts = []\n",
    " # word -> count 기준 정렬한 dictionary\n",
    "for word in words:\n",
    "    # Get 명령어를 통해, Dictionary에 Key가 없으면 0리턴\n",
    "    wordCount[word] = wordCount.get(word, 0) + 1 \n",
    "    \n",
    "keys = sorted(wordCount.items(),key=(lambda x:x[1]),reverse=True)\n",
    "\n",
    "ratio = []\n",
    "labels = []\n",
    "lists = []\n",
    "for word in keys:\n",
    "    ratio.append(word[1])\n",
    "    labels.append(word[0])\n",
    "    lists.append(word[0])  \n",
    "    wordCounts.append(word[1])\n",
    "\n",
    "\n",
    "keys = dict(keys)\n",
    "to_pd = pd.Series(keys)\n",
    "to_pd.to_csv(\"description_wording.csv\",mode=\"w\")"
   ]
  },
  {
   "cell_type": "code",
   "execution_count": 43,
   "id": "f27879a1",
   "metadata": {},
   "outputs": [
    {
     "data": {
      "image/png": "[encoded data removed]",
      "text/plain": [
       "<Figure size 432x288 with 1 Axes>"
      ]
     },
     "metadata": {
      "needs_background": "light"
     },
     "output_type": "display_data"
    }
   ],
   "source": [
    "import matplotlib.pyplot as plt\n",
    "x_values = labels[:10]\t# x축 지점의 값들\n",
    "y_values = ratio[:10]\t# y축 지점의 값들\n",
    "plt.bar(x_values, y_values)\t# bar 그래프를 그립니다\n",
    "plt.show()\t# 그래프를 화면에 보여줍니다    \n"
   ]
  },
  {
   "cell_type": "markdown",
   "id": "25b214c7",
   "metadata": {},
   "source": [
    "### 빈도 낮은 단어 제거"
   ]
  },
  {
   "cell_type": "code",
   "execution_count": null,
   "id": "b656d7e5",
   "metadata": {},
   "outputs": [],
   "source": [
    "threshold = 3\n",
    "\n",
    "words_cnt = len(words)\n",
    "words_freq = 0\n",
    "\n",
    "#빈도수가 낮은 데이터\n",
    "rare_cnt = 0\n",
    "rare_freq = 0\n",
    "\n",
    "for key,value in tokenizer.word_counts.items():\n",
    "    words_freq = words_freq + value\n",
    "    \n",
    "    if value < threshold:\n",
    "        rare_cnt += 1\n",
    "        rare_freq = rare_freq + value\n",
    "\n",
    "print(\"전체 단어 수 :\", words_cnt)\n",
    "print(\"빈도가 {} 이하인 희귀 단어 수 : {}\".format(threshold-1, rare_cnt))\n",
    "print(\"희귀 단어 비율: {}\".format((rare_cnt / words_cnt) *100))\n",
    "print(\"희귀 단어 등장 빈도 비율: {}\".format((rare_freq / words_freq)*100))"
   ]
  }
 ],
 "metadata": {
  "kernelspec": {
   "display_name": "tensor",
   "language": "python",
   "name": "tensor"
  },
  "language_info": {
   "codemirror_mode": {
    "name": "ipython",
    "version": 3
   },
   "file_extension": ".py",
   "mimetype": "text/x-python",
   "name": "python",
   "nbconvert_exporter": "python",
   "pygments_lexer": "ipython3",
   "version": "3.8.8"
  }
 },
 "nbformat": 4,
 "nbformat_minor": 5
}
