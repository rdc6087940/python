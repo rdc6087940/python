{
 "cells": [
  {
   "cell_type": "code",
   "execution_count": 1,
   "id": "6ff0e0a3",
   "metadata": {},
   "outputs": [
    {
     "name": "stdout",
     "output_type": "stream",
     "text": [
      "Collecting afinn\n",
      "  Downloading afinn-0.1.tar.gz (52 kB)\n",
      "Building wheels for collected packages: afinn\n",
      "  Building wheel for afinn (setup.py): started\n",
      "  Building wheel for afinn (setup.py): finished with status 'done'\n",
      "  Created wheel for afinn: filename=afinn-0.1-py3-none-any.whl size=53449 sha256=5b8b16614b1073fb0e536e175f7c046d22a37eb49d8acf142448e329cf51c66d\n",
      "  Stored in directory: c:\\users\\kosmo_\\appdata\\local\\pip\\cache\\wheels\\f6\\6f\\c3\\b305c5107a17618f2938a067d5ffcbb556909d82398762089e\n",
      "Successfully built afinn\n",
      "Installing collected packages: afinn\n",
      "Successfully installed afinn-0.1\n"
     ]
    },
    {
     "name": "stderr",
     "output_type": "stream",
     "text": [
      "WARNING: Ignoring invalid distribution -pype1 (c:\\users\\kosmo_\\anaconda3\\lib\\site-packages)\n",
      "WARNING: Ignoring invalid distribution -pype1 (c:\\users\\kosmo_\\anaconda3\\lib\\site-packages)\n",
      "WARNING: Ignoring invalid distribution -pype1 (c:\\users\\kosmo_\\anaconda3\\lib\\site-packages)\n",
      "WARNING: Ignoring invalid distribution -pype1 (c:\\users\\kosmo_\\anaconda3\\lib\\site-packages)\n",
      "WARNING: Ignoring invalid distribution -pype1 (c:\\users\\kosmo_\\anaconda3\\lib\\site-packages)\n",
      "WARNING: Ignoring invalid distribution -pype1 (c:\\users\\kosmo_\\anaconda3\\lib\\site-packages)\n"
     ]
    }
   ],
   "source": [
    "# 감정 분석 패키지 \n",
    "# !pip install afinn"
   ]
  },
  {
   "cell_type": "code",
   "execution_count": 2,
   "id": "8733c9b3",
   "metadata": {},
   "outputs": [
    {
     "data": {
      "text/plain": [
       "\"From: lerxst@wam.umd.edu (where's my thing)\\nSubject: WHAT car is this!?\\nNntp-Posting-Host: rac3.wam.umd.edu\\nOrganization: University of Maryland, College Park\\nLines: 15\\n\\n I was wondering if anyone out there could enlighten me on this car I saw\\nthe other day. It was a 2-door sports car, looked to be from the late 60s/\\nearly 70s. It was called a Bricklin. The doors were really small. In addition,\\nthe front bumper was separate from the rest of the body. This is \\nall I know. If anyone can tellme a model name, engine specs, years\\nof production, where this car is made, history, or whatever info you\\nhave on this funky looking car, please e-mail.\\n\\nThanks,\\n- IL\\n   ---- brought to you by your neighborhood Lerxst ----\\n\\n\\n\\n\\n\""
      ]
     },
     "execution_count": 2,
     "metadata": {},
     "output_type": "execute_result"
    }
   ],
   "source": [
    "# 데이터 준비\n",
    "# 사이킷런에 내장되어 있는 뉴스그룹 데이터를 이용함\n",
    "from sklearn.datasets import fetch_20newsgroups\n",
    "\n",
    "newsdata = fetch_20newsgroups(subset='train')\n",
    "newsdata.data[0]"
   ]
  },
  {
   "cell_type": "code",
   "execution_count": 3,
   "id": "ccc5002a",
   "metadata": {},
   "outputs": [
    {
     "name": "stdout",
     "output_type": "stream",
     "text": [
      "7.0\n",
      "11.0\n",
      "16.0\n",
      "5.0\n",
      "-23.0\n",
      "-25.0\n",
      "7.0\n",
      "3.0\n",
      "16.0\n",
      "-20.0\n"
     ]
    }
   ],
   "source": [
    "# 감정 분석 패키지 장착\n",
    "from afinn import Afinn\n",
    "\n",
    "# 데이터 문장에 대한 감정 스코어 출력\n",
    "afinn = Afinn()\n",
    "for i in range(10):\n",
    "    print(afinn.score(newsdata.data[i]))"
   ]
  },
  {
   "cell_type": "code",
   "execution_count": 5,
   "id": "c73bd8d4",
   "metadata": {},
   "outputs": [
    {
     "data": {
      "image/png": "[encoded data removed]",
      "text/plain": [
       "<Figure size 432x288 with 1 Axes>"
      ]
     },
     "metadata": {},
     "output_type": "display_data"
    }
   ],
   "source": [
    "# matplotlib 을 이용한 시각화 자료 만들기 \n",
    "import numpy as np\n",
    "import matplotlib.pyplot as pit\n",
    "pit.style.use('seaborn-white')\n",
    "\n",
    "positive=0\n",
    "neutral = 0\n",
    "negative = 0\n",
    "\n",
    "for i in newsdata.data:\n",
    "    score = afinn.score(i)\n",
    "    if score>0:\n",
    "        positive += 1\n",
    "    elif score==0:\n",
    "        neutral +=1\n",
    "    else:\n",
    "        negative += 1\n",
    "\n",
    "pit.bar(np.arange(3),[positive,neutral,negative])\n",
    "pit.xticks(np.arange(3), ['positive','neutral','negative'])\n",
    "pit.show()"
   ]
  },
  {
   "cell_type": "code",
   "execution_count": null,
   "id": "9500ed98",
   "metadata": {},
   "outputs": [],
   "source": []
  }
 ],
 "metadata": {
  "kernelspec": {
   "display_name": "Python 3",
   "language": "python",
   "name": "python3"
  },
  "language_info": {
   "codemirror_mode": {
    "name": "ipython",
    "version": 3
   },
   "file_extension": ".py",
   "mimetype": "text/x-python",
   "name": "python",
   "nbconvert_exporter": "python",
   "pygments_lexer": "ipython3",
   "version": "3.8.8"
  }
 },
 "nbformat": 4,
 "nbformat_minor": 5
}
