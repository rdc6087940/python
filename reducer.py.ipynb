{
 "cells": [
  {
   "cell_type": "code",
   "execution_count": null,
   "id": "996e61c6",
   "metadata": {},
   "outputs": [],
   "source": [
    "#!/usr/bin/env python \n",
    "\"\"\"reducer.py\"\"\"\n",
    "from operator import itemgetter \n",
    "import sys \n",
    "\n",
    "current_word = None \n",
    "current_count = 0 \n",
    "word = None \n",
    "\n",
    "# input comes from STDIN \n",
    "for line in sys.stdin: \n",
    "    # remove leading and trailing whitespace \n",
    "    line = line.strip() \n",
    "    \n",
    "    # parse the input we got from mapper.py \n",
    "    word, count = line.split('\\t', 1) \n",
    "    \n",
    "    # convert count (currently a string) to int \n",
    "    try: \n",
    "        count = int(count) \n",
    "    except ValueError: \n",
    "        # count was not a number, so silently\n",
    "        # ignore/discard this line \n",
    "        continue\n",
    "        \n",
    "     # this IF-switch only works because Hadoop sorts map output\n",
    "     # by key (here: word) before it is passed to the reducer \n",
    "        if current_word == word:\n",
    "            current_count += count \n",
    "        else: \n",
    "            if current_word:\n",
    "                # write result to STDOUT \n",
    "                print ('%s\\t%s' % (current_word, current_count))\n",
    "            current_count = count \n",
    "            current_word = word \n",
    "# do not forget to output the last word if needed! \n",
    "if current_word == word:\n",
    "    print ('%s\\t%s' % (current_word, current_count))\n"
   ]
  }
 ],
 "metadata": {
  "kernelspec": {
   "display_name": "Python [conda env:tensor] *",
   "language": "python",
   "name": "conda-env-tensor-py"
  },
  "language_info": {
   "codemirror_mode": {
    "name": "ipython",
    "version": 3
   },
   "file_extension": ".py",
   "mimetype": "text/x-python",
   "name": "python",
   "nbconvert_exporter": "python",
   "pygments_lexer": "ipython3",
   "version": "3.8.11"
  }
 },
 "nbformat": 4,
 "nbformat_minor": 5
}
