{
 "cells": [
  {
   "cell_type": "markdown",
   "id": "53692638",
   "metadata": {},
   "source": [
    "# 멀티 프로세싱 코드"
   ]
  },
  {
   "cell_type": "code",
   "execution_count": null,
   "id": "74e21d77",
   "metadata": {},
   "outputs": [],
   "source": [
    "import multiprocessing\n",
    "import pandas as pd\n",
    "import numpy as np"
   ]
  },
  {
   "cell_type": "markdown",
   "id": "cde5387a",
   "metadata": {},
   "source": [
    "- 기본 멀티 프로세싱 "
   ]
  },
  {
   "cell_type": "markdown",
   "id": "a19ef4ee",
   "metadata": {},
   "source": [
    "프로세싱 구조 설명 링크\n",
    "\n",
    "http://www.racketracer.com/2016/07/06/pandas-in-parallel/"
   ]
  },
  {
   "cell_type": "code",
   "execution_count": null,
   "id": "4ce9f9e3",
   "metadata": {},
   "outputs": [],
   "source": [
    "def _apply_df(args):\n",
    "    df, func, kwargs = args\n",
    "    return df.apply(func, **kwargs)\n",
    "\n",
    "def apply_by_multiprocessing(df, func, **kwargs):\n",
    "    # 키워드 항목 중 workers 파라미터 추출\n",
    "    workers = kwargs.pop('workers')\n",
    "    \n",
    "    # 위에서 가져온 workers 수로 프로세스 풀을 정의\n",
    "    pool = multiprocessing.Pool(processes=workers)\n",
    "    \n",
    "    # 실행할 함수와 데이터프레임을 워커의 수 만큼 나눠서 작업\n",
    "    result = pool.map(_apply_df, [(d, func, kwargs)\n",
    "            for d in np.array_split(df, workers)])\n",
    "    pool.close()\n",
    "    \n",
    "    # 작업 결과를 합쳐서 반환\n",
    "    return pd.concat(list(result))\n"
   ]
  },
  {
   "cell_type": "code",
   "execution_count": null,
   "id": "da9c9cbe",
   "metadata": {},
   "outputs": [],
   "source": [
    "\n",
    "def square(x):\n",
    "    return x**x\n",
    "    \n",
    "if __name__ == '__main__':\n",
    "    df = pd.DataFrame({'a':range(10), 'b':range(10)})\n",
    "    apply_by_multiprocessing(df, square, axis=1, workers=4)  \n",
    "    ## run by 4 processors"
   ]
  }
 ],
 "metadata": {
  "kernelspec": {
   "display_name": "tensor",
   "language": "python",
   "name": "tensor"
  },
  "language_info": {
   "codemirror_mode": {
    "name": "ipython",
    "version": 3
   },
   "file_extension": ".py",
   "mimetype": "text/x-python",
   "name": "python",
   "nbconvert_exporter": "python",
   "pygments_lexer": "ipython3",
   "version": "3.8.8"
  }
 },
 "nbformat": 4,
 "nbformat_minor": 5
}
