{
 "cells": [
  {
   "cell_type": "code",
   "execution_count": null,
   "id": "6ce94363",
   "metadata": {},
   "outputs": [],
   "source": [
    "import time\n",
    "import multiprocessing\n",
    "\n",
    "# 시작 시간\n",
    "start_time = time.time()\n",
    "\n",
    "#멀티쓰레드 사용하는 경우 (20만 카운트)\n",
    "#Pool 사용해서 함수 실행을 병렬\n",
    "def count(name):\n",
    "    for i in range(1,50001):\n",
    "        print(name,\" : \",i)\n",
    "\n",
    "num_list = ['p1','p2','p3','p4']\n",
    "\n",
    "if __name__ == '__main__':\n",
    "    # 멀티 쓰레딩 Pool\n",
    "    pool = multiprocessing.Pool(processes=2)\n",
    "    pool.map(count, num_list)\n",
    "    pool.close()\n",
    "    pool.join()\n",
    "    \n",
    "print(\"-- %s seconds ---\" % (time.time() - start_time))"
   ]
  },
  {
   "cell_type": "code",
   "execution_count": null,
   "id": "40e1abbe",
   "metadata": {},
   "outputs": [],
   "source": []
  }
 ],
 "metadata": {
  "kernelspec": {
   "display_name": "Python [conda env:tensor] *",
   "language": "python",
   "name": "conda-env-tensor-py"
  },
  "language_info": {
   "codemirror_mode": {
    "name": "ipython",
    "version": 3
   },
   "file_extension": ".py",
   "mimetype": "text/x-python",
   "name": "python",
   "nbconvert_exporter": "python",
   "pygments_lexer": "ipython3",
   "version": "3.8.11"
  }
 },
 "nbformat": 4,
 "nbformat_minor": 5
}
