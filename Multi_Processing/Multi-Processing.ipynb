{
 "cells": [
  {
   "cell_type": "code",
   "execution_count": null,
   "id": "1ecc28fd",
   "metadata": {},
   "outputs": [],
   "source": [
    "# 멀티 프로세싱 코드\n",
    "import multiprocessing\n",
    "import pandas as pd\n",
    "import numpy as np\n",
    "\n",
    "\n",
    "#****** 기본 멀티 프로세싱 *********************************************\n",
    "# 프로세싱 구조 설명 링크\n",
    "# http://www.racketracer.com/2016/07/06/pandas-in-parallel/\n",
    "def _apply_df(args):\n",
    "    df, func, kwargs = args\n",
    "    return df.apply(func, **kwargs)\n",
    "\n",
    "def apply_by_multiprocessing(df, func, **kwargs):\n",
    "    # 키워드 항목 중 workers 파라미터 추출\n",
    "    workers = kwargs.pop('workers')\n",
    "    \n",
    "    # 위에서 가져온 workers 수로 프로세스 풀을 정의\n",
    "    pool = multiprocessing.Pool(processes=workers)\n",
    "    \n",
    "    # 실행할 함수와 데이터프레임을 워커의 수 만큼 나눠서 작업\n",
    "    result = pool.map(_apply_df, [(d, func, kwargs)\n",
    "            for d in np.array_split(df, workers)])\n",
    "    pool.close()\n",
    "    \n",
    "    # 작업 결과를 합쳐서 반환\n",
    "    return pd.concat(list(result))\n",
    "\n",
    "\n",
    "#**********************************************************************\n",
    "def square(x):\n",
    "    return x**x\n",
    "    \n",
    "if __name__ == '__main__':\n",
    "    df = pd.DataFrame({'a':range(10), 'b':range(10)})\n",
    "    apply_by_multiprocessing(df, square, axis=1, workers=4)  \n",
    "    ## run by 4 processors"
   ]
  },
  {
   "cell_type": "code",
   "execution_count": null,
   "id": "e6a0cb9c",
   "metadata": {},
   "outputs": [],
   "source": []
  }
 ],
 "metadata": {
  "kernelspec": {
   "display_name": "Python 3",
   "language": "python",
   "name": "python3"
  },
  "language_info": {
   "codemirror_mode": {
    "name": "ipython",
    "version": 3
   },
   "file_extension": ".py",
   "mimetype": "text/x-python",
   "name": "python",
   "nbconvert_exporter": "python",
   "pygments_lexer": "ipython3",
   "version": "3.8.8"
  }
 },
 "nbformat": 4,
 "nbformat_minor": 5
}
