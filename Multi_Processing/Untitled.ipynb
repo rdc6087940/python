{
 "cells": [
  {
   "cell_type": "code",
   "execution_count": 2,
   "id": "3a5f6777",
   "metadata": {},
   "outputs": [
    {
     "name": "stderr",
     "output_type": "stream",
     "text": [
      "100%|████████████████████████████████████████████████████████████████████████████████████| 4/4 [00:00<00:00, 69.43it/s]\n"
     ]
    }
   ],
   "source": [
    "import multiprocessing\n",
    "import parmap\n",
    "import numpy as np\n",
    "import square\n",
    "\n",
    "num_cores = multiprocessing.cpu_count() # 12\n",
    "\n",
    "data = list(range(1, 25))\n",
    "splited_data =  np.array_split(data, num_cores)\n",
    "splited_data = [x.tolist() for x in splited_data]\n",
    "\n",
    "result = parmap.map(square.square , splited_data, pm_pbar=True, pm_processes=num_cores)"
   ]
  },
  {
   "cell_type": "code",
   "execution_count": null,
   "id": "11cc74db",
   "metadata": {},
   "outputs": [],
   "source": []
  }
 ],
 "metadata": {
  "kernelspec": {
   "display_name": "Python [conda env:tensor] *",
   "language": "python",
   "name": "conda-env-tensor-py"
  },
  "language_info": {
   "codemirror_mode": {
    "name": "ipython",
    "version": 3
   },
   "file_extension": ".py",
   "mimetype": "text/x-python",
   "name": "python",
   "nbconvert_exporter": "python",
   "pygments_lexer": "ipython3",
   "version": "3.8.11"
  }
 },
 "nbformat": 4,
 "nbformat_minor": 5
}
