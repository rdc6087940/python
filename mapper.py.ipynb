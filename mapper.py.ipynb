{
 "cells": [
  {
   "cell_type": "code",
   "execution_count": null,
   "id": "a28d0559",
   "metadata": {},
   "outputs": [],
   "source": [
    "#!/usr/bin/env python \n",
    "\"\"\"mapper.py\"\"\"\n",
    "\n",
    "import sys \n",
    "# input comes from STDIN (standard input) \n",
    "for line in sys.stdin: \n",
    "    # remove leading and trailing whitespace \n",
    "    line = line.strip() \n",
    "    # split the line into words \n",
    "    words = line.split() \n",
    "    # increase counters \n",
    "    for word in words: \n",
    "        # write the results to STDOUT (standard output); \n",
    "        # what we output here will be the input for the \n",
    "        # Reduce step, i.e. the input for reducer.py \n",
    "        # \n",
    "        # tab-delimited; the trivial word count is 1 \n",
    "        print ('%s\\t%s' % (word, 1))\n",
    "\n"
   ]
  }
 ],
 "metadata": {
  "kernelspec": {
   "display_name": "Python [conda env:tensor] *",
   "language": "python",
   "name": "conda-env-tensor-py"
  },
  "language_info": {
   "codemirror_mode": {
    "name": "ipython",
    "version": 3
   },
   "file_extension": ".py",
   "mimetype": "text/x-python",
   "name": "python",
   "nbconvert_exporter": "python",
   "pygments_lexer": "ipython3",
   "version": "3.8.11"
  }
 },
 "nbformat": 4,
 "nbformat_minor": 5
}
