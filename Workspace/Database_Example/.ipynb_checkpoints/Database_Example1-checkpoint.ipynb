{
 "cells": [
  {
   "cell_type": "markdown",
   "id": "9e674ab3",
   "metadata": {},
   "source": [
    "# 1. 현재 아나콘다 환경에 pymysql 설치"
   ]
  },
  {
   "cell_type": "code",
   "execution_count": 1,
   "id": "461a6189",
   "metadata": {},
   "outputs": [
    {
     "name": "stdout",
     "output_type": "stream",
     "text": [
      "# packages in environment at C:\\Users\\kosmo_\\anaconda3\\envs\\tensor:\n",
      "#\n",
      "# Name                    Version                   Build  Channel\n",
      "pymysql                   1.0.2                    pypi_0    pypi\n"
     ]
    }
   ],
   "source": [
    "#!conda install PyMySQL"
   ]
  },
  {
   "cell_type": "markdown",
   "id": "ebe8407c",
   "metadata": {},
   "source": [
    "# 2. pymysql과  pandas 임포트"
   ]
  },
  {
   "cell_type": "code",
   "execution_count": 9,
   "id": "48a5e36e",
   "metadata": {},
   "outputs": [],
   "source": [
    "import pymysql\n",
    "import pandas as pd"
   ]
  },
  {
   "cell_type": "markdown",
   "id": "315aa14d",
   "metadata": {},
   "source": [
    "#  3. DB 정보 입력"
   ]
  },
  {
   "cell_type": "code",
   "execution_count": 14,
   "id": "9ab46ae0",
   "metadata": {},
   "outputs": [],
   "source": [
    "conn = pymysql.connect(\n",
    "    user='admin', \n",
    "    passwd='rladlscjf0!', \n",
    "    host='kic.cj7mov3fe2u4.ap-northeast-2.rds.amazonaws.com', \n",
    "    db='pythondb', \n",
    "    charset='utf8'\n",
    ")"
   ]
  },
  {
   "cell_type": "markdown",
   "id": "6238f5a4",
   "metadata": {},
   "source": [
    "#  4. Cursor 객체 만들기"
   ]
  },
  {
   "cell_type": "code",
   "execution_count": 11,
   "id": "414cea90",
   "metadata": {},
   "outputs": [],
   "source": [
    "cursor = conn.cursor(pymysql.cursors.DictCursor)"
   ]
  },
  {
   "cell_type": "markdown",
   "id": "b2cb2434",
   "metadata": {},
   "source": [
    "# 5. SQL 문장 작성"
   ]
  },
  {
   "cell_type": "code",
   "execution_count": 12,
   "id": "e35a86f1",
   "metadata": {},
   "outputs": [],
   "source": [
    "sql = \"SELECT * FROM `emp`;\"\n",
    "cursor.execute(sql)\n",
    "result = cursor.fetchall()"
   ]
  },
  {
   "cell_type": "markdown",
   "id": "9ad8fb81",
   "metadata": {},
   "source": [
    "# 6. Pandas 등을 이용하여 데이터 조작"
   ]
  },
  {
   "cell_type": "code",
   "execution_count": 13,
   "id": "d60bb418",
   "metadata": {},
   "outputs": [
    {
     "data": {
      "text/html": [
       "<div>\n",
       "<style scoped>\n",
       "    .dataframe tbody tr th:only-of-type {\n",
       "        vertical-align: middle;\n",
       "    }\n",
       "\n",
       "    .dataframe tbody tr th {\n",
       "        vertical-align: top;\n",
       "    }\n",
       "\n",
       "    .dataframe thead th {\n",
       "        text-align: right;\n",
       "    }\n",
       "</style>\n",
       "<table border=\"1\" class=\"dataframe\">\n",
       "  <thead>\n",
       "    <tr style=\"text-align: right;\">\n",
       "      <th></th>\n",
       "    </tr>\n",
       "  </thead>\n",
       "  <tbody>\n",
       "  </tbody>\n",
       "</table>\n",
       "</div>"
      ],
      "text/plain": [
       "Empty DataFrame\n",
       "Columns: []\n",
       "Index: []"
      ]
     },
     "execution_count": 13,
     "metadata": {},
     "output_type": "execute_result"
    }
   ],
   "source": [
    "\n",
    "\n",
    "\n",
    "result = pd.DataFrame(result)\n",
    "result"
   ]
  },
  {
   "cell_type": "code",
   "execution_count": null,
   "id": "a3ea077f",
   "metadata": {},
   "outputs": [],
   "source": []
  }
 ],
 "metadata": {
  "kernelspec": {
   "display_name": "Python [conda env:tensor] *",
   "language": "python",
   "name": "conda-env-tensor-py"
  },
  "language_info": {
   "codemirror_mode": {
    "name": "ipython",
    "version": 3
   },
   "file_extension": ".py",
   "mimetype": "text/x-python",
   "name": "python",
   "nbconvert_exporter": "python",
   "pygments_lexer": "ipython3",
   "version": "3.8.11"
  }
 },
 "nbformat": 4,
 "nbformat_minor": 5
}
