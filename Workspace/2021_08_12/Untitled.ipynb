{
 "cells": [
  {
   "cell_type": "code",
   "execution_count": 9,
   "id": "4bc1a616",
   "metadata": {},
   "outputs": [
    {
     "name": "stdout",
     "output_type": "stream",
     "text": [
      "775\n"
     ]
    }
   ],
   "source": [
    "f = open(\"sample.txt\",'rt', encoding='UTF8')\n",
    "line = f.readlines()\n",
    "sum=0\n",
    "for i in line:\n",
    "    sum = sum+int(i)\n",
    "print(sum)\n",
    "f.close()\n"
   ]
  },
  {
   "cell_type": "code",
   "execution_count": 8,
   "id": "7c146b09",
   "metadata": {},
   "outputs": [
    {
     "name": "stdout",
     "output_type": "stream",
     "text": [
      "0 --- 나는 새로운 곳을 여행하는 꿈이 있습니다.\n",
      "\n",
      "1 --- 새로운 사람들을 만나고\n",
      "\n",
      "2 --- 새로운 음식을 접하며\n",
      "\n",
      "3 --- 새로운 경험을 즐깁니다\n",
      "\n",
      "4 --- 새로운 느낌은 항상 나를 설레게합니다.\n"
     ]
    }
   ],
   "source": [
    "f2 = open(\"dream.txt\",'rt', encoding='UTF8')\n",
    "line = f2.readlines()\n",
    "cnt=0\n",
    "for i in line:\n",
    "    print(cnt,\"---\",i)\n",
    "    cnt += 1\n",
    "f2.close()"
   ]
  },
  {
   "cell_type": "code",
   "execution_count": 12,
   "id": "ddcb37fe",
   "metadata": {},
   "outputs": [
    {
     "name": "stdout",
     "output_type": "stream",
     "text": [
      "총 글자의 수: 64\n",
      "총 단어의 수: 20\n",
      "총 줄의 수: 5\n"
     ]
    }
   ],
   "source": [
    "f3 = open(\"dream.txt\",'rt', encoding='UTF8')\n",
    "lines = f3.readlines()\n",
    "\n",
    "letter_cnt=0\n",
    "word_cnt=0\n",
    "line_cnt=0\n",
    "\n",
    "for line in lines:\n",
    "    line_cnt += 1\n",
    "    words = line.split()\n",
    "    for letter in words:\n",
    "        letter_cnt += len(letter)\n",
    "        \n",
    "    word_cnt += len(words)\n",
    "\n",
    "print(\"총 글자의 수:\",letter_cnt)\n",
    "print(\"총 단어의 수:\",word_cnt)\n",
    "print(\"총 줄의 수:\",line_cnt)\n",
    "\n",
    "f3.close()"
   ]
  },
  {
   "cell_type": "code",
   "execution_count": 32,
   "id": "c433a935",
   "metadata": {},
   "outputs": [
    {
     "name": "stdout",
     "output_type": "stream",
     "text": [
      "202108121524382855290\n"
     ]
    }
   ],
   "source": [
    "from pathlib import Path\n",
    "import os\n",
    "\n",
    "\n",
    "\n",
    "from datetime import datetime\n",
    "from random import *\n",
    "\n",
    "direc = Path('logtemp')\n",
    "direc.mkdir(exist_ok=True)\n",
    "\n",
    "\n",
    "print(log)\n",
    "for i in range(0,10):\n",
    "    times = datetime.today().strftime(\"%Y%m%d%H%M%S\")\n",
    "    rand = randint(1, 9999999)\n",
    "    log = str(times)+str(rand)\n",
    "    if os.path.isfile('logtemp/temp_log.txt'):\n",
    "        f=open('logtemp/temp_log.txt','a', encoding='UTF8')\n",
    "        f.write(log)\n",
    "        f.write(\"\\n\")\n",
    "    else:\n",
    "        f=open('logtemp/temp_log.txt','w', encoding='UTF8')\n",
    "        f.write(log)\n",
    "        \n",
    "    \n",
    "\n",
    "    \n"
   ]
  },
  {
   "cell_type": "code",
   "execution_count": null,
   "id": "2eb7d7f7",
   "metadata": {},
   "outputs": [],
   "source": []
  }
 ],
 "metadata": {
  "kernelspec": {
   "display_name": "Python [conda env:tensor] *",
   "language": "python",
   "name": "conda-env-tensor-py"
  },
  "language_info": {
   "codemirror_mode": {
    "name": "ipython",
    "version": 3
   },
   "file_extension": ".py",
   "mimetype": "text/x-python",
   "name": "python",
   "nbconvert_exporter": "python",
   "pygments_lexer": "ipython3",
   "version": "3.8.11"
  }
 },
 "nbformat": 4,
 "nbformat_minor": 5
}
