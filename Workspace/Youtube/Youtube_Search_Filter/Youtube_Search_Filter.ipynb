{
 "cells": [
  {
   "cell_type": "markdown",
   "id": "86cf6666",
   "metadata": {},
   "source": [
    "# 유튜브 검색 (필터)"
   ]
  },
  {
   "cell_type": "markdown",
   "id": "57703121",
   "metadata": {},
   "source": [
    "## 라이브러리 선언"
   ]
  },
  {
   "cell_type": "code",
   "execution_count": 48,
   "id": "9aba49ea",
   "metadata": {},
   "outputs": [],
   "source": [
    "import requests\n",
    "from bs4 import BeautifulSoup\n",
    "import time\n",
    "import urllib.request\n",
    "from selenium.webdriver import Chrome\n",
    "import re\n",
    "from selenium.webdriver.chrome.options import Options\n",
    "from selenium.webdriver.common.keys import Keys\n",
    "import datetime as dt"
   ]
  },
  {
   "cell_type": "markdown",
   "id": "f0267012",
   "metadata": {},
   "source": [
    "## Chrome drive path 지정 "
   ]
  },
  {
   "cell_type": "code",
   "execution_count": 49,
   "id": "a6dbb28b",
   "metadata": {},
   "outputs": [],
   "source": [
    "path = \"C:/tool/chromedriver.exe\"\n",
    "delay = 3\n",
    "browser = Chrome(path)\n",
    "browser.implicitly_wait(delay)"
   ]
  },
  {
   "cell_type": "markdown",
   "id": "c9fddd84",
   "metadata": {},
   "source": [
    "## 유튜브 접속"
   ]
  },
  {
   "cell_type": "code",
   "execution_count": 51,
   "id": "086c66a4",
   "metadata": {},
   "outputs": [],
   "source": [
    "start_url = \"https://www.youtube.com\"\n",
    "browser.get(start_url)\n",
    "# browser.maximize_window()"
   ]
  },
  {
   "cell_type": "markdown",
   "id": "694fc088",
   "metadata": {},
   "source": [
    "## 키워드 지정"
   ]
  },
  {
   "cell_type": "code",
   "execution_count": 52,
   "id": "5361518c",
   "metadata": {},
   "outputs": [],
   "source": [
    "keyword = \"코로나\"\n",
    "\n",
    "browser.find_elements_by_xpath('//*[@id=\"search-input\"]')[0].click()\n",
    "browser.find_element_by_xpath('//*[@id=\"search-form\"]/div/div/div/div[2]/input').send_keys(keyword)\n",
    "browser.find_element_by_xpath('//*[@id=\"search-form\"]/div/div/div/div[2]/input').send_keys(Keys.RETURN)"
   ]
  },
  {
   "cell_type": "markdown",
   "id": "26f095a4",
   "metadata": {},
   "source": [
    "## 필터 정보 설정"
   ]
  },
  {
   "cell_type": "code",
   "execution_count": 46,
   "id": "6fe6229e",
   "metadata": {},
   "outputs": [],
   "source": [
    "# 필터 창이 내려가는 속도에 맞추기 위해서 임의로 sleep한 후에 버튼 클릭\n",
    "time.sleep(1)\n",
    "browser.find_element_by_xpath('//*[@id=\"container\"]/ytd-toggle-button-renderer/a').click()\n",
    "time.sleep(1)\n",
    "\n",
    "\n",
    "\n"
   ]
  },
  {
   "cell_type": "markdown",
   "id": "0182f0a1",
   "metadata": {},
   "source": [
    "### 업로드 날짜"
   ]
  },
  {
   "cell_type": "code",
   "execution_count": null,
   "id": "6b87234f",
   "metadata": {},
   "outputs": [],
   "source": [
    "# 필터 기준 - 업로드 날짜\n",
    "upload_date = browser.find_element_by_xpath('//*[@id=\"collapse-content\"]/ytd-search-filter-group-renderer[1]')\n",
    "click_list_1 = upload_date.find_elements_by_id(\"endpoint\")\n",
    "\n",
    "# 지난 1시간\n",
    "#click_list_1[0].click()\n",
    "\n",
    "# 오늘\n",
    "click_list_1[1].click()\n",
    "\n",
    "# 이번 주\n",
    "#click_list_1[2].click()\n",
    "\n",
    "# 이번 달\n",
    "#click_list_1[3].click()\n",
    "\n",
    "# 올해\n",
    "#click_list_1[4].click()"
   ]
  },
  {
   "cell_type": "markdown",
   "id": "4f7baf87",
   "metadata": {},
   "source": [
    "### 구분"
   ]
  },
  {
   "cell_type": "code",
   "execution_count": 55,
   "id": "2d607e99",
   "metadata": {},
   "outputs": [],
   "source": [
    "# 필터 기준 - 구분\n",
    "time.sleep(1)\n",
    "browser.find_element_by_xpath('//*[@id=\"container\"]/ytd-toggle-button-renderer/a').click()\n",
    "time.sleep(1)\n",
    "\n",
    "upload_date = browser.find_element_by_xpath('//*[@id=\"collapse-content\"]/ytd-search-filter-group-renderer[2]')\n",
    "click_list_2 = upload_date.find_elements_by_id(\"endpoint\")\n",
    "\n",
    "# 동영상\n",
    "click_list_2[0].click()\n",
    "\n",
    "# 채널\n",
    "#click_list_2[1].click()\n",
    "\n",
    "# 재생목록\n",
    "#click_list_2[2].click()\n",
    "\n",
    "# 영화\n",
    "#click_list_2[3].click()"
   ]
  },
  {
   "cell_type": "markdown",
   "id": "c65ce17c",
   "metadata": {},
   "source": [
    "### 길이"
   ]
  },
  {
   "cell_type": "code",
   "execution_count": 57,
   "id": "b210e075",
   "metadata": {},
   "outputs": [],
   "source": [
    "# 필터 기준 - 길이\n",
    "time.sleep(1)\n",
    "browser.find_element_by_xpath('//*[@id=\"container\"]/ytd-toggle-button-renderer/a').click()\n",
    "time.sleep(1)\n",
    "\n",
    "upload_date = browser.find_element_by_xpath('//*[@id=\"collapse-content\"]/ytd-search-filter-group-renderer[3]')\n",
    "click_list_3 = upload_date.find_elements_by_id(\"endpoint\")\n",
    "\n",
    "# 4분 미만\n",
    "click_list_3[0].click()\n",
    "\n",
    "# 4~20분\n",
    "#click_list_3[1].click()\n",
    "\n",
    "# 20분 초과\n",
    "#click_list_3[2].click()"
   ]
  },
  {
   "cell_type": "markdown",
   "id": "c872e24a",
   "metadata": {},
   "source": [
    "### 기능별"
   ]
  },
  {
   "cell_type": "code",
   "execution_count": 59,
   "id": "aa604eae",
   "metadata": {},
   "outputs": [],
   "source": [
    "# 필터 기준 - 길이\n",
    "time.sleep(1)\n",
    "browser.find_element_by_xpath('//*[@id=\"container\"]/ytd-toggle-button-renderer/a').click()\n",
    "time.sleep(1)\n",
    "\n",
    "upload_date = browser.find_element_by_xpath('//*[@id=\"collapse-content\"]/ytd-search-filter-group-renderer[4]')\n",
    "click_list_4 = upload_date.find_elements_by_id(\"endpoint\")\n",
    "\n",
    "# 실시간\n",
    "click_list_4[0].click()\n",
    "\n",
    "# 4K\n",
    "#click_list_4[1].click()\n",
    "\n",
    "# HD\n",
    "#click_list_4[2].click()\n",
    "\n",
    "# 자막\n",
    "#click_list_4[3].click()\n",
    "\n",
    "# 크리에이티브 커먼즈\n",
    "#click_list_4[4].click()\n",
    "\n",
    "# 360도\n",
    "#click_list_4[5].click()\n",
    "\n",
    "# VR180\n",
    "#click_list_4[6].click()\n",
    "\n",
    "# 3D\n",
    "#click_list_4[7].click()\n",
    "\n",
    "# HDR\n",
    "#click_list_4[8].click()\n",
    "\n",
    "# 위치\n",
    "#click_list_4[9].click()\n",
    "\n",
    "# 구입한 항목\n",
    "#click_list_4[10].click()"
   ]
  },
  {
   "cell_type": "markdown",
   "id": "a551cd17",
   "metadata": {},
   "source": [
    "### 정렬기준"
   ]
  },
  {
   "cell_type": "code",
   "execution_count": 61,
   "id": "41d9c453",
   "metadata": {},
   "outputs": [],
   "source": [
    "# 필터 기준 - 정렬기준\n",
    "time.sleep(1)\n",
    "browser.find_element_by_xpath('//*[@id=\"container\"]/ytd-toggle-button-renderer/a').click()\n",
    "time.sleep(1)\n",
    "\n",
    "upload_date = browser.find_element_by_xpath('//*[@id=\"collapse-content\"]/ytd-search-filter-group-renderer[5]')\n",
    "click_list_5 = upload_date.find_elements_by_id(\"endpoint\")\n",
    "\n",
    "# 관련성\n",
    "#click_list_5[0].click()\n",
    "\n",
    "# 업로드 날짜\n",
    "#click_list_5[1].click()\n",
    "\n",
    "# 조회수\n",
    "click_list_5[2].click()\n",
    "\n",
    "# 평점\n",
    "#click_list_5[3].click()"
   ]
  },
  {
   "cell_type": "code",
   "execution_count": null,
   "id": "d7d47166",
   "metadata": {},
   "outputs": [],
   "source": []
  }
 ],
 "metadata": {
  "kernelspec": {
   "display_name": "Python [conda env:tensor] *",
   "language": "python",
   "name": "conda-env-tensor-py"
  },
  "language_info": {
   "codemirror_mode": {
    "name": "ipython",
    "version": 3
   },
   "file_extension": ".py",
   "mimetype": "text/x-python",
   "name": "python",
   "nbconvert_exporter": "python",
   "pygments_lexer": "ipython3",
   "version": "3.8.11"
  }
 },
 "nbformat": 4,
 "nbformat_minor": 5
}
