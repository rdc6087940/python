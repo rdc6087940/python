{
 "cells": [
  {
   "cell_type": "markdown",
   "id": "096a067d",
   "metadata": {},
   "source": [
    "# 유튜브 댓글 크롤링"
   ]
  },
  {
   "cell_type": "code",
   "execution_count": 1,
   "id": "a00cb618",
   "metadata": {},
   "outputs": [],
   "source": [
    "from selenium import webdriver\n",
    "import time\n",
    "from openpyxl import Workbook\n",
    "import pandas as pd\n",
    "from selenium.webdriver.common.keys import Keys\n",
    "from bs4 import BeautifulSoup\n",
    "from konlpy.tag import Okt\n",
    "\n",
    "#한글 댓글에 대한 단어 처리\n",
    "okt = Okt()"
   ]
  },
  {
   "cell_type": "markdown",
   "id": "11c01d7e",
   "metadata": {},
   "source": [
    "# 워크북 선언"
   ]
  },
  {
   "cell_type": "code",
   "execution_count": null,
   "id": "6905b581",
   "metadata": {},
   "outputs": [],
   "source": [
    "wb = Workbook(write_only=True)\n",
    "ws = wb.create_sheet(\"sheet1\",1)"
   ]
  },
  {
   "cell_type": "markdown",
   "id": "be25f727",
   "metadata": {},
   "source": [
    "# 크롬 드라이버 사용"
   ]
  },
  {
   "cell_type": "code",
   "execution_count": null,
   "id": "7cc0a377",
   "metadata": {},
   "outputs": [],
   "source": [
    "driver = webdriver.Chrome(\"C:/tool/chromedriver.exe\")"
   ]
  },
  {
   "cell_type": "markdown",
   "id": "8a02248d",
   "metadata": {},
   "source": [
    "# 영상 URL & 스크롤 위치 초기화"
   ]
  },
  {
   "cell_type": "code",
   "execution_count": null,
   "id": "7d08849b",
   "metadata": {},
   "outputs": [],
   "source": [
    "driver.get(\"https://www.youtube.com/watch?v=xRbPAVnqtcs\")\n",
    "driver.implicitly_wait(3)\n",
    "\n",
    "time.sleep(1.5)\n",
    "\n",
    "driver.execute_script(\"window.scrollTo(0, 800)\")\n",
    "time.sleep(3)"
   ]
  },
  {
   "cell_type": "markdown",
   "id": "7bed0029",
   "metadata": {},
   "source": [
    "# 댓글 페이지 추가 노출 코드"
   ]
  },
  {
   "cell_type": "code",
   "execution_count": null,
   "id": "95003cde",
   "metadata": {},
   "outputs": [],
   "source": [
    "last_height = driver.execute_script(\"return document.documentElement.scrollHeight\")\n",
    "\n",
    "while True:\n",
    "    driver.execute_script(\"window.scrollTo(0, document.documentElement.scrollHeight);\")\n",
    "    time.sleep(1.5)\n",
    "\n",
    "    new_height = driver.execute_script(\"return document.documentElement.scrollHeight\")\n",
    "    if new_height == last_height:\n",
    "        break\n",
    "    last_height = new_height\n",
    "\n",
    "time.sleep(1.5)"
   ]
  },
  {
   "cell_type": "markdown",
   "id": "5cb0a15c",
   "metadata": {},
   "source": [
    "# 유튜브 팝업창 닫기"
   ]
  },
  {
   "cell_type": "code",
   "execution_count": null,
   "id": "d68d2d73",
   "metadata": {},
   "outputs": [],
   "source": [
    "try:\n",
    "    driver.find_element_by_css_selector(\"#dismiss-button > a\").click()\n",
    "except:\n",
    "    pass"
   ]
  },
  {
   "cell_type": "markdown",
   "id": "03af50e8",
   "metadata": {},
   "source": [
    "# 대댓글까지 추가로 노출 코드(선택)"
   ]
  },
  {
   "cell_type": "code",
   "execution_count": null,
   "id": "97cc068f",
   "metadata": {},
   "outputs": [],
   "source": [
    "#buttons = driver.find_elements_by_css_selector(\"#more-replies > a\")\n",
    "\n",
    "#time.sleep(1.5)\n",
    "\n",
    "#for button in buttons:\n",
    "#    button.send_keys(Keys.ENTER)\n",
    "#    time.sleep(1.5)\n",
    "#   button.click()"
   ]
  },
  {
   "cell_type": "markdown",
   "id": "90714116",
   "metadata": {},
   "source": [
    "# 댓글 크롤링"
   ]
  },
  {
   "cell_type": "code",
   "execution_count": null,
   "id": "a58e0325",
   "metadata": {},
   "outputs": [],
   "source": [
    "html_source = driver.page_source\n",
    "soup = BeautifulSoup(html_source, 'html.parser')\n",
    "\n",
    "id_list = soup.select(\"div#header-author > h3 > #author-text > span\")\n",
    "comment_list = soup.select(\"yt-formatted-string#content-text\")\n",
    "\n",
    "id_final = []\n",
    "comment_final = []\n",
    "\n",
    "for i in range(len(comment_list)):\n",
    "    temp_id = id_list[i].text\n",
    "    temp_id = temp_id.replace('\\n', '')\n",
    "    temp_id = temp_id.replace('\\t', '')\n",
    "    temp_id = temp_id.replace('    ', '')\n",
    "    id_final.append(temp_id)\n",
    "\n",
    "    temp_comment = comment_list[i].text\n",
    "    temp_comment = temp_comment.replace('\\n', '')\n",
    "    temp_comment = temp_comment.replace('\\t', '')\n",
    "    temp_comment = temp_comment.replace('    ', '')\n",
    "    print(temp_comment)\n",
    "    comment_final.append(temp_comment)\n",
    "    \n",
    "\n",
    " "
   ]
  },
  {
   "cell_type": "markdown",
   "id": "3c72f2ba",
   "metadata": {},
   "source": [
    "# 데이터 정제"
   ]
  },
  {
   "cell_type": "code",
   "execution_count": null,
   "id": "e42b0fae",
   "metadata": {},
   "outputs": [],
   "source": [
    "keyword_list = []\n",
    "word = \"\"\n",
    "for i in range(len(comment_list)):\n",
    "    \n",
    "    words = okt.nouns(comment_final[i])\n",
    "   \n",
    "    \n",
    "    word += \" \".join(words)\n",
    "    word += \" \"\n",
    "print(word[:10])"
   ]
  },
  {
   "cell_type": "markdown",
   "id": "c9967abd",
   "metadata": {},
   "source": [
    "# 정제된 데이터 빈도수 분석"
   ]
  },
  {
   "cell_type": "code",
   "execution_count": null,
   "id": "b7fa081b",
   "metadata": {},
   "outputs": [],
   "source": [
    "wordList = word.split()\n",
    "wordLists = []\n",
    "wordCount = {} \n",
    "wordCounts = []\n",
    " # word -> count 기준 정렬한 dictionary\n",
    "for word in wordList:\n",
    "    # Get 명령어를 통해, Dictionary에 Key가 없으면 0리턴\n",
    "    wordCount[word] = wordCount.get(word, 0) + 1 \n",
    "    \n",
    "keys = sorted(wordCount.items(),key=(lambda x:x[1]),reverse=True)\n",
    "\n",
    "for word in keys:\n",
    "    print(word[0] + ':' + str(word[1])) \n",
    "    wordLists.append(word[0])  \n",
    "    wordCounts.append(word[1])"
   ]
  },
  {
   "cell_type": "markdown",
   "id": "ecb86510",
   "metadata": {},
   "source": [
    "# 댓글 내용 데이터 저장(Excel)"
   ]
  },
  {
   "cell_type": "code",
   "execution_count": null,
   "id": "a0a936d8",
   "metadata": {},
   "outputs": [],
   "source": [
    "pd_data = {\"아이디\" : id_final , \"댓글 내용\" : comment_final}\n",
    "youtube_pd = pd.DataFrame(pd_data)\n",
    "\n",
    "youtube_pd.to_excel('youtube_comment.xlsx')"
   ]
  },
  {
   "cell_type": "markdown",
   "id": "63bc0980",
   "metadata": {},
   "source": [
    "# 댓글 빈도수 분석 데이터 저장(Excel)"
   ]
  },
  {
   "cell_type": "code",
   "execution_count": null,
   "id": "be9aa7ec",
   "metadata": {},
   "outputs": [],
   "source": [
    "pd2_data = {\"키워드\" : wordLists, \"빈도수\" : wordCounts}\n",
    "youtube_pd2 = pd.DataFrame(pd2_data)\n",
    "\n",
    "youtube_pd2.to_excel('youtube_keyword_count.xlsx')"
   ]
  }
 ],
 "metadata": {
  "kernelspec": {
   "display_name": "tensor",
   "language": "python",
   "name": "tensor"
  },
  "language_info": {
   "codemirror_mode": {
    "name": "ipython",
    "version": 3
   },
   "file_extension": ".py",
   "mimetype": "text/x-python",
   "name": "python",
   "nbconvert_exporter": "python",
   "pygments_lexer": "ipython3",
   "version": "3.8.8"
  }
 },
 "nbformat": 4,
 "nbformat_minor": 5
}
