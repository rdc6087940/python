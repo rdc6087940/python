{
 "cells": [
  {
   "cell_type": "markdown",
   "id": "6dbd1101",
   "metadata": {},
   "source": [
    "# html 형식 데이터 예제"
   ]
  },
  {
   "cell_type": "code",
   "execution_count": 1,
   "id": "5b68a157",
   "metadata": {},
   "outputs": [],
   "source": [
    "html_doc = \"\"\"<html> <head> <title>The Dormouse's story</title> </head> <body> <!-- Comment --> <p class=\"title\" id=\"p_1\"> <b>The Dormouse's story</b> </p> middle data - navigable string <p class=\"story\" id=\"p_2\"> Once upon a time there were three little sisters; and their names were <a href=\"http://example.com/elsie\" class=\"sister\" id=\"link1\">Elsie</a>, <a href=\"http://example.com/lacie\" class=\"sister\" id=\"link2\">Lacie</a> and <a href=\"http://example.com/tillie\" class=\"sister\" id=\"link3\" data-type=\"sample\">Tillie</a>; and they lived at the bottom of a well. </p> <p class=\"description\" id=\"p_3\"> ... </p> </body> </html> \"\"\""
   ]
  },
  {
   "cell_type": "markdown",
   "id": "9ea342ef",
   "metadata": {},
   "source": [
    "# 1. BeautifulSoup "
   ]
  },
  {
   "cell_type": "code",
   "execution_count": null,
   "id": "38fca1f3",
   "metadata": {},
   "outputs": [],
   "source": [
    "from bs4 import BeautifulSoup\n",
    "\n",
    "example1 = BeautifulSoup(html_doc,\"lxml\")\n",
    "print(html_doc)\n",
    "example1.get_text()"
   ]
  },
  {
   "cell_type": "markdown",
   "id": "a1770eea",
   "metadata": {},
   "source": [
    "# 2. Regular Expression"
   ]
  },
  {
   "cell_type": "code",
   "execution_count": null,
   "id": "f025797c",
   "metadata": {},
   "outputs": [],
   "source": [
    "import re\n",
    "\n",
    "letter = re.sub('[^a-zA-Z]',' ',example1.get_text())\n",
    "print(letter)"
   ]
  },
  {
   "cell_type": "markdown",
   "id": "a68a9378",
   "metadata": {},
   "source": [
    "# 3. 소문자 변환 & 토큰화"
   ]
  },
  {
   "cell_type": "code",
   "execution_count": null,
   "id": "c0a4a009",
   "metadata": {},
   "outputs": [],
   "source": [
    "letter = letter.lower()\n",
    "\n",
    "words = letter.split(\" \")\n",
    "words"
   ]
  },
  {
   "cell_type": "markdown",
   "id": "911bc778",
   "metadata": {},
   "source": [
    "# 4. 불용어 제거\n",
    "NLTK 자체는 내장되어 있지만 특정 불용어 규칙을 사용하기 위해서는 nltk data 에서 원하는 불용어 규칙을\n",
    "다운받은 다음 (Win 일 경우)  C/nltk-data/corpora/다운받은 불용어 규칙\n",
    "www.nltk.org/nltk_data"
   ]
  },
  {
   "cell_type": "code",
   "execution_count": null,
   "id": "712eaab8",
   "metadata": {},
   "outputs": [],
   "source": [
    "import nltk\n",
    "from nltk.corpus import stopwords\n",
    "stopwords.words('english')"
   ]
  },
  {
   "cell_type": "markdown",
   "id": "47e40b92",
   "metadata": {},
   "source": [
    "- 불용어 제거 예시"
   ]
  },
  {
   "cell_type": "code",
   "execution_count": null,
   "id": "15ce50d1",
   "metadata": {},
   "outputs": [],
   "source": [
    "words = [w for w in words if not w in stopwords.words('english')]\n",
    "print(len(words))\n",
    "words"
   ]
  },
  {
   "cell_type": "markdown",
   "id": "6d35abeb",
   "metadata": {},
   "source": [
    "# 5. Stemming - 어간 추출, 형태소 분석기 사용"
   ]
  },
  {
   "cell_type": "code",
   "execution_count": null,
   "id": "b0d3bf12",
   "metadata": {},
   "outputs": [],
   "source": [
    "# 포터 스태머의 사용 예시\n",
    "stemmer = nltk.stem.PorterStemmer()\n",
    "print(stemmer.stem('maximum'))\n",
    "print('running stems : {}'.format(stemmer.stem(\"running\")))\n",
    "print('runs stems : {}'.format(stemmer.stem(\"runs\")))\n",
    "print('run stems : {}'.format(stemmer.stem(\"run\")))"
   ]
  },
  {
   "cell_type": "code",
   "execution_count": null,
   "id": "63d7a607",
   "metadata": {},
   "outputs": [],
   "source": [
    "# 랭커스터 스태머의 사용 예시\n",
    "from nltk.stem.lancaster import LancasterStemmer\n",
    "lan_stemmer = LancasterStemmer()\n",
    "print(lan_stemmer.stem('maximum'))\n",
    "print('running stems : {}'.format(lan_stemmer.stem(\"running\")))\n",
    "print('runs stems : {}'.format(lan_stemmer.stem(\"runs\")))\n",
    "print('run stems : {}'.format(lan_stemmer.stem(\"run\")))"
   ]
  },
  {
   "cell_type": "code",
   "execution_count": null,
   "id": "0c4109c5",
   "metadata": {},
   "outputs": [],
   "source": [
    "#  스노우볼 스테머의 사용\n",
    "from nltk.stem.snowball import SnowballStemmer\n",
    "\n",
    "stemmer = SnowballStemmer('english')\n",
    "words = [stemmer.stem(w) for w in words]\n",
    "words"
   ]
  },
  {
   "cell_type": "markdown",
   "id": "c3810456",
   "metadata": {},
   "source": [
    "# 6. Lemmatization (음소 표기법) - 동음이의어 등"
   ]
  },
  {
   "cell_type": "code",
   "execution_count": null,
   "id": "002926b2",
   "metadata": {},
   "outputs": [],
   "source": [
    "from nltk.stem import WordNetLemmatizer\n",
    "wordnet_lemmatizer = WordNetLemmatizer()\n",
    "\n",
    "print(wordnet_lemmatizer.lemmatize(\"fly\"))\n",
    "print(wordnet_lemmatizer.lemmatize(\"flies\"))\n",
    "\n",
    "words = [wordnet_lemmatizer.lemmatize(w) for w in words]\n",
    "# 처리 후 단어\n",
    "words"
   ]
  },
  {
   "cell_type": "markdown",
   "id": "7ae00765",
   "metadata": {},
   "source": [
    "# 함수화"
   ]
  },
  {
   "cell_type": "code",
   "execution_count": null,
   "id": "1cb384ed",
   "metadata": {},
   "outputs": [],
   "source": [
    "def natural_to_datas(natural):\n",
    "    \n",
    "    # 1. html 태그 제거 -> natural_text\n",
    "    natural_text = BeautifulSoup(natural,'html.parser').get_text()\n",
    "    \n",
    "    # 2. 영문자가 아닌 문자는 공백으로 치환 -> letters_only\n",
    "    letters_only = re.sub('[^a-zA-Z]',' ',natural_text)\n",
    "    \n",
    "    # 3. 소문자 변환 -> words\n",
    "    words = letters_only.lower().split()\n",
    "    \n",
    "    # 4. 파이썬에서는 리스트보다 세트로 찾는게 훨씬 빠르다 ********\n",
    "    # stopwords 를 세트로 변환한다.\n",
    "    stops = set(stopwords.words('english'))\n",
    "    \n",
    "    # 5. Stopwords 불용어 제거 -> meaningful_words\n",
    "    meaningful_words = [w for w in words if not w in stops]\n",
    "    \n",
    "    # 6. 어간추출\n",
    "    datas = [stemmer.stem(w) for w in meaningful_words]\n",
    "    \n",
    "    # 7. 공백으로 구분된 문자열로 결합하여 결과를 반환\n",
    "    return( ' '.join(datas))"
   ]
  },
  {
   "cell_type": "code",
   "execution_count": null,
   "id": "6f79ca8a",
   "metadata": {},
   "outputs": [],
   "source": [
    "data = natural_to_datas(html_doc)\n",
    "data"
   ]
  }
 ],
 "metadata": {
  "kernelspec": {
   "display_name": "tensor",
   "language": "python",
   "name": "tensor"
  },
  "language_info": {
   "codemirror_mode": {
    "name": "ipython",
    "version": 3
   },
   "file_extension": ".py",
   "mimetype": "text/x-python",
   "name": "python",
   "nbconvert_exporter": "python",
   "pygments_lexer": "ipython3",
   "version": "3.8.8"
  }
 },
 "nbformat": 4,
 "nbformat_minor": 5
}
