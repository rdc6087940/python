{
 "cells": [
  {
   "cell_type": "code",
   "execution_count": 1,
   "id": "5f558ca0",
   "metadata": {},
   "outputs": [],
   "source": [
    "# BeautifulSoup 장착\n",
    "from bs4 import BeautifulSoup\n",
    "\n",
    "# regular expression 장착\n",
    "import re\n",
    "\n",
    "# nltk 장착\n",
    "# 아나콘다 내장 라이브러리,\n",
    "# nltk_data 규칙 데이터 : http://www.nltk.org/nltk_data/\n",
    "# C:\\nltk_data\\corpora\n",
    "import nltk\n",
    "from nltk.corpus import stopwords\n",
    "stopwords.words('english')\n",
    "\n",
    "# 1. 포터 스테머\n",
    "# stemmer = nltk.stem.PorterStemmer()\n",
    "\n",
    "# 2. 랭커 스테머\n",
    "# from nltk.stem.lancaster import LancasterStemmer\n",
    "# lan_stemmer = LancasterStemmer()\n",
    "\n",
    "# 3. 스노우볼 스테머\n",
    "# from nltk.stem.snowball import SnowballStemmer\n",
    "# stemmer = SnowballStemmer('english')\n",
    "\n",
    "\n",
    "\n",
    "# WordNetLemmatizer 장착 -> 다운이 안되있을 경우\n",
    "# nltk.download('wordnet')\n",
    "from nltk.stem import WordNetLemmatizer"
   ]
  },
  {
   "cell_type": "code",
   "execution_count": 2,
   "id": "6859130b",
   "metadata": {},
   "outputs": [],
   "source": [
    "# *************************** 함수로 만들어 정리하기 **********************************\n",
    "def natural_to_datas(natural):\n",
    "    \n",
    "    # 1. html 태그 제거 -> natural_text\n",
    "    natural_text = BeautifulSoup(natural,'html.parser').get_text()\n",
    "    \n",
    "    # 2. 영문자가 아닌 문자는 공백으로 치환 -> letters_only\n",
    "    letters_only = re.sub('[^a-zA-Z]',' ',natural_text)\n",
    "    \n",
    "    # 3. 소문자 변환 -> words\n",
    "    words = letters_only.lower().split()\n",
    "    \n",
    "    # 4. 파이썬에서는 리스트보다 세트로 찾는게 훨씬 빠르다 ********\n",
    "    # stopwords 를 세트로 변환한다.\n",
    "    stops = set(stopwords.words('english'))\n",
    "    \n",
    "    # 5. Stopwords 불용어 제거 -> meaningful_words\n",
    "    meaningful_words = [w for w in words if not w in stops]\n",
    "    \n",
    "    # 6. 어간추출\n",
    "    datas = [stemmer.stem(w) for w in meaningful_words]\n",
    "    \n",
    "    # 7. 공백으로 구분된 문자열로 결합하여 결과를 반환\n",
    "    return( ' '.join(datas))"
   ]
  },
  {
   "cell_type": "code",
   "execution_count": null,
   "id": "785f56e3",
   "metadata": {},
   "outputs": [],
   "source": []
  }
 ],
 "metadata": {
  "kernelspec": {
   "display_name": "Python 3",
   "language": "python",
   "name": "python3"
  },
  "language_info": {
   "codemirror_mode": {
    "name": "ipython",
    "version": 3
   },
   "file_extension": ".py",
   "mimetype": "text/x-python",
   "name": "python",
   "nbconvert_exporter": "python",
   "pygments_lexer": "ipython3",
   "version": "3.8.8"
  }
 },
 "nbformat": 4,
 "nbformat_minor": 5
}
