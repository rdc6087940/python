{
 "cells": [
  {
   "cell_type": "code",
   "execution_count": 12,
   "id": "65998c7f",
   "metadata": {},
   "outputs": [],
   "source": [
    "html_doc = \"\"\"<html> <head> <title>The Dormouse's story</title> </head> <body> <!-- Comment --> <p class=\"title\" id=\"p_1\"> <b>The Dormouse's story</b> </p> middle data - navigable string <p class=\"story\" id=\"p_2\"> Once upon a time there were three little sisters; and their names were <a href=\"http://example.com/elsie\" class=\"sister\" id=\"link1\">Elsie</a>, <a href=\"http://example.com/lacie\" class=\"sister\" id=\"link2\">Lacie</a> and <a href=\"http://example.com/tillie\" class=\"sister\" id=\"link3\" data-type=\"sample\">Tillie</a>; and they lived at the bottom of a well. </p> <p class=\"description\" id=\"p_3\"> ... </p> </body> </html> \"\"\"\n"
   ]
  },
  {
   "cell_type": "code",
   "execution_count": 21,
   "id": "403dff7d",
   "metadata": {},
   "outputs": [
    {
     "name": "stdout",
     "output_type": "stream",
     "text": [
      "<html> <head> <title>The Dormouse's story</title> </head> <body> <!-- Comment --> <p class=\"title\" id=\"p_1\"> <b>The Dormouse's story</b> </p> middle data - navigable string <p class=\"story\" id=\"p_2\"> Once upon a time there were three little sisters; and their names were <a href=\"http://example.com/elsie\" class=\"sister\" id=\"link1\">Elsie</a>, <a href=\"http://example.com/lacie\" class=\"sister\" id=\"link2\">Lacie</a> and <a href=\"http://example.com/tillie\" class=\"sister\" id=\"link3\" data-type=\"sample\">Tillie</a>; and they lived at the bottom of a well. </p> <p class=\"description\" id=\"p_3\"> ... </p> </body> </html> \n"
     ]
    },
    {
     "data": {
      "text/plain": [
       "\"  The Dormouse's story     The Dormouse's story  middle data - navigable string  Once upon a time there were three little sisters; and their names were Elsie, Lacie and Tillie; and they lived at the bottom of a well.   ...    \""
      ]
     },
     "execution_count": 21,
     "metadata": {},
     "output_type": "execute_result"
    }
   ],
   "source": [
    "from bs4 import BeautifulSoup\n",
    "\n",
    "\n",
    "example1 = BeautifulSoup(html_doc,\"lxml\")\n",
    "print(html_doc)\n",
    "example1.get_text()"
   ]
  },
  {
   "cell_type": "code",
   "execution_count": 22,
   "id": "48974706",
   "metadata": {},
   "outputs": [
    {
     "name": "stdout",
     "output_type": "stream",
     "text": [
      "  The Dormouse s story     The Dormouse s story  middle data   navigable string  Once upon a time there were three little sisters  and their names were Elsie  Lacie and Tillie  and they lived at the bottom of a well           \n"
     ]
    }
   ],
   "source": [
    "import re\n",
    "\n",
    "letter = re.sub('[^a-zA-Z]',' ',example1.get_text())\n",
    "print(letter)"
   ]
  },
  {
   "cell_type": "code",
   "execution_count": 28,
   "id": "eb6fa9a9",
   "metadata": {},
   "outputs": [
    {
     "data": {
      "text/plain": [
       "['',\n",
       " '',\n",
       " 'the',\n",
       " 'dormouse',\n",
       " 's',\n",
       " 'story',\n",
       " '',\n",
       " '',\n",
       " '',\n",
       " '',\n",
       " 'the',\n",
       " 'dormouse',\n",
       " 's',\n",
       " 'story',\n",
       " '',\n",
       " 'middle',\n",
       " 'data',\n",
       " '',\n",
       " '',\n",
       " 'navigable',\n",
       " 'string',\n",
       " '',\n",
       " 'once',\n",
       " 'upon',\n",
       " 'a',\n",
       " 'time',\n",
       " 'there',\n",
       " 'were',\n",
       " 'three',\n",
       " 'little',\n",
       " 'sisters',\n",
       " '',\n",
       " 'and',\n",
       " 'their',\n",
       " 'names',\n",
       " 'were',\n",
       " 'elsie',\n",
       " '',\n",
       " 'lacie',\n",
       " 'and',\n",
       " 'tillie',\n",
       " '',\n",
       " 'and',\n",
       " 'they',\n",
       " 'lived',\n",
       " 'at',\n",
       " 'the',\n",
       " 'bottom',\n",
       " 'of',\n",
       " 'a',\n",
       " 'well',\n",
       " '',\n",
       " '',\n",
       " '',\n",
       " '',\n",
       " '',\n",
       " '',\n",
       " '',\n",
       " '',\n",
       " '',\n",
       " '',\n",
       " '']"
      ]
     },
     "execution_count": 28,
     "metadata": {},
     "output_type": "execute_result"
    }
   ],
   "source": [
    "letter = letter.lower()\n",
    "\n",
    "words = letter.split(\" \")\n",
    "words"
   ]
  },
  {
   "cell_type": "code",
   "execution_count": 30,
   "id": "259995e5",
   "metadata": {},
   "outputs": [
    {
     "data": {
      "text/plain": [
       "['i',\n",
       " 'me',\n",
       " 'my',\n",
       " 'myself',\n",
       " 'we',\n",
       " 'our',\n",
       " 'ours',\n",
       " 'ourselves',\n",
       " 'you',\n",
       " \"you're\",\n",
       " \"you've\",\n",
       " \"you'll\",\n",
       " \"you'd\",\n",
       " 'your',\n",
       " 'yours',\n",
       " 'yourself',\n",
       " 'yourselves',\n",
       " 'he',\n",
       " 'him',\n",
       " 'his',\n",
       " 'himself',\n",
       " 'she',\n",
       " \"she's\",\n",
       " 'her',\n",
       " 'hers',\n",
       " 'herself',\n",
       " 'it',\n",
       " \"it's\",\n",
       " 'its',\n",
       " 'itself',\n",
       " 'they',\n",
       " 'them',\n",
       " 'their',\n",
       " 'theirs',\n",
       " 'themselves',\n",
       " 'what',\n",
       " 'which',\n",
       " 'who',\n",
       " 'whom',\n",
       " 'this',\n",
       " 'that',\n",
       " \"that'll\",\n",
       " 'these',\n",
       " 'those',\n",
       " 'am',\n",
       " 'is',\n",
       " 'are',\n",
       " 'was',\n",
       " 'were',\n",
       " 'be',\n",
       " 'been',\n",
       " 'being',\n",
       " 'have',\n",
       " 'has',\n",
       " 'had',\n",
       " 'having',\n",
       " 'do',\n",
       " 'does',\n",
       " 'did',\n",
       " 'doing',\n",
       " 'a',\n",
       " 'an',\n",
       " 'the',\n",
       " 'and',\n",
       " 'but',\n",
       " 'if',\n",
       " 'or',\n",
       " 'because',\n",
       " 'as',\n",
       " 'until',\n",
       " 'while',\n",
       " 'of',\n",
       " 'at',\n",
       " 'by',\n",
       " 'for',\n",
       " 'with',\n",
       " 'about',\n",
       " 'against',\n",
       " 'between',\n",
       " 'into',\n",
       " 'through',\n",
       " 'during',\n",
       " 'before',\n",
       " 'after',\n",
       " 'above',\n",
       " 'below',\n",
       " 'to',\n",
       " 'from',\n",
       " 'up',\n",
       " 'down',\n",
       " 'in',\n",
       " 'out',\n",
       " 'on',\n",
       " 'off',\n",
       " 'over',\n",
       " 'under',\n",
       " 'again',\n",
       " 'further',\n",
       " 'then',\n",
       " 'once',\n",
       " 'here',\n",
       " 'there',\n",
       " 'when',\n",
       " 'where',\n",
       " 'why',\n",
       " 'how',\n",
       " 'all',\n",
       " 'any',\n",
       " 'both',\n",
       " 'each',\n",
       " 'few',\n",
       " 'more',\n",
       " 'most',\n",
       " 'other',\n",
       " 'some',\n",
       " 'such',\n",
       " 'no',\n",
       " 'nor',\n",
       " 'not',\n",
       " 'only',\n",
       " 'own',\n",
       " 'same',\n",
       " 'so',\n",
       " 'than',\n",
       " 'too',\n",
       " 'very',\n",
       " 's',\n",
       " 't',\n",
       " 'can',\n",
       " 'will',\n",
       " 'just',\n",
       " 'don',\n",
       " \"don't\",\n",
       " 'should',\n",
       " \"should've\",\n",
       " 'now',\n",
       " 'd',\n",
       " 'll',\n",
       " 'm',\n",
       " 'o',\n",
       " 're',\n",
       " 've',\n",
       " 'y',\n",
       " 'ain',\n",
       " 'aren',\n",
       " \"aren't\",\n",
       " 'couldn',\n",
       " \"couldn't\",\n",
       " 'didn',\n",
       " \"didn't\",\n",
       " 'doesn',\n",
       " \"doesn't\",\n",
       " 'hadn',\n",
       " \"hadn't\",\n",
       " 'hasn',\n",
       " \"hasn't\",\n",
       " 'haven',\n",
       " \"haven't\",\n",
       " 'isn',\n",
       " \"isn't\",\n",
       " 'ma',\n",
       " 'mightn',\n",
       " \"mightn't\",\n",
       " 'mustn',\n",
       " \"mustn't\",\n",
       " 'needn',\n",
       " \"needn't\",\n",
       " 'shan',\n",
       " \"shan't\",\n",
       " 'shouldn',\n",
       " \"shouldn't\",\n",
       " 'wasn',\n",
       " \"wasn't\",\n",
       " 'weren',\n",
       " \"weren't\",\n",
       " 'won',\n",
       " \"won't\",\n",
       " 'wouldn',\n",
       " \"wouldn't\"]"
      ]
     },
     "execution_count": 30,
     "metadata": {},
     "output_type": "execute_result"
    }
   ],
   "source": [
    "import nltk\n",
    "from nltk.corpus import stopwords\n",
    "stopwords.words('english')\n"
   ]
  },
  {
   "cell_type": "code",
   "execution_count": 31,
   "id": "5948f07a",
   "metadata": {},
   "outputs": [
    {
     "name": "stdout",
     "output_type": "stream",
     "text": [
      "44\n"
     ]
    },
    {
     "data": {
      "text/plain": [
       "['',\n",
       " '',\n",
       " 'dormouse',\n",
       " 'story',\n",
       " '',\n",
       " '',\n",
       " '',\n",
       " '',\n",
       " 'dormouse',\n",
       " 'story',\n",
       " '',\n",
       " 'middle',\n",
       " 'data',\n",
       " '',\n",
       " '',\n",
       " 'navigable',\n",
       " 'string',\n",
       " '',\n",
       " 'upon',\n",
       " 'time',\n",
       " 'three',\n",
       " 'little',\n",
       " 'sisters',\n",
       " '',\n",
       " 'names',\n",
       " 'elsie',\n",
       " '',\n",
       " 'lacie',\n",
       " 'tillie',\n",
       " '',\n",
       " 'lived',\n",
       " 'bottom',\n",
       " 'well',\n",
       " '',\n",
       " '',\n",
       " '',\n",
       " '',\n",
       " '',\n",
       " '',\n",
       " '',\n",
       " '',\n",
       " '',\n",
       " '',\n",
       " '']"
      ]
     },
     "execution_count": 31,
     "metadata": {},
     "output_type": "execute_result"
    }
   ],
   "source": [
    "#stopwords를 제거한 토큰 생성\n",
    "# comprehensive 문법 사용\n",
    "words = [w for w in words if not w in stopwords.words('english')]\n",
    "print(len(words))\n",
    "words"
   ]
  },
  {
   "cell_type": "code",
   "execution_count": 34,
   "id": "466a1560",
   "metadata": {},
   "outputs": [
    {
     "name": "stdout",
     "output_type": "stream",
     "text": [
      "maximum\n",
      "running stems : run\n",
      "runs stems : run\n",
      "run stems : run\n"
     ]
    }
   ],
   "source": [
    "# 포터 스태머의 사용 예시\n",
    "stemmer = nltk.stem.PorterStemmer()\n",
    "print(stemmer.stem('maximum'))\n",
    "print('running stems : {}'.format(stemmer.stem(\"running\")))\n",
    "print('runs stems : {}'.format(stemmer.stem(\"runs\")))\n",
    "print('run stems : {}'.format(stemmer.stem(\"run\")))"
   ]
  },
  {
   "cell_type": "code",
   "execution_count": 40,
   "id": "321c9c00",
   "metadata": {},
   "outputs": [
    {
     "name": "stdout",
     "output_type": "stream",
     "text": [
      "maxim\n",
      "running stems : run\n",
      "runs stems : run\n",
      "run stems : run\n"
     ]
    }
   ],
   "source": [
    "# 랭커스터 스태머의 사용 예시\n",
    "from nltk.stem.lancaster import LancasterStemmer\n",
    "lan_stemmer = LancasterStemmer()\n",
    "print(lan_stemmer.stem('maximum'))\n",
    "print('running stems : {}'.format(lan_stemmer.stem(\"running\")))\n",
    "print('runs stems : {}'.format(lan_stemmer.stem(\"runs\")))\n",
    "print('run stems : {}'.format(lan_stemmer.stem(\"run\")))"
   ]
  },
  {
   "cell_type": "code",
   "execution_count": 41,
   "id": "32afbacc",
   "metadata": {},
   "outputs": [
    {
     "data": {
      "text/plain": [
       "['',\n",
       " '',\n",
       " 'dormous',\n",
       " 'stori',\n",
       " '',\n",
       " '',\n",
       " '',\n",
       " '',\n",
       " 'dormous',\n",
       " 'stori',\n",
       " '',\n",
       " 'middl',\n",
       " 'data',\n",
       " '',\n",
       " '',\n",
       " 'navig',\n",
       " 'string',\n",
       " '',\n",
       " 'upon',\n",
       " 'time',\n",
       " 'three',\n",
       " 'littl',\n",
       " 'sister',\n",
       " '',\n",
       " 'name',\n",
       " 'elsi',\n",
       " '',\n",
       " 'laci',\n",
       " 'tilli',\n",
       " '',\n",
       " 'live',\n",
       " 'bottom',\n",
       " 'well',\n",
       " '',\n",
       " '',\n",
       " '',\n",
       " '',\n",
       " '',\n",
       " '',\n",
       " '',\n",
       " '',\n",
       " '',\n",
       " '',\n",
       " '']"
      ]
     },
     "execution_count": 41,
     "metadata": {},
     "output_type": "execute_result"
    }
   ],
   "source": [
    "from nltk.stem.snowball import SnowballStemmer\n",
    "\n",
    "stemmer = SnowballStemmer('english')\n",
    "words = [stemmer.stem(w) for w in words]\n",
    "words"
   ]
  },
  {
   "cell_type": "code",
   "execution_count": 45,
   "id": "19c56e1b",
   "metadata": {},
   "outputs": [
    {
     "name": "stdout",
     "output_type": "stream",
     "text": [
      "fly\n",
      "fly\n"
     ]
    },
    {
     "data": {
      "text/plain": [
       "['',\n",
       " '',\n",
       " 'dormous',\n",
       " 'stori',\n",
       " '',\n",
       " '',\n",
       " '',\n",
       " '',\n",
       " 'dormous',\n",
       " 'stori',\n",
       " '',\n",
       " 'middl',\n",
       " 'data',\n",
       " '',\n",
       " '',\n",
       " 'navig',\n",
       " 'string',\n",
       " '',\n",
       " 'upon',\n",
       " 'time',\n",
       " 'three',\n",
       " 'littl',\n",
       " 'sister',\n",
       " '',\n",
       " 'name',\n",
       " 'elsi',\n",
       " '',\n",
       " 'laci',\n",
       " 'tilli',\n",
       " '',\n",
       " 'live',\n",
       " 'bottom',\n",
       " 'well',\n",
       " '',\n",
       " '',\n",
       " '',\n",
       " '',\n",
       " '',\n",
       " '',\n",
       " '',\n",
       " '',\n",
       " '',\n",
       " '',\n",
       " '']"
      ]
     },
     "execution_count": 45,
     "metadata": {},
     "output_type": "execute_result"
    }
   ],
   "source": [
    "# Lemmatization (음소 표기법) - 동음이의어 등\n",
    "from nltk.stem import WordNetLemmatizer\n",
    "wordnet_lemmatizer = WordNetLemmatizer()\n",
    "\n",
    "print(wordnet_lemmatizer.lemmatize(\"fly\"))\n",
    "print(wordnet_lemmatizer.lemmatize(\"flies\"))\n",
    "\n",
    "words = [wordnet_lemmatizer.lemmatize(w) for w in words]\n",
    "# 처리 후 단어\n",
    "words"
   ]
  },
  {
   "cell_type": "code",
   "execution_count": 50,
   "id": "1b541729",
   "metadata": {},
   "outputs": [],
   "source": [
    "# *************************** 함수로 만들어 정리하기 **********************************\n",
    "def natural_to_datas(natural):\n",
    "    \n",
    "    # 1. html 태그 제거 -> natural_text\n",
    "    natural_text = BeautifulSoup(natural,'html.parser').get_text()\n",
    "    \n",
    "    # 2. 영문자가 아닌 문자는 공백으로 치환 -> letters_only\n",
    "    letters_only = re.sub('[^a-zA-Z]',' ',natural_text)\n",
    "    \n",
    "    # 3. 소문자 변환 -> words\n",
    "    words = letters_only.lower().split()\n",
    "    \n",
    "    # 4. 파이썬에서는 리스트보다 세트로 찾는게 훨씬 빠르다 ********\n",
    "    # stopwords 를 세트로 변환한다.\n",
    "    stops = set(stopwords.words('english'))\n",
    "    \n",
    "    # 5. Stopwords 불용어 제거 -> meaningful_words\n",
    "    meaningful_words = [w for w in words if not w in stops]\n",
    "    \n",
    "    # 6. 어간추출\n",
    "    datas = [stemmer.stem(w) for w in meaningful_words]\n",
    "    \n",
    "    # 7. 공백으로 구분된 문자열로 결합하여 결과를 반환\n",
    "    return( ' '.join(datas))"
   ]
  },
  {
   "cell_type": "code",
   "execution_count": 51,
   "id": "72cb8a03",
   "metadata": {},
   "outputs": [
    {
     "data": {
      "text/plain": [
       "'dormous stori dormous stori middl data navig string upon time three littl sister name elsi laci tilli live bottom well'"
      ]
     },
     "execution_count": 51,
     "metadata": {},
     "output_type": "execute_result"
    }
   ],
   "source": [
    "data = natural_to_datas(html_doc)\n",
    "data"
   ]
  },
  {
   "cell_type": "code",
   "execution_count": null,
   "id": "f50dabe6",
   "metadata": {},
   "outputs": [],
   "source": []
  }
 ],
 "metadata": {
  "kernelspec": {
   "display_name": "Python 3",
   "language": "python",
   "name": "python3"
  },
  "language_info": {
   "codemirror_mode": {
    "name": "ipython",
    "version": 3
   },
   "file_extension": ".py",
   "mimetype": "text/x-python",
   "name": "python",
   "nbconvert_exporter": "python",
   "pygments_lexer": "ipython3",
   "version": "3.8.8"
  }
 },
 "nbformat": 4,
 "nbformat_minor": 5
}
