{
 "cells": [
  {
   "cell_type": "markdown",
   "id": "ef57f487",
   "metadata": {},
   "source": [
    "# 1. element"
   ]
  },
  {
   "cell_type": "markdown",
   "id": "2a142d12",
   "metadata": {},
   "source": [
    " ## bs4 라이브러리 \n",
    " : 웹에서 가져온 HTML코드를 파이썬에서 사용하기 편하게 파싱해주는 라이브러리\n",
    "#### [참고] 웹에서 가져온 HTML코드 가져오는 방법\n",
    "- requests 모듈\n",
    "- urllib 의 request 모듈\n",
    "\n",
    "#### BeautifulSoup 모듈\n",
    "- find()\n",
    "- find_all()"
   ]
  },
  {
   "cell_type": "markdown",
   "id": "0d8c7657",
   "metadata": {},
   "source": [
    "#### [참고] 파서의 종류 \n",
    "- lxml : c로 만들어져 속도 빠름\n",
    "- html5lib : 파이썬으로 만들어서 lxml보다 느림\n",
    "- html.parser (*): 파이썬 버전을 확인해서 사용"
   ]
  },
  {
   "cell_type": "code",
   "execution_count": 1,
   "id": "62c258df",
   "metadata": {},
   "outputs": [],
   "source": [
    "from bs4 import BeautifulSoup\n",
    "\n",
    "html = \"\"\"\n",
    "    <html><body>\n",
    "        <h1>스크레이핑 연습</h1>\n",
    "        <p>웹페이지 분석하자</p>\n",
    "        <p>데이타 정제하기</p>\n",
    "    </body></html>\n",
    "\"\"\""
   ]
  },
  {
   "cell_type": "markdown",
   "id": "667cf194",
   "metadata": {},
   "source": [
    "### 1. 데이터 파싱하기"
   ]
  },
  {
   "cell_type": "code",
   "execution_count": 3,
   "id": "63b62332",
   "metadata": {},
   "outputs": [
    {
     "name": "stdout",
     "output_type": "stream",
     "text": [
      "\n",
      "<html><body>\n",
      "<h1>스크레이핑 연습</h1>\n",
      "<p>웹페이지 분석하자</p>\n",
      "<p>데이타 정제하기</p>\n",
      "</body></html>\n",
      "\n"
     ]
    }
   ],
   "source": [
    "soup = BeautifulSoup(html, 'html.parser')\n",
    "print(soup)"
   ]
  },
  {
   "cell_type": "markdown",
   "id": "bb8cc2e0",
   "metadata": {},
   "source": [
    "### 2. 원하는 요소 접근하기"
   ]
  },
  {
   "cell_type": "code",
   "execution_count": 6,
   "id": "b720eeb8",
   "metadata": {},
   "outputs": [
    {
     "name": "stdout",
     "output_type": "stream",
     "text": [
      "스크레이핑 연습\n",
      "스크레이핑 연습\n"
     ]
    }
   ],
   "source": [
    "h1 = soup.find('h1')\n",
    "print(h1.text)\n",
    "print(h1.string)"
   ]
  },
  {
   "cell_type": "markdown",
   "id": "e9917d01",
   "metadata": {},
   "source": [
    "### 3. 요소의 내용 추출하기"
   ]
  },
  {
   "cell_type": "code",
   "execution_count": 10,
   "id": "eb5b0538",
   "metadata": {},
   "outputs": [
    {
     "name": "stdout",
     "output_type": "stream",
     "text": [
      "웹페이지 분석하자\n",
      "데이타 정제하기\n"
     ]
    }
   ],
   "source": [
    "p_list = soup.find_all('p')\n",
    "for p in p_list:\n",
    "    print(p.text)"
   ]
  },
  {
   "cell_type": "code",
   "execution_count": null,
   "id": "5d90297c",
   "metadata": {},
   "outputs": [],
   "source": []
  }
 ],
 "metadata": {
  "kernelspec": {
   "display_name": "Python [conda env:tensor] *",
   "language": "python",
   "name": "conda-env-tensor-py"
  },
  "language_info": {
   "codemirror_mode": {
    "name": "ipython",
    "version": 3
   },
   "file_extension": ".py",
   "mimetype": "text/x-python",
   "name": "python",
   "nbconvert_exporter": "python",
   "pygments_lexer": "ipython3",
   "version": "3.8.11"
  }
 },
 "nbformat": 4,
 "nbformat_minor": 5
}
