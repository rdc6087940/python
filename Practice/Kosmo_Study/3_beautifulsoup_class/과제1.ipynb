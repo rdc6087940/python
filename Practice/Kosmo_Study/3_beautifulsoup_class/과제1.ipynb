{
 "cells": [
  {
   "cell_type": "code",
   "execution_count": 1,
   "id": "a03c2eb9",
   "metadata": {},
   "outputs": [],
   "source": [
    "from urllib.request import urlopen\n",
    "from bs4 import BeautifulSoup\n",
    "from selenium import webdriver\n",
    "from urllib import request\n",
    "from selenium.webdriver.common.keys import Keys\n",
    "import time"
   ]
  },
  {
   "cell_type": "code",
   "execution_count": 2,
   "id": "2758f973",
   "metadata": {},
   "outputs": [
    {
     "name": "stdout",
     "output_type": "stream",
     "text": [
      "b'<html>\\n<head>\\n<style>\\n.green{\\n\\tcolor:#55ff55;\\n}\\n.red{\\n\\tcolor:#ff5555;\\n}\\n#text{\\n\\twidth:50%;\\n}\\n</style>\\n</head>\\n<body>\\n<h1>War and Peace</h1>\\n<h2>Chapter 1</h2>\\n<div id=\"text\">\\n\"<span class=\"red\">Well, Prince, so Genoa and Lucca are now just family estates of the\\nBuonapartes. But I warn you, if you don\\'t tell me that this means war,\\nif you still try to defend the infamies and horrors perpetrated by\\nthat Antichrist- I really believe he is Antichrist- I will have\\nnothing more to do with you and you are no longer my friend, no longer\\nmy \\'faithful slave,\\' as you call yourself! But how do you do? I see\\nI have frightened you- sit down and tell me all the news.</span>\"\\n<p/>\\nIt was in July, 1805, and the speaker was the well-known <span class=\"green\">Anna\\nPavlovna Scherer</span>, maid of honor and favorite of the <span class=\"green\">Empress Marya\\nFedorovna</span>. With these words she greeted <span class=\"green\">Prince Vasili Kuragin</span>, a man\\nof high rank and importance, who was the first to arrive at her\\nreception. <span class=\"green\">Anna Pavlovna</span> had had a cough for some days. She was, as\\nshe said, suffering from la grippe; grippe being then a new word in\\n<span class=\"green\">St. Petersburg</span>, used only by the elite.\\n<p/>\\nAll her invitations without exception, written in French, and\\ndelivered by a scarlet-liveried footman that morning, ran as follows:\\n<p/>\\n\"<span class=\"red\">If you have nothing better to do, Count [or Prince], and if the\\nprospect of spending an evening with a poor invalid is not too\\nterrible, I shall be very charmed to see you tonight between 7 and 10-\\nAnnette Scherer.</span>\"\\n<p/>\\n\"<span class=\"red\">Heavens! what a virulent attack!</span>\" replied <span class=\"green\">the prince</span>, not in the\\nleast disconcerted by this reception. He had just entered, wearing\\nan embroidered court uniform, knee breeches, and shoes, and had\\nstars on his breast and a serene expression on his flat face. He spoke\\nin that refined French in which our grandfathers not only spoke but\\nthought, and with the gentle, patronizing intonation natural to a\\nman of importance who had grown old in society and at court. He went\\nup to <span class=\"green\">Anna Pavlovna</span>, kissed her hand, presenting to her his bald,\\nscented, and shining head, and complacently seated himself on the\\nsofa.\\n<p/>\\n\"<span class=\"red\">First of all, dear friend, tell me how you are. Set your friend\\'s\\nmind at rest,</span>\" said he without altering his tone, beneath the\\npoliteness and affected sympathy of which indifference and even\\nirony could be discerned.\\n<p/>\\n\"<span class=\"red\">Can one be well while suffering morally? Can one be calm in times\\nlike these if one has any feeling?</span>\" said <span class=\"green\">Anna Pavlovna</span>. \"<span class=\"red\">You are\\nstaying the whole evening, I hope?</span>\"\\n<p/>\\n\"<span class=\"red\">And the fete at the English ambassador\\'s? Today is Wednesday. I\\nmust put in an appearance there,</span>\" said <span class=\"green\">the prince</span>. \"<span class=\"red\">My daughter is\\ncoming for me to take me there.</span>\"\\n<p/>\\n\"<span class=\"red\">I thought today\\'s fete had been canceled. I confess all these\\nfestivities and fireworks are becoming wearisome.</span>\"\\n<p/>\\n\"<span class=\"red\">If they had known that you wished it, the entertainment would\\nhave been put off,</span>\" said <span class=\"green\">the prince</span>, who, like a wound-up clock, by\\nforce of habit said things he did not even wish to be believed.\\n<p/>\\n\"<span class=\"red\">Don\\'t tease! Well, and what has been decided about Novosiltsev\\'s\\ndispatch? You know everything.</span>\"\\n<p/>\\n\"<span class=\"red\">What can one say about it?</span>\" replied <span class=\"green\">the prince</span> in a cold,\\nlistless tone. \"<span class=\"red\">What has been decided? They have decided that\\nBuonaparte has burnt his boats, and I believe that we are ready to\\nburn ours.</span>\"\\n<p/>\\n<span class=\"green\">Prince Vasili</span> always spoke languidly, like an actor repeating a\\nstale part. <span class=\"green\">Anna Pavlovna</span> Scherer on the contrary, despite her forty\\nyears, overflowed with animation and impulsiveness. To be an\\nenthusiast had become her social vocation and, sometimes even when she\\ndid not feel like it, she became enthusiastic in order not to\\ndisappoint the expectations of those who knew her. The subdued smile\\nwhich, though it did not suit her faded features, always played\\nround her lips expressed, as in a spoiled child, a continual\\nconsciousness of her charming defect, which she neither wished, nor\\ncould, nor considered it necessary, to correct.\\n<p/>\\nIn the midst of a conversation on political matters <span class=\"green\">Anna Pavlovna</span>\\nburst out:\\n<p/>\\n\"<span class=\"red\">Oh, don\\'t speak to me of Austria. Perhaps I don\\'t understand\\nthings, but Austria never has wished, and does not wish, for war.\\nShe is betraying us! Russia alone must save Europe. Our gracious\\nsovereign recognizes his high vocation and will be true to it. That is\\nthe one thing I have faith in! Our good and wonderful sovereign has to\\nperform the noblest role on earth, and he is so virtuous and noble\\nthat God will not forsake him. He will fulfill his vocation and\\ncrush the hydra of revolution, which has become more terrible than\\never in the person of this murderer and villain! We alone must\\navenge the blood of the just one.... Whom, I ask you, can we rely\\non?... England with her commercial spirit will not and cannot\\nunderstand the Emperor Alexander\\'s loftiness of soul. She has\\nrefused to evacuate Malta. She wanted to find, and still seeks, some\\nsecret motive in our actions. What answer did Novosiltsev get? None.\\nThe English have not understood and cannot understand the\\nself-abnegation of our Emperor who wants nothing for himself, but only\\ndesires the good of mankind. And what have they promised? Nothing! And\\nwhat little they have promised they will not perform! Prussia has\\nalways declared that Buonaparte is invincible, and that all Europe\\nis powerless before him.... And I don\\'t believe a word that Hardenburg\\nsays, or Haugwitz either. This famous Prussian neutrality is just a\\ntrap. I have faith only in God and the lofty destiny of our adored\\nmonarch. He will save Europe!</span>\"\\n<p/>\\nShe suddenly paused, smiling at her own impetuosity.\\n<p/>\\n\"<span class=\"red\">I think,</span>\" said <span class=\"green\">the prince</span> with a smile, \"<span class=\"red\">that if you had been\\nsent instead of our dear <span class=\"green\">Wintzingerode</span> you would have captured the\\n<span class=\"green\">King of Prussia</span>\\'s consent by assault. You are so eloquent. Will you\\ngive me a cup of tea?</span>\"\\n<p/>\\n\"<span class=\"red\">In a moment. A propos,</span>\" she added, becoming calm again, \"<span class=\"red\">I am\\nexpecting two very interesting men tonight, <span class=\"green\">le Vicomte de Mortemart</span>,\\nwho is connected with the <span class=\"green\">Montmorencys</span> through the <span class=\"green\">Rohans</span>, one of\\nthe best French families. He is one of the genuine emigres, the good\\nones. And also the <span class=\"green\">Abbe Morio</span>. Do you know that profound thinker? He\\nhas been received by <span class=\"green\">the Emperor</span>. Had you heard?</span>\"\\n<p/>\\n\"<span class=\"red\">I shall be delighted to meet them,</span>\" said <span class=\"green\">the prince</span>. \"<span class=\"red\">But tell me,</span>\"\\nhe added with studied carelessness as if it had only just occurred\\nto him, though the question he was about to ask was the chief motive\\nof his visit, \"<span class=\"red\">is it true that the Dowager Empress wants Baron Funke\\nto be appointed first secretary at Vienna? The baron by all accounts\\nis a poor creature.</span>\"\\n<p/>\\n<span class=\"green\">Prince Vasili</span> wished to obtain this post for his son, but others\\nwere trying through the <span class=\"green\">Dowager Empress Marya Fedorovna</span> to secure it\\nfor <span class=\"green\">the baron</span>.\\n<p/>\\n<span class=\"green\">Anna Pavlovna</span> almost closed her eyes to indicate that neither she\\nnor anyone else had a right to criticize what <span class=\"green\">the Empress</span> desired or\\nwas pleased with.\\n<p/>\\n\"<span class=\"red\">Baron Funke has been recommended to the Dowager Empress by her\\nsister,</span>\" was all she said, in a dry and mournful tone.\\n<p/>\\nAs she named <span class=\"green\">the Empress</span>, <span class=\"green\">Anna Pavlovna\\'s</span> face suddenly assumed an\\nexpression of profound and sincere devotion and respect mingled with\\nsadness, and this occurred every time she mentioned her illustrious\\npatroness. She added that <span class=\"green\">Her Majesty</span> had deigned to show <span class=\"green\">Baron\\nFunke</span>, and again her face clouded over with sadness.\\n<p/>\\n<span class=\"green\">The prince</span> was silent and looked indifferent. But, with the\\nwomanly and courtierlike quickness and tact habitual to her, <span class=\"green\">Anna\\nPavlovna</span> wished both to rebuke him (for daring to speak he had done of\\na man recommended to <span class=\"green\">the Empress</span>) and at the same time to console him,\\nso she said:\\n<p/>\\n\"<span class=\"red\">Now about your family. Do you know that since your daughter came\\nout everyone has been enraptured by her? They say she is amazingly\\nbeautiful.</span>\"\\n<p/>\\n<span class=\"green\">The prince</span> bowed to signify his respect and gratitude.\\n<p/>\\n\"<span class=\"red\">I often think,</span>\" she continued after a short pause, drawing nearer\\nto the prince and smiling amiably at him as if to show that\\npolitical and social topics were ended and the time had come for\\nintimate conversation- \"<span class=\"red\">I often think how unfairly sometimes the\\njoys of life are distributed. Why has fate given you two such splendid\\nchildren? I don\\'t speak of <span class=\"green\">Anatole</span>, your youngest. I don\\'t like\\nhim,</span>\" she added in a tone admitting of no rejoinder and raising her\\neyebrows. \"<span class=\"red\">Two such charming children. And really you appreciate\\nthem less than anyone, and so you don\\'t deserve to have them.</span>\"\\n<p/>\\nAnd she smiled her ecstatic smile.\\n<p/>\\n\"<span class=\"red\">I can\\'t help it,</span>\" said <span class=\"green\">the prince</span>. \"<span class=\"red\">Lavater would have said I\\nlack the bump of paternity.</span>\"\\n<p/>\\n\"<span class=\"red\">Don\\'t joke; I mean to have a serious talk with you. Do you know I\\nam dissatisfied with your younger son? Between ourselves</span>\" (and her\\nface assumed its melancholy expression), \"<span class=\"red\">he was mentioned at Her\\nMajesty\\'s and you were pitied....</span>\"\\n<p/>\\n<span class=\"green\">The prince</span> answered nothing, but she looked at him significantly,\\nawaiting a reply. He frowned.\\n<p/>\\n\"<span class=\"red\">What would you have me do?</span>\" he said at last. \"<span class=\"red\">You know I did all\\na father could for their education, and they have both turned out\\nfools. Hippolyte is at least a quiet fool, but Anatole is an active\\none. That is the only difference between them.</span>\" He said this smiling\\nin a way more natural and animated than usual, so that the wrinkles\\nround his mouth very clearly revealed something unexpectedly coarse\\nand unpleasant.\\n<p/>\\n\"<span class=\"red\">And why are children born to such men as you? If you were not a\\nfather there would be nothing I could reproach you with,</span>\" said <span class=\"green\">Anna\\nPavlovna</span>, looking up pensively.\\n<p/>\\n\"<span class=\"red\">I am your faithful slave and to you alone I can confess that my\\nchildren are the bane of my life. It is the cross I have to bear. That\\nis how I explain it to myself. It can\\'t be helped!</span>\"\\n<p/>\\nHe said no more, but expressed his resignation to cruel fate by a\\ngesture. <span class=\"green\">Anna Pavlovna</span> meditated.\\n</div>\\n</body>\\n</html>\\n'\n"
     ]
    }
   ],
   "source": [
    "url = 'http://www.pythonscraping.com/pages/warandpeace.html'\n",
    "site = request.urlopen(url)\n",
    "content = site.read()\n",
    "print(content)"
   ]
  },
  {
   "cell_type": "code",
   "execution_count": 6,
   "id": "48346f0a",
   "metadata": {},
   "outputs": [
    {
     "name": "stdout",
     "output_type": "stream",
     "text": [
      "Anna\n",
      "Pavlovna Scherer\n",
      "Empress Marya\n",
      "Fedorovna\n",
      "Prince Vasili Kuragin\n",
      "Anna Pavlovna\n",
      "St. Petersburg\n",
      "the prince\n",
      "Anna Pavlovna\n",
      "Anna Pavlovna\n",
      "the prince\n",
      "the prince\n",
      "the prince\n",
      "Prince Vasili\n",
      "Anna Pavlovna\n",
      "Anna Pavlovna\n",
      "the prince\n",
      "Wintzingerode\n",
      "King of Prussia\n",
      "le Vicomte de Mortemart\n",
      "Montmorencys\n",
      "Rohans\n",
      "Abbe Morio\n",
      "the Emperor\n",
      "the prince\n",
      "Prince Vasili\n",
      "Dowager Empress Marya Fedorovna\n",
      "the baron\n",
      "Anna Pavlovna\n",
      "the Empress\n",
      "the Empress\n",
      "Anna Pavlovna's\n",
      "Her Majesty\n",
      "Baron\n",
      "Funke\n",
      "The prince\n",
      "Anna\n",
      "Pavlovna\n",
      "the Empress\n",
      "The prince\n",
      "Anatole\n",
      "the prince\n",
      "The prince\n",
      "Anna\n",
      "Pavlovna\n",
      "Anna Pavlovna\n"
     ]
    }
   ],
   "source": [
    "soup = BeautifulSoup(content,'html.parser')\n",
    "green_text = soup.select('.green')\n",
    "for gt in green_text:\n",
    "    print(gt.text)"
   ]
  },
  {
   "cell_type": "code",
   "execution_count": null,
   "id": "dbd55c04",
   "metadata": {},
   "outputs": [],
   "source": []
  }
 ],
 "metadata": {
  "kernelspec": {
   "display_name": "Python [conda env:tensor] *",
   "language": "python",
   "name": "conda-env-tensor-py"
  },
  "language_info": {
   "codemirror_mode": {
    "name": "ipython",
    "version": 3
   },
   "file_extension": ".py",
   "mimetype": "text/x-python",
   "name": "python",
   "nbconvert_exporter": "python",
   "pygments_lexer": "ipython3",
   "version": "3.8.11"
  }
 },
 "nbformat": 4,
 "nbformat_minor": 5
}
