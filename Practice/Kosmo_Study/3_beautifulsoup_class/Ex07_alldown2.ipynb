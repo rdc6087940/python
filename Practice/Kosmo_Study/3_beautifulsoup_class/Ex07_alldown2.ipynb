{
 "cells": [
  {
   "cell_type": "markdown",
   "id": "fc987d06",
   "metadata": {},
   "source": [
    "# 2. alldown2\n",
    "- 파일을 다운받고 저장하는 함수\n",
    "\n",
    "   [참고] 파이썬 정규식 표현 : https://wikidocs.net/4308"
   ]
  },
  {
   "cell_type": "code",
   "execution_count": 2,
   "id": "f59ce850",
   "metadata": {},
   "outputs": [],
   "source": [
    "from bs4 import BeautifulSoup\n",
    "from urllib import parse\n",
    "from urllib import request\n",
    "import os, time, re  # re : 정규식"
   ]
  },
  {
   "cell_type": "code",
   "execution_count": 6,
   "id": "88d2d0b0",
   "metadata": {},
   "outputs": [
    {
     "name": "stdout",
     "output_type": "stream",
     "text": [
      "1- ParseResult(scheme='https', netloc='docs.python.org', path='/3.6/library/', params='', query='', fragment='')\n",
      "2- ./docs.python.org/3.6/library/\n",
      "3- ./docs.python.org/3.6/library/index.html\n",
      "None\n"
     ]
    }
   ],
   "source": [
    "def download_file(url):\n",
    "    p = parse.urlparse(url)\n",
    "    print('1-',p)\n",
    "    savepath = \"./\" + p.netloc + p.path\n",
    "    print('2-',savepath)\n",
    "    \n",
    "    if re.search('/$',savepath):   # /$ 의미 : /로 끝나는\n",
    "        savepath += \"index.html\"\n",
    "        print('3-',savepath)\n",
    "    \n",
    "    # 로컬폴더에 savepath 파일이 존재하는지 확인\n",
    "    if os.path.exists(savepath): return savepath\n",
    "    \n",
    "    # 다운받을 폴더 생성\n",
    "    savedir = os.path.dirname(savepath)\n",
    "    \n",
    "    if not os.path.exists(savedir):\n",
    "        os.makedirs(savedir)\n",
    "        \n",
    "    # 다운받기\n",
    "    try:\n",
    "        request.urlretrieve(url, savepath)\n",
    "        time.sleep(2)\n",
    "        return savepath\n",
    "\n",
    "if __name__ == '__main__':\n",
    "    url = 'https://docs.python.org/3.6/library/'\n",
    "    result = download_file(url)\n",
    "    print(result)"
   ]
  },
  {
   "cell_type": "code",
   "execution_count": null,
   "id": "b6ce25ba",
   "metadata": {},
   "outputs": [],
   "source": []
  }
 ],
 "metadata": {
  "kernelspec": {
   "display_name": "Python [conda env:tensor] *",
   "language": "python",
   "name": "conda-env-tensor-py"
  },
  "language_info": {
   "codemirror_mode": {
    "name": "ipython",
    "version": 3
   },
   "file_extension": ".py",
   "mimetype": "text/x-python",
   "name": "python",
   "nbconvert_exporter": "python",
   "pygments_lexer": "ipython3",
   "version": "3.8.11"
  }
 },
 "nbformat": 4,
 "nbformat_minor": 5
}
