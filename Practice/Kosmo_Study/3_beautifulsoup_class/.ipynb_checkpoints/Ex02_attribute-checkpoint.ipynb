{
 "cells": [
  {
   "cell_type": "markdown",
   "id": "fd714b17",
   "metadata": {},
   "source": [
    "# 2. attribute"
   ]
  },
  {
   "cell_type": "code",
   "execution_count": 1,
   "id": "bb80f0ff",
   "metadata": {},
   "outputs": [],
   "source": [
    "from bs4 import BeautifulSoup\n",
    "\n",
    "html = \"\"\"\n",
    "    <html>\n",
    "        <body>\n",
    "            <ul>\n",
    "                <li><a href='http://www.naver.com'>네이브</a></li>\n",
    "                <li><a href='http://www.daum.net'>다아음</a></li>\n",
    "            </ul>\n",
    "        </body>\n",
    "    </html>\n",
    "\"\"\""
   ]
  },
  {
   "cell_type": "markdown",
   "id": "b13f3573",
   "metadata": {},
   "source": [
    "## 리스트(li)목록의 내용과 해당 경로를 추출하기\n",
    "- 속성추출 : attrs['속성명']\n",
    "\n",
    "    [출력결과]\n",
    "    - 네이브 : http://www.naver.com\n",
    "    - 다아음 : http://www.daum.net"
   ]
  },
  {
   "cell_type": "code",
   "execution_count": 11,
   "id": "6f4bbc8a",
   "metadata": {},
   "outputs": [
    {
     "name": "stdout",
     "output_type": "stream",
     "text": [
      "네이브 : http://www.naver.com\n",
      "다아음 : http://www.daum.net\n"
     ]
    }
   ],
   "source": [
    "soup = BeautifulSoup(html,'html.parser')\n",
    "\n",
    "li_list = soup.find_all('li')\n",
    "for li in li_list:\n",
    "    a = li.find('a').attrs['href']\n",
    "    print(li.text,\":\",a)"
   ]
  },
  {
   "cell_type": "code",
   "execution_count": null,
   "id": "6364ff68",
   "metadata": {},
   "outputs": [],
   "source": []
  }
 ],
 "metadata": {
  "kernelspec": {
   "display_name": "Python [conda env:tensor] *",
   "language": "python",
   "name": "conda-env-tensor-py"
  },
  "language_info": {
   "codemirror_mode": {
    "name": "ipython",
    "version": 3
   },
   "file_extension": ".py",
   "mimetype": "text/x-python",
   "name": "python",
   "nbconvert_exporter": "python",
   "pygments_lexer": "ipython3",
   "version": "3.8.11"
  }
 },
 "nbformat": 4,
 "nbformat_minor": 5
}
