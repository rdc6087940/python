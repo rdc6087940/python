{
 "cells": [
  {
   "cell_type": "markdown",
   "id": "6250aa80",
   "metadata": {},
   "source": [
    "# 3. naver연습"
   ]
  },
  {
   "cell_type": "markdown",
   "id": "e0423ffc",
   "metadata": {},
   "source": [
    "## 네이버 금융에서 환률 정보 가져오기\n",
    "\n",
    ":크롬에서 네이버 > 금융 > 시장지표 > 미국 USD 금액을 부분을 개발자 모드로 확인\n",
    "      <div class='head_info'>\n",
    "         <span class='value'>1.098.50</span>\n",
    "- https://finance.naver.com/marketindex/"
   ]
  },
  {
   "cell_type": "code",
   "execution_count": 4,
   "id": "55b424e2",
   "metadata": {},
   "outputs": [],
   "source": [
    "from bs4 import BeautifulSoup\n",
    "from urllib import request\n",
    "\n",
    "\n",
    "\n",
    "# 웹 문서 가져오기\n",
    "url = 'https://finance.naver.com/marketindex/'\n",
    "site = request.urlopen(url)\n",
    "page = site.read()"
   ]
  },
  {
   "cell_type": "code",
   "execution_count": 11,
   "id": "79cf6bda",
   "metadata": {},
   "outputs": [
    {
     "name": "stdout",
     "output_type": "stream",
     "text": [
      "1,173.30\n"
     ]
    }
   ],
   "source": [
    "soup = BeautifulSoup(page,'html.parser')\n",
    "usd = soup.select('.head_info > span')\n",
    "print(usd[0].text)"
   ]
  },
  {
   "cell_type": "code",
   "execution_count": null,
   "id": "9b922051",
   "metadata": {},
   "outputs": [],
   "source": []
  }
 ],
 "metadata": {
  "kernelspec": {
   "display_name": "Python [conda env:tensor] *",
   "language": "python",
   "name": "conda-env-tensor-py"
  },
  "language_info": {
   "codemirror_mode": {
    "name": "ipython",
    "version": 3
   },
   "file_extension": ".py",
   "mimetype": "text/x-python",
   "name": "python",
   "nbconvert_exporter": "python",
   "pygments_lexer": "ipython3",
   "version": "3.8.11"
  }
 },
 "nbformat": 4,
 "nbformat_minor": 5
}
