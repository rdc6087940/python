{
 "cells": [
  {
   "cell_type": "markdown",
   "id": "600bd532",
   "metadata": {},
   "source": [
    "# 2. selector"
   ]
  },
  {
   "cell_type": "markdown",
   "id": "599ded60",
   "metadata": {},
   "source": [
    "## BeautifulSoup 모듈에서\n",
    " - HTML의 구조(=트리구조)에서 요소를 검색할 때 : find() / find_all()\n",
    " - CSS 선택자 검색할 때 : select() /  select_one()\n",
    "     - 아이디값 : #\n",
    "     - 클래스값 : ."
   ]
  },
  {
   "cell_type": "code",
   "execution_count": 1,
   "id": "6e428870",
   "metadata": {},
   "outputs": [],
   "source": [
    "from bs4 import BeautifulSoup\n",
    "\n",
    "html = \"\"\"\n",
    "    <html><body>\n",
    "        <div id='course'>\n",
    "            <h1>빅데이터 과정</h1>\n",
    "        </div>\n",
    "        <div id='subjects'> \n",
    "            <ul class='subs'>\n",
    "                <li>머신러닝</li>\n",
    "                <li>데이터 처리</li>\n",
    "                <li>데이타 분석</li>\n",
    "            </ul>\n",
    "        </div>\n",
    "    </body></html>\n",
    "\"\"\""
   ]
  },
  {
   "cell_type": "markdown",
   "id": "017ed93e",
   "metadata": {},
   "source": [
    "### (1) id 값으로 선택"
   ]
  },
  {
   "cell_type": "code",
   "execution_count": 8,
   "id": "a88e846a",
   "metadata": {},
   "outputs": [
    {
     "name": "stdout",
     "output_type": "stream",
     "text": [
      "<h1>빅데이터 과정</h1>\n"
     ]
    }
   ],
   "source": [
    "soup = BeautifulSoup(html, 'html.parser')\n",
    "\n",
    "h1 = soup.select_one('#course h1')\n",
    "print(h1)"
   ]
  },
  {
   "cell_type": "markdown",
   "id": "10758f87",
   "metadata": {},
   "source": [
    "### (2) class 명으로 선택하여 목록만 출력"
   ]
  },
  {
   "cell_type": "code",
   "execution_count": 14,
   "id": "4736370c",
   "metadata": {},
   "outputs": [
    {
     "name": "stdout",
     "output_type": "stream",
     "text": [
      "머신러닝\n",
      "데이터 처리\n",
      "데이타 분석\n"
     ]
    }
   ],
   "source": [
    "li_list = soup.select('.subs > li')\n",
    "for li in li_list:\n",
    "    print(li.text)"
   ]
  },
  {
   "cell_type": "code",
   "execution_count": null,
   "id": "86c352f8",
   "metadata": {},
   "outputs": [],
   "source": []
  }
 ],
 "metadata": {
  "kernelspec": {
   "display_name": "Python [conda env:tensor] *",
   "language": "python",
   "name": "conda-env-tensor-py"
  },
  "language_info": {
   "codemirror_mode": {
    "name": "ipython",
    "version": 3
   },
   "file_extension": ".py",
   "mimetype": "text/x-python",
   "name": "python",
   "nbconvert_exporter": "python",
   "pygments_lexer": "ipython3",
   "version": "3.8.11"
  }
 },
 "nbformat": 4,
 "nbformat_minor": 5
}
