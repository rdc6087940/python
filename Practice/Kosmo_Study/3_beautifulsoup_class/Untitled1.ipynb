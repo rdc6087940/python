{
 "cells": [
  {
   "cell_type": "markdown",
   "id": "15a16722",
   "metadata": {},
   "source": [
    "# 한빛 미디어 로그인\n",
    "- 한빛미디어 : http://www.hanbit.co.kr\n",
    "\n",
    "- 로그인 : http://www.hanbit.co.kr/member/login.html\n",
    "- 마이페이지 : http://www.hanbit.co.kr/myhanbit/myhanbit.html\n",
    "\n",
    "1) 로그인 페이지\n",
    "    - 아이디 : m_id\n",
    "    - 비밀번호 : m_passwd\n",
    "    \n",
    "3) 로그인 후에 가져올 정보\n",
    "    - 마일리지 : .mileage_section1 > dd > span\n",
    "    - "
   ]
  },
  {
   "cell_type": "code",
   "execution_count": null,
   "id": "77b1176f",
   "metadata": {},
   "outputs": [],
   "source": []
  }
 ],
 "metadata": {
  "kernelspec": {
   "display_name": "Python [conda env:tensor] *",
   "language": "python",
   "name": "conda-env-tensor-py"
  },
  "language_info": {
   "codemirror_mode": {
    "name": "ipython",
    "version": 3
   },
   "file_extension": ".py",
   "mimetype": "text/x-python",
   "name": "python",
   "nbconvert_exporter": "python",
   "pygments_lexer": "ipython3",
   "version": "3.8.11"
  }
 },
 "nbformat": 4,
 "nbformat_minor": 5
}
