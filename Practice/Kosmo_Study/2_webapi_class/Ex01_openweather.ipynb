{
 "cells": [
  {
   "cell_type": "markdown",
   "id": "7838e8ca",
   "metadata": {},
   "source": [
    "# 1. openweather"
   ]
  },
  {
   "cell_type": "markdown",
   "id": "19c6cb44",
   "metadata": {},
   "source": [
    "전세계날씨제공 API : http://openweathermap.org\n",
    "\n",
    "    1. 회원가입 : 메뉴 > Sign Up > 사용용도 : Education > 대충가입 (무료는 1번에 60번 호출 가능 )\n",
    "    2. 개발자모드 : Sign In > API Keys 에서 내가 발급받은 키 (추가 키 가능)\n",
    "    3. 발급받고 바로 지정 안됨 (시간소요)"
   ]
  },
  {
   "cell_type": "markdown",
   "id": "75b216cc",
   "metadata": {},
   "source": [
    "API 키 지정"
   ]
  },
  {
   "cell_type": "code",
   "execution_count": 1,
   "id": "b1039880",
   "metadata": {},
   "outputs": [],
   "source": [
    "apikey = \"1db47184ebbc18af53fd996be840d270\""
   ]
  },
  {
   "cell_type": "markdown",
   "id": "fa00a16b",
   "metadata": {},
   "source": [
    "날씨를 확인할 도시 지정하기"
   ]
  },
  {
   "cell_type": "code",
   "execution_count": 2,
   "id": "ac776bd1",
   "metadata": {},
   "outputs": [],
   "source": [
    "cities = [\"Seoul,KR\", \"Tokyo,JP\", \"New York,US\"]"
   ]
  },
  {
   "cell_type": "markdown",
   "id": "dd3d0db9",
   "metadata": {},
   "source": [
    "url 지정"
   ]
  },
  {
   "cell_type": "code",
   "execution_count": 3,
   "id": "fa9b3d83",
   "metadata": {},
   "outputs": [],
   "source": [
    "api = \"http://api.openweathermap.org/data/2.5/weather?q={city}&APPID={key}\""
   ]
  },
  {
   "cell_type": "markdown",
   "id": "5bd526b5",
   "metadata": {},
   "source": [
    "켈빈 온도를 섭씨 온도로 변환하는 함수"
   ]
  },
  {
   "cell_type": "code",
   "execution_count": 4,
   "id": "3875e23c",
   "metadata": {},
   "outputs": [],
   "source": [
    "k2c = lambda k: k - 273.15"
   ]
  },
  {
   "cell_type": "code",
   "execution_count": 7,
   "id": "123b2fd0",
   "metadata": {},
   "outputs": [
    {
     "name": "stdout",
     "output_type": "stream",
     "text": [
      "+ 도시 = Seoul\n",
      "| 날씨 = light rain\n",
      "| 최저 기온 = 21.420000000000016\n",
      "| 최고 기온 = 24.760000000000048\n",
      "| 습도 = 73\n",
      "| 기압 = 1010\n",
      "| 풍향 = 100\n",
      "| 풍속 = 4.12\n",
      "\n",
      "+ 도시 = Tokyo\n",
      "| 날씨 = broken clouds\n",
      "| 최저 기온 = 22.980000000000018\n",
      "| 최고 기온 = 31.58000000000004\n",
      "| 습도 = 72\n",
      "| 기압 = 1011\n",
      "| 풍향 = 110\n",
      "| 풍속 = 0.89\n",
      "\n",
      "+ 도시 = New York\n",
      "| 날씨 = light rain\n",
      "| 최저 기온 = 20.24000000000001\n",
      "| 최고 기온 = 23.510000000000048\n",
      "| 습도 = 91\n",
      "| 기압 = 1009\n",
      "| 풍향 = 240\n",
      "| 풍속 = 4.12\n",
      "\n"
     ]
    }
   ],
   "source": [
    "import requests\n",
    "import json\n",
    "\n",
    "for name in cities:\n",
    "    # API의 URL 구성하기 --- (※6)\n",
    "    url = api.format(city=name, key=apikey)\n",
    "    # API에 요청을 보내 데이터 추출하기\n",
    "    r = requests.get(url)\n",
    "    # 결과를 JSON 형식으로 변환하기 --- (※7)\n",
    "    data = json.loads(r.text)    \n",
    "    # 결과 출력하기 --- (※8)\n",
    "    print(\"+ 도시 =\", data[\"name\"])\n",
    "    print(\"| 날씨 =\", data[\"weather\"][0][\"description\"])\n",
    "    print(\"| 최저 기온 =\", k2c(data[\"main\"][\"temp_min\"]))\n",
    "    print(\"| 최고 기온 =\", k2c(data[\"main\"][\"temp_max\"]))\n",
    "    print(\"| 습도 =\", data[\"main\"][\"humidity\"])\n",
    "    print(\"| 기압 =\", data[\"main\"][\"pressure\"])\n",
    "    print(\"| 풍향 =\", data[\"wind\"][\"deg\"])\n",
    "    print(\"| 풍속 =\", data[\"wind\"][\"speed\"])\n",
    "    print(\"\")"
   ]
  },
  {
   "cell_type": "code",
   "execution_count": null,
   "id": "93e67093",
   "metadata": {},
   "outputs": [],
   "source": []
  }
 ],
 "metadata": {
  "kernelspec": {
   "display_name": "Python [conda env:tensor] *",
   "language": "python",
   "name": "conda-env-tensor-py"
  },
  "language_info": {
   "codemirror_mode": {
    "name": "ipython",
    "version": 3
   },
   "file_extension": ".py",
   "mimetype": "text/x-python",
   "name": "python",
   "nbconvert_exporter": "python",
   "pygments_lexer": "ipython3",
   "version": "3.8.11"
  }
 },
 "nbformat": 4,
 "nbformat_minor": 5
}
