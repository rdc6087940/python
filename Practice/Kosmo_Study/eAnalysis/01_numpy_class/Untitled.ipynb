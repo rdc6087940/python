{
 "cells": [
  {
   "cell_type": "markdown",
   "id": "9a763324",
   "metadata": {},
   "source": [
    "## 파이썬 기초 이해"
   ]
  },
  {
   "cell_type": "code",
   "execution_count": 1,
   "id": "c592a53b",
   "metadata": {},
   "outputs": [
    {
     "name": "stdout",
     "output_type": "stream",
     "text": [
      "1\n",
      "0\n"
     ]
    }
   ],
   "source": [
    "print(int(True)) #1\n",
    "print(int(False)) #0"
   ]
  },
  {
   "cell_type": "code",
   "execution_count": 2,
   "id": "6a6b6943",
   "metadata": {},
   "outputs": [],
   "source": [
    "print?"
   ]
  },
  {
   "cell_type": "code",
   "execution_count": 4,
   "id": "ddd18342",
   "metadata": {},
   "outputs": [
    {
     "name": "stdout",
     "output_type": "stream",
     "text": [
      "[1, 2, 3, 1, 2, 3]\n",
      "[]\n"
     ]
    }
   ],
   "source": [
    "print([1,2,3]*2)\n",
    "print([1,2,3]*0)"
   ]
  },
  {
   "cell_type": "markdown",
   "id": "2a18915e",
   "metadata": {},
   "source": [
    "## 넘파이 기초 이해"
   ]
  },
  {
   "cell_type": "code",
   "execution_count": 5,
   "id": "583f39d2",
   "metadata": {},
   "outputs": [
    {
     "name": "stdout",
     "output_type": "stream",
     "text": [
      "[2 4 6]\n",
      "[0 0 0]\n"
     ]
    }
   ],
   "source": [
    "import numpy as np\n",
    "\n",
    "print(np.array([1,2,3])*2) \n",
    "print(np.array([1,2,3])*0)"
   ]
  },
  {
   "cell_type": "code",
   "execution_count": 8,
   "id": "f60a0511",
   "metadata": {},
   "outputs": [
    {
     "name": "stdout",
     "output_type": "stream",
     "text": [
      "[[ 1 20]\n",
      " [ 1 30]\n",
      " [ 1 40]]\n"
     ]
    }
   ],
   "source": [
    "print(np.array([[1,2],[1,3],[1,4]]) * np.array([1,10]))"
   ]
  },
  {
   "cell_type": "code",
   "execution_count": null,
   "id": "87470e0e",
   "metadata": {},
   "outputs": [],
   "source": []
  }
 ],
 "metadata": {
  "kernelspec": {
   "display_name": "Python [conda env:tensor] *",
   "language": "python",
   "name": "conda-env-tensor-py"
  },
  "language_info": {
   "codemirror_mode": {
    "name": "ipython",
    "version": 3
   },
   "file_extension": ".py",
   "mimetype": "text/x-python",
   "name": "python",
   "nbconvert_exporter": "python",
   "pygments_lexer": "ipython3",
   "version": "3.8.11"
  }
 },
 "nbformat": 4,
 "nbformat_minor": 5
}
