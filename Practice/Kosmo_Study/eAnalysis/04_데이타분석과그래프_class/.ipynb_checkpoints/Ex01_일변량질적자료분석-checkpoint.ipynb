{
 "cells": [
  {
   "cell_type": "markdown",
   "metadata": {},
   "source": [
    "# 일변량질적자료\n",
    "\n",
    "> 1. 일변량 - 변수 하나\n",
    "\n",
    "> 2. 질적자료 - 명목형(카테고리) / 이산형\n",
    "        (ex. 남자/여자, 고급/중급/초급 )\n",
    "\n",
    "\n",
    "    * 질적자료 = 명목형 = 이산형\n",
    "    * 양적자료 = 수치형 = 연속형\n",
    "\n",
    "### 빈도와 그래프\n",
    "\n",
    "- 빈도 : 자료가 가지는 각각의 값이 몇 개 있는지를 구한 수치\n",
    "\n",
    "- 백분율 : 자료가 가지는 각각의 값이 전체를 100으로 보았을 때의 차지하고 얼마나 차지하고 있는지를 알려주는 수치\n",
    "\n",
    "### 질적자료 시각화 \n",
    "\n",
    "1.\n",
    "\n",
    "2.\n",
    "\n"
   ]
  },
  {
   "cell_type": "code",
   "execution_count": null,
   "metadata": {},
   "outputs": [],
   "source": [
    "# 데이타 읽어오기\n",
    "\n",
    "import pandas as pd\n",
    "\n",
    "# diamonds = pd.read_csv('data/diamonds.csv')\n",
    "# diamonds.head()\n",
    "\n"
   ]
  },
  {
   "cell_type": "code",
   "execution_count": null,
   "metadata": {},
   "outputs": [],
   "source": [
    "# 데이타프레임 구조 살피기\n",
    "# [*] 질적자료와 양적자료 확인 \n"
   ]
  },
  {
   "cell_type": "code",
   "execution_count": null,
   "metadata": {},
   "outputs": [],
   "source": [
    "\"\"\" 1. 빈도구하기 : value_counts() \"\"\"\n",
    "\n"
   ]
  },
  {
   "cell_type": "code",
   "execution_count": null,
   "metadata": {
    "scrolled": true
   },
   "outputs": [],
   "source": [
    "\"\"\" 2. 백분율  = 빈도수/전체수 * 100 \"\"\"\n"
   ]
  },
  {
   "cell_type": "code",
   "execution_count": null,
   "metadata": {},
   "outputs": [],
   "source": [
    "\"\"\" 3. 시각화 \"\"\"\n",
    "\n",
    "\n"
   ]
  }
 ],
 "metadata": {
  "kernelspec": {
   "display_name": "Python 3",
   "language": "python",
   "name": "python3"
  },
  "language_info": {
   "codemirror_mode": {
    "name": "ipython",
    "version": 3
   },
   "file_extension": ".py",
   "mimetype": "text/x-python",
   "name": "python",
   "nbconvert_exporter": "python",
   "pygments_lexer": "ipython3",
   "version": "3.7.3"
  }
 },
 "nbformat": 4,
 "nbformat_minor": 2
}
