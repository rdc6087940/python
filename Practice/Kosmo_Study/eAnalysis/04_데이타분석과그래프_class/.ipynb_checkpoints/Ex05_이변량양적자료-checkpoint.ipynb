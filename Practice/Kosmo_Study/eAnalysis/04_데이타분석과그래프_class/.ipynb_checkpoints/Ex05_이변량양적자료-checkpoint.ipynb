{
 "cells": [
  {
   "cell_type": "markdown",
   "metadata": {},
   "source": [
    "# 이변량양적자료\n",
    "\n",
    "> 1. 이변량 - 변수 2개\n",
    "\n",
    "> 2. 양적자료 -   숫자형 자료         (ex. 온도, 키, 몸무게 )\n",
    "\n",
    "\n",
    "            * 질적자료 = 명목형 = 이산형\n",
    "            * 양적자료 = 수치형 = 연속형\n",
    "\n",
    "> 3. 다변량 - 변수 여러개"
   ]
  },
  {
   "cell_type": "code",
   "execution_count": 1,
   "metadata": {},
   "outputs": [],
   "source": [
    "# 데이타 읽어오기\n",
    "%matplotlib inline\n",
    "\n",
    "import pandas as pd\n",
    "import matplotlib.pyplot as plt\n",
    "\n",
    "# 인덱스가 2번 생성되기에 기존 인덱스를 인덱스로 지정\n",
    "diamonds = pd.read_csv('data/diamonds.csv', index_col='Unnamed: 0')"
   ]
  },
  {
   "cell_type": "code",
   "execution_count": null,
   "metadata": {},
   "outputs": [],
   "source": []
  }
 ],
 "metadata": {
  "kernelspec": {
   "display_name": "Python 3",
   "language": "python",
   "name": "python3"
  },
  "language_info": {
   "codemirror_mode": {
    "name": "ipython",
    "version": 3
   },
   "file_extension": ".py",
   "mimetype": "text/x-python",
   "name": "python",
   "nbconvert_exporter": "python",
   "pygments_lexer": "ipython3",
   "version": "3.7.3"
  }
 },
 "nbformat": 4,
 "nbformat_minor": 2
}
