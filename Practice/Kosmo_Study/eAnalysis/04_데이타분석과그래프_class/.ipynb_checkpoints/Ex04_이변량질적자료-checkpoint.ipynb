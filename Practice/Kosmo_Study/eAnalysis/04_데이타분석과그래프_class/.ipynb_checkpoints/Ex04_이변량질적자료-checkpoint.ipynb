{
 "cells": [
  {
   "cell_type": "markdown",
   "metadata": {},
   "source": [
    "# 이변량질적자료\n",
    "\n",
    "> 1. 이변량 - 변수 2개\n",
    "\n",
    "> 2. 질적자료 - 명목형(카테고리) / 이산형\n",
    "        (ex. 남자/여자, 고급/중급/초급 )\n",
    "\n",
    "\n",
    "            * 질적자료 = 명목형 = 이산형\n",
    "            * 양적자료 = 수치형 = 연속형\n",
    "\n",
    "> 3. 다변량 - 변수 여러개\n",
    "\n",
    "\n",
    "--------------------------------------------\n",
    "\n",
    "    1. 두 질적자료에 대한 빈도수 : crosstab() 이용\n",
    "\n",
    "    2. 교차표 결과를 이용  -> 묶음 세로 막대 그래프"
   ]
  },
  {
   "cell_type": "code",
   "execution_count": null,
   "metadata": {},
   "outputs": [],
   "source": [
    "# 데이타 읽어오기\n",
    "\n",
    "import pandas as pd\n",
    "\n",
    "# 인덱스가 2번 생성되기에 기존 인덱스를 인덱스로 지정\n",
    "diamonds = pd.read_csv('data/diamonds.csv', index_col='Unnamed: 0')"
   ]
  },
  {
   "cell_type": "code",
   "execution_count": null,
   "metadata": {},
   "outputs": [],
   "source": [
    "# 두 질적자료에 대한 빈도수\n"
   ]
  },
  {
   "cell_type": "code",
   "execution_count": null,
   "metadata": {},
   "outputs": [],
   "source": []
  },
  {
   "cell_type": "code",
   "execution_count": null,
   "metadata": {},
   "outputs": [],
   "source": []
  }
 ],
 "metadata": {
  "kernelspec": {
   "display_name": "Python 3",
   "language": "python",
   "name": "python3"
  },
  "language_info": {
   "codemirror_mode": {
    "name": "ipython",
    "version": 3
   },
   "file_extension": ".py",
   "mimetype": "text/x-python",
   "name": "python",
   "nbconvert_exporter": "python",
   "pygments_lexer": "ipython3",
   "version": "3.7.3"
  }
 },
 "nbformat": 4,
 "nbformat_minor": 2
}
