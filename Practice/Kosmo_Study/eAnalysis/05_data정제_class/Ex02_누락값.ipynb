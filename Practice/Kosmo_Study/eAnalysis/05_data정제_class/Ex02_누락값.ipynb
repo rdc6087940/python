{
 "cells": [
  {
   "cell_type": "markdown",
   "metadata": {},
   "source": [
    "## 누락값 : NaN\n",
    "\n",
    "\n",
    "### * 누락값이 생기는 이유\n",
    "    1- 데이타 자체적으로 존재\n",
    "    2- 데이타 연결하면서\n",
    "    3- 데이타 입력시\n",
    "    4- 데이타 추출하여 연산할 때\n",
    "    \n",
    "\n",
    "### * 누락값 확인하기\n",
    "    1- 누락값 인지 확인\n",
    "        + df.isnull()\n",
    "        + df.notnull()\n",
    "    \n",
    "    2- 누락값 행수 확인\n",
    "        + df.sharp[0] - df.count()\n",
    "        \n",
    "    3- 누락값 수 확인 \n",
    "        +  numpy 라이브러리의 count_nonzero() 이용\n",
    "\n",
    "\n",
    "    \n",
    "\n",
    "### * 누락값 처리하기\n",
    "     (1) 누락값 삭제하기 : dropna()\n",
    "     (2) 누락값을 다른 값으로 대치하기 : fillna()"
   ]
  },
  {
   "cell_type": "code",
   "execution_count": 1,
   "metadata": {
    "scrolled": true
   },
   "outputs": [],
   "source": [
    "# 누락값 개념\n",
    "\n"
   ]
  },
  {
   "cell_type": "code",
   "execution_count": 2,
   "metadata": {},
   "outputs": [],
   "source": [
    "# 누락값 비교 방법 : pandas 메소드 이용\n",
    "import pandas as pd\n",
    "\n"
   ]
  },
  {
   "cell_type": "code",
   "execution_count": 3,
   "metadata": {},
   "outputs": [],
   "source": [
    "\"\"\" 누락값이 생기는 이유\n",
    "    1- 데이타 자체적으로 존재\n",
    "    2- 데이타 연결하면서\n",
    "    3- 데이타 입력시\n",
    "    4- 데이타 추출하여 연산할 때\n",
    "\"\"\"\n",
    "\n",
    "import pandas as pd\n",
    "\n",
    "survey = pd.read_csv('./data/survey_survey.csv')\n",
    "# survey\n",
    "visited = pd.read_csv('./data/survey_visited.csv')\n",
    "# visited\n",
    "\n"
   ]
  },
  {
   "cell_type": "markdown",
   "metadata": {},
   "source": [
    "## 누락값 처리하기\n",
    "\n",
    "\n",
    "(0) 누락값 확인\n",
    "\n",
    "(1) 누락값 삭제\n",
    "\n",
    "(2) 누락값 대치"
   ]
  },
  {
   "cell_type": "code",
   "execution_count": 5,
   "metadata": {},
   "outputs": [],
   "source": [
    "\"\"\" 누락값 확인 \"\"\"\n",
    "ebola = pd.read_csv('./data/ebola_timeseries.csv')\n",
    "# 제일 먼저 데이타 확인\n",
    "\n",
    "# 누락값이 아닌 값의 개수 확인\n",
    "\n",
    "\n",
    "# 누락값의 수 구하기\n",
    "\n",
    "\n",
    "# 전체적인 누락값의 수를 얻으려면 - numpy 라이브러리의 count_nonzero() 이용\n"
   ]
  },
  {
   "cell_type": "code",
   "execution_count": 6,
   "metadata": {},
   "outputs": [
    {
     "data": {
      "text/plain": [
       "' (1) 누락값 삭제하기 '"
      ]
     },
     "execution_count": 6,
     "metadata": {},
     "output_type": "execute_result"
    }
   ],
   "source": [
    "\"\"\" (1) 누락값 삭제하기 \"\"\"\n"
   ]
  },
  {
   "cell_type": "code",
   "execution_count": 7,
   "metadata": {},
   "outputs": [
    {
     "data": {
      "text/plain": [
       "' (2) 누락값 대치하기 '"
      ]
     },
     "execution_count": 7,
     "metadata": {},
     "output_type": "execute_result"
    }
   ],
   "source": [
    "\"\"\" (2) 누락값 대치하기 \"\"\"\n",
    "\n"
   ]
  },
  {
   "cell_type": "markdown",
   "metadata": {},
   "source": [
    "그럼 누락값 처리로 Data Cleaning 후 데이터 처리(Data Process)를 진행한다면?"
   ]
  }
 ],
 "metadata": {
  "kernelspec": {
   "display_name": "Python 3",
   "language": "python",
   "name": "python3"
  },
  "language_info": {
   "codemirror_mode": {
    "name": "ipython",
    "version": 3
   },
   "file_extension": ".py",
   "mimetype": "text/x-python",
   "name": "python",
   "nbconvert_exporter": "python",
   "pygments_lexer": "ipython3",
   "version": "3.8.5"
  }
 },
 "nbformat": 4,
 "nbformat_minor": 2
}
