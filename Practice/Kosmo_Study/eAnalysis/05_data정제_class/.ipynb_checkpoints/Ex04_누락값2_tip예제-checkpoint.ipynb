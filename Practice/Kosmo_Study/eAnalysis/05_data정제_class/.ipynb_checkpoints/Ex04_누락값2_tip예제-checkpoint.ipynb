{
 "cells": [
  {
   "cell_type": "markdown",
   "metadata": {},
   "source": [
    "##  데이타 전처리\n",
    "\n",
    "    \n",
    "1. 누락값(결측치) 처리\n",
    "        - 누락값을 가진 행 제거\n",
    "        - 누락값을 다른 값으로 대치 : 0, 평균값 \n",
    "        \n",
    "2. 데이타 필터링 \n",
    "        : 기준에 맞는 데이터를 걸러내는 것\n",
    "        \n",
    "\n",
    "\n",
    "[도서] Do it 데이타분석을 위한 판다스 입문"
   ]
  },
  {
   "cell_type": "markdown",
   "metadata": {},
   "source": [
    "## 0 . 데이타 만들기\n",
    "\n",
    "    데이타셋에서 임의의 10개의 데이타를 추출하고 그 중에서 4개의 total_bill이 값을 누적값으로 입력 "
   ]
  },
  {
   "cell_type": "code",
   "execution_count": 3,
   "metadata": {},
   "outputs": [],
   "source": [
    "import seaborn as sb\n",
    "import numpy as np\n",
    "\n",
    "\n",
    "tips = sb.load_dataset('tips')\n",
    "tips.head()\n",
    "\n",
    "np.random.seed(42) \n",
    "tips_10 = sb.load_dataset('tips').sample(10)\n",
    "# print(tips_10)\n",
    "\n",
    "tips_10.loc[ np.random.permutation(tips_10.index)[:4], 'total_bill'] = np.NaN   # permutate ( shuffle 비슷 )\n",
    "# print(tips_10)"
   ]
  },
  {
   "cell_type": "markdown",
   "metadata": {},
   "source": [
    "## 1. 누락값(결측치) 처리\n",
    "\n",
    "        - 누락값을 가진 행 제거\n",
    "        \n",
    "        - 누락값을 다른 값으로 대치 : 0, 평균값 \n",
    "\n"
   ]
  },
  {
   "cell_type": "code",
   "execution_count": null,
   "metadata": {},
   "outputs": [],
   "source": []
  },
  {
   "cell_type": "markdown",
   "metadata": {},
   "source": [
    "## 2. 데이타 필터링 \n",
    "        : 기준에 맞는 데이터를 걸러내는 것\n",
    "               \n",
    "        \n",
    "  (1) 원본 tips 데이타셋에서 손님수별 정보를 추출\n",
    "  \n",
    "  (2) tips_10 샘플에서 성별에 따른 데이타를 추출"
   ]
  },
  {
   "cell_type": "code",
   "execution_count": null,
   "metadata": {},
   "outputs": [],
   "source": []
  },
  {
   "cell_type": "code",
   "execution_count": null,
   "metadata": {},
   "outputs": [],
   "source": []
  },
  {
   "cell_type": "markdown",
   "metadata": {},
   "source": [
    "---\n",
    "[연습] 성별에 따라 시간대별로 평균값을 구하기 \n",
    "\n",
    "---"
   ]
  },
  {
   "cell_type": "code",
   "execution_count": null,
   "metadata": {},
   "outputs": [],
   "source": []
  }
 ],
 "metadata": {
  "kernelspec": {
   "display_name": "Python 3",
   "language": "python",
   "name": "python3"
  },
  "language_info": {
   "codemirror_mode": {
    "name": "ipython",
    "version": 3
   },
   "file_extension": ".py",
   "mimetype": "text/x-python",
   "name": "python",
   "nbconvert_exporter": "python",
   "pygments_lexer": "ipython3",
   "version": "3.7.3"
  }
 },
 "nbformat": 4,
 "nbformat_minor": 2
}
