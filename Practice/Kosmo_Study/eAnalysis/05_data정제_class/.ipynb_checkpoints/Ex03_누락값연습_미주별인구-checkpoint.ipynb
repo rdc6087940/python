{
 "cells": [
  {
   "cell_type": "markdown",
   "metadata": {},
   "source": [
    "#    미국 주와 주별 인구 데이타 예제 \n",
    "     - 2010년도 인구 밀도 기준으로 미국 주와 지역 순위를 출력\n",
    " \n",
    "1. 데이타를 로딩 후 데이타 정보 확인\n",
    "\n",
    "\n",
    "2. 데이타 연결\n",
    "        1- 인구 데이타와 주이름 약어 데이타를 연결\n",
    "            ( 각 주의 전체 이름과 인구를 볼 수 있도록 )\n",
    "            \n",
    "        2- 각 주의 인구 데이타와 면적 데이타를 연결\n",
    "            ( 각 주의 면적당 인구를 계산하여 인구 밀도를 구하기 )\n",
    "            \n",
    "3. 데이타 정제(데이타 전처리)\n",
    "     * 누락값 처리\n",
    "        1. 삭제한다\n",
    "        2. 대체한다\n",
    "    \n",
    "    실제로 2000년 이전의 PR(푸에르토리토)의 인구 데이타가 없는 것이다.\n",
    "    여기서는 2010년 데이타를 구할 것이기에 삭제해도 되지만 대체하는 방식을 연습한다\n",
    "    또한 전체 미국을 뜻하는 USA에 state와 abbreviation에도 데이타가 없다.\n",
    " \n",
    " \n",
    "4. 2010년 인구밀도 계산하고 표현\n",
    "        인구밀도 = 인구 / 면적\n",
    "        \n",
    "\n",
    " \n",
    "    [도서] 파이썬 데이타 사이언스 핸드북 - 위키북스/오렐리"
   ]
  },
  {
   "cell_type": "markdown",
   "metadata": {},
   "source": [
    "---\n",
    "## 1. 데이타를 로딩 후 데이타 정보 확인"
   ]
  },
  {
   "cell_type": "code",
   "execution_count": 1,
   "metadata": {},
   "outputs": [],
   "source": [
    "# 1. 데이타를 로딩 후 데이타 정보 확인\n",
    "import pandas as pd\n",
    "\n",
    "pop = pd.read_csv('./data/state-population.csv')    # 주별 인구\n",
    "areas = pd.read_csv('./data/state-areas.csv')       # 주의 면적\n",
    "abbrevs = pd.read_csv('./data/state-abbrevs.csv')   # 주이름 약자\n",
    "\n",
    "# 데이타 살펴보기\n",
    "\n",
    "# 행수 확인\n"
   ]
  },
  {
   "cell_type": "markdown",
   "metadata": {},
   "source": [
    "---\n",
    "## 2. 데이타 연결\n",
    "        \n",
    "    1- 인구 데이타(pop)와 주이름 약어 데이타(abbrevs)를 연결\n",
    "            ( 각 주의 전체 이름과 인구를 볼 수 있도록 )\n",
    "    2- 각 주의 인구 데이타(pop)와 면적 데이타(areas)를 연결\n",
    "            ( 각 주의 면적당 인구를 계산하여 인구 밀도를 구하기 )\n",
    "\n"
   ]
  },
  {
   "cell_type": "code",
   "execution_count": null,
   "metadata": {
    "scrolled": true
   },
   "outputs": [],
   "source": [
    "\n",
    "\n"
   ]
  },
  {
   "cell_type": "markdown",
   "metadata": {},
   "source": [
    "---\n",
    "##  3. 데이타 정제 -    누락값 처리\n",
    "\n",
    "        (1) 삭제한다\n",
    "        (2) 대체한다\n",
    "    \n",
    "    실제로 2000년 이전의 PR(푸에르토리토)의 인구 데이타가 없는 것이다.\n",
    "    여기서는 2010년 데이타를 구할 것이기에 삭제해도 되지만 대체하는 방식을 연습한다\n",
    "    또한 전체 미국을 뜻하는 USA에 state와 abbreviation이 없다.\n"
   ]
  },
  {
   "cell_type": "code",
   "execution_count": 2,
   "metadata": {},
   "outputs": [],
   "source": [
    "\n",
    "# (1) null 값 확인\n",
    "\n",
    "\n",
    "# (2) 우선 state 컬럼의 null 처리\n"
   ]
  },
  {
   "cell_type": "markdown",
   "metadata": {},
   "source": [
    "## 4. 각 주의 인구를 연결한 데이타셋에 주의 면적 데이타 셋을 연결하기 \n",
    "\n",
    "(merge이용)\n",
    "\n",
    "\n",
    "#### 1- pop과 abbreviation의 연결한 데이타셋과 areas(면적) 데이타셋을 연결\n",
    "\n",
    "#### 2-널 값 여부 확인\n",
    "\n",
    "#### 3- 널값 확인\n",
    "\n",
    "#### 4- 널값 처리 : 데이타 삭제하기\n",
    "    미국 전역에 대한 데이타는 인구 밀도와 관련이 없기에 삭제\n",
    "    \n",
    "#### 5- 면적이 null 값이 있는지 없는지 확인    "
   ]
  },
  {
   "cell_type": "code",
   "execution_count": 3,
   "metadata": {},
   "outputs": [],
   "source": [
    "# 각 주의 인구를 연결한 데이타셋에 주의 면적 데이타 셋을 연결하기\n",
    "\n",
    "# 1- pop과 abbreviation의 연결한 데이타셋과 areas(면적) 데이타셋을 연결\n",
    "\n",
    "# 2-널 값 여부 확인\n",
    "\n",
    "# 3- 널값 확인 : 면적값이 널인 주를 찾으면\n"
   ]
  },
  {
   "cell_type": "code",
   "execution_count": 4,
   "metadata": {},
   "outputs": [],
   "source": [
    "# 4- 널값 처리 : 데이타 삭제하기\n",
    "# 미국 전역에 대한 데이타는 인구 밀도와 관련이 없기에 삭제\n"
   ]
  },
  {
   "cell_type": "code",
   "execution_count": 5,
   "metadata": {},
   "outputs": [],
   "source": [
    "# 5- [결과확인] 면적이 null 값이 있는지 없는지 확인\n",
    "\n"
   ]
  },
  {
   "cell_type": "markdown",
   "metadata": {},
   "source": [
    "## 2010년 인구밀도 계산하고 표현\n",
    "        \n",
    "        \n",
    "    인구밀도 = 인구 / 면적\n",
    "        \n",
    "    필요한 데이타는 2010년 전체 인구에 대한 데이타집합이다.\n"
   ]
  },
  {
   "cell_type": "code",
   "execution_count": 6,
   "metadata": {},
   "outputs": [
    {
     "data": {
      "text/plain": [
       "\"\\n# 필요한 데이타집합 추출\\ndata = finalmerged[finalmerged['year']==2010]\\ndata = data[finalmerged['ages']=='total']\\n# print(data)\\n\\n# 주(state)를 기준으로 데이타 인덱스를 정하고 인구밀도 계산\\ndata.set_index('state', inplace=True)\\n# print(data)\\n\\n\\ndensity = data['population']/data['area (sq. mi)']\\ndensity\\n\\ndensity.sort_values(ascending=False, inplace=True)\\nprint(density)  \\n\""
      ]
     },
     "execution_count": 6,
     "metadata": {},
     "output_type": "execute_result"
    }
   ],
   "source": [
    "'''\n",
    "\n",
    "# 필요한 데이타집합 추출\n",
    "data = finalmerged[finalmerged['year']==2010]\n",
    "data = data[finalmerged['ages']=='total']\n",
    "# print(data)\n",
    "\n",
    "# 주(state)를 기준으로 데이타 인덱스를 정하고 인구밀도 계산\n",
    "data.set_index('state', inplace=True)\n",
    "# print(data)\n",
    "\n",
    "\n",
    "density = data['population']/data['area (sq. mi)']\n",
    "density\n",
    "\n",
    "density.sort_values(ascending=False, inplace=True)\n",
    "print(density)  \n",
    "'''"
   ]
  },
  {
   "cell_type": "markdown",
   "metadata": {},
   "source": [
    "### [결과] \n",
    "\n",
    "        state\n",
    "        District of Columbia    8898.897059\n",
    "        New Jersey              1009.253268\n",
    "        Rhode Island             681.339159\n",
    "        Connecticut              645.600649\n",
    "        Massachusetts            621.815538\n",
    "        Maryland                 466.445797\n",
    "        Delaware                 460.445752\n",
    "        New York                 356.094135\n",
    "        Florida                  286.597129\n",
    "        Pennsylvania             275.966651\n",
    "        Ohio                     257.549634\n",
    "        California               228.051342\n",
    "        Illinois                 221.687472\n",
    "        Virginia                 187.622273\n",
    "        Indiana                  178.197831\n",
    "        North Carolina           177.617157\n",
    "        Georgia                  163.409902\n",
    "        Tennessee                150.825298\n",
    "        South Carolina           144.854594\n",
    "        New Hampshire            140.799273\n",
    "        Hawaii                   124.746707\n",
    "        Kentucky                 107.586994\n",
    "        Michigan                 102.015794\n",
    "        Washington                94.557817\n",
    "        Texas                     93.987655\n",
    "        Alabama                   91.287603\n",
    "        Louisiana                 87.676099\n",
    "        Wisconsin                 86.851900\n",
    "        Missouri                  86.015622\n",
    "        West Virginia             76.519582\n",
    "        Vermont                   65.085075\n",
    "        Mississippi               61.321530\n",
    "        Minnesota                 61.078373\n",
    "        Arizona                   56.214497\n",
    "        Arkansas                  54.948667\n",
    "        Iowa                      54.202751\n",
    "        Oklahoma                  53.778278\n",
    "        Colorado                  48.493718\n",
    "        Oregon                    39.001565\n",
    "        Maine                     37.509990\n",
    "        Kansas                    34.745266\n",
    "        Utah                      32.677188\n",
    "        Nevada                    24.448796\n",
    "        Nebraska                  23.654153\n",
    "        Idaho                     18.794338\n",
    "        New Mexico                16.982737\n",
    "        South Dakota              10.583512\n",
    "        North Dakota               9.537565\n",
    "        Montana                    6.736171\n",
    "        Wyoming                    5.768079\n",
    "        Alaska                     1.087509\n",
    "\n",
    "\n",
    "---"
   ]
  },
  {
   "cell_type": "markdown",
   "metadata": {},
   "source": [
    "\n",
    "  [분석결과]\n",
    "  \n",
    "  인구 밀도가 가장 높은 주는 District of Columbia(DC) 워싱톤DC 이고\n",
    "  그 다음은 Puerto Rico 이다.\n",
    "  \n",
    "  인구 밀도가 가장 작은 Alaska는 1제곱마일당 평균 주민수가 1만명정도이다.\n",
    "  \n",
    "  [시각화작업]\n"
   ]
  }
 ],
 "metadata": {
  "kernelspec": {
   "display_name": "Python 3",
   "language": "python",
   "name": "python3"
  },
  "language_info": {
   "codemirror_mode": {
    "name": "ipython",
    "version": 3
   },
   "file_extension": ".py",
   "mimetype": "text/x-python",
   "name": "python",
   "nbconvert_exporter": "python",
   "pygments_lexer": "ipython3",
   "version": "3.8.5"
  }
 },
 "nbformat": 4,
 "nbformat_minor": 2
}
