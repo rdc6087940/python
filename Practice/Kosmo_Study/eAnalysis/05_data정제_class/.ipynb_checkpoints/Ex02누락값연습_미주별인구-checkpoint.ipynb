{
 "cells": [
  {
   "cell_type": "markdown",
   "metadata": {},
   "source": [
    "###    미국 주와 주별 인구 데이타 예제 \n",
    "     - 2010년도 인구 밀도 기준으로 미국 주와 지역 순위를 출력\n",
    " \n",
    "1. 데이타를 로딩 후 데이타 정보 확인\n",
    "\n",
    "\n",
    "2. 데이타 연결\n",
    "        1- 인구 데이타와 주이름 약어 데이타를 연결\n",
    "            ( 각 주의 전체 이름과 인구를 볼 수 있도록 )\n",
    "            \n",
    "        2- 각 주의 인구 데이타와 면적 데이타를 연결\n",
    "            ( 각 주의 면적당 인구를 계산하여 인구 밀도를 구하기 )\n",
    "            \n",
    "3. 데이타 정제(데이타 전처리)\n",
    "     * 누락값 처리\n",
    "        1. 삭제한다\n",
    "        2. 대체한다\n",
    "    \n",
    "    실제로 2000년 이전의 PR(푸에르토리토)의 인구 데이타가 없는 것이다.\n",
    "    여기서는 2010년 데이타를 구할 것이기에 삭제해도 되지만 대체하는 방식을 연습한다\n",
    "    또한 전체 미국을 뜻하는 USA에 state와 abbreviation이 없다.\n",
    " \n",
    " \n",
    "4. 인구밀도 계산하고 표현\n",
    "        인구밀도 = 인구 / 면적\n",
    "        \n",
    "    필요한 데이타는 2010년 전체 인구에 대한 데이타집합이다.\n",
    "\n",
    " \n",
    " \n",
    "    [도서] 파이썬 데이타 사이언스 핸드북 - 위키북스/오렐리"
   ]
  },
  {
   "cell_type": "code",
   "execution_count": 4,
   "metadata": {},
   "outputs": [
    {
     "name": "stdout",
     "output_type": "stream",
     "text": [
      "(2544, 4)\n",
      "(52, 2)\n",
      "(51, 2)\n"
     ]
    }
   ],
   "source": [
    "# 1. 데이타를 로딩 후 데이타 정보 확인\n",
    "import pandas as pd\n",
    "\n",
    "pop = pd.read_csv('./data/state-population.csv')    # 주별 인구\n",
    "areas = pd.read_csv('./data/state-areas.csv')       # 주의 면적\n",
    "abbrevs = pd.read_csv('./data/state-abbrevs.csv')   # 주이름 약자\n",
    "# pop\n",
    "# areas\n",
    "# abbrevs\n",
    "\n",
    "# print(pop.head())\n",
    "# print(areas.head())\n",
    "# print(abbrevs.head())\n",
    "\n",
    "# 행수 확인\n",
    "print(pop.shape)\n",
    "print(areas.shape)\n",
    "print(abbrevs.shape)"
   ]
  },
  {
   "cell_type": "code",
   "execution_count": 9,
   "metadata": {
    "scrolled": true
   },
   "outputs": [
    {
     "name": "stdout",
     "output_type": "stream",
     "text": [
      "     state/region     ages  year  population state abbreviation\n",
      "2448           PR  under18  1990         NaN   NaN          NaN\n",
      "2449           PR    total  1990         NaN   NaN          NaN\n",
      "2450           PR    total  1991         NaN   NaN          NaN\n",
      "2451           PR  under18  1991         NaN   NaN          NaN\n",
      "2452           PR    total  1993         NaN   NaN          NaN\n",
      "2453           PR  under18  1993         NaN   NaN          NaN\n",
      "2454           PR  under18  1992         NaN   NaN          NaN\n",
      "2455           PR    total  1992         NaN   NaN          NaN\n",
      "2456           PR  under18  1994         NaN   NaN          NaN\n",
      "2457           PR    total  1994         NaN   NaN          NaN\n",
      "2458           PR    total  1995         NaN   NaN          NaN\n",
      "2459           PR  under18  1995         NaN   NaN          NaN\n",
      "2460           PR  under18  1996         NaN   NaN          NaN\n",
      "2461           PR    total  1996         NaN   NaN          NaN\n",
      "2462           PR  under18  1998         NaN   NaN          NaN\n",
      "2463           PR    total  1998         NaN   NaN          NaN\n",
      "2464           PR    total  1997         NaN   NaN          NaN\n",
      "2465           PR  under18  1997         NaN   NaN          NaN\n",
      "2466           PR    total  1999         NaN   NaN          NaN\n",
      "2467           PR  under18  1999         NaN   NaN          NaN\n",
      "     state/region     ages  year   population state abbreviation\n",
      "2448           PR  under18  1990          NaN   NaN          NaN\n",
      "2449           PR    total  1990          NaN   NaN          NaN\n",
      "2450           PR    total  1991          NaN   NaN          NaN\n",
      "2451           PR  under18  1991          NaN   NaN          NaN\n",
      "2452           PR    total  1993          NaN   NaN          NaN\n",
      "2453           PR  under18  1993          NaN   NaN          NaN\n",
      "2454           PR  under18  1992          NaN   NaN          NaN\n",
      "2455           PR    total  1992          NaN   NaN          NaN\n",
      "2456           PR  under18  1994          NaN   NaN          NaN\n",
      "2457           PR    total  1994          NaN   NaN          NaN\n",
      "2458           PR    total  1995          NaN   NaN          NaN\n",
      "2459           PR  under18  1995          NaN   NaN          NaN\n",
      "2460           PR  under18  1996          NaN   NaN          NaN\n",
      "2461           PR    total  1996          NaN   NaN          NaN\n",
      "2462           PR  under18  1998          NaN   NaN          NaN\n",
      "2463           PR    total  1998          NaN   NaN          NaN\n",
      "2464           PR    total  1997          NaN   NaN          NaN\n",
      "2465           PR  under18  1997          NaN   NaN          NaN\n",
      "2466           PR    total  1999          NaN   NaN          NaN\n",
      "2467           PR  under18  1999          NaN   NaN          NaN\n",
      "2468           PR    total  2000    3810605.0   NaN          NaN\n",
      "2469           PR  under18  2000    1089063.0   NaN          NaN\n",
      "2470           PR    total  2001    3818774.0   NaN          NaN\n",
      "2471           PR  under18  2001    1077566.0   NaN          NaN\n",
      "2472           PR    total  2002    3823701.0   NaN          NaN\n",
      "2473           PR  under18  2002    1065051.0   NaN          NaN\n",
      "2474           PR    total  2004    3826878.0   NaN          NaN\n",
      "2475           PR  under18  2004    1035919.0   NaN          NaN\n",
      "2476           PR    total  2003    3826095.0   NaN          NaN\n",
      "2477           PR  under18  2003    1050615.0   NaN          NaN\n",
      "...           ...      ...   ...          ...   ...          ...\n",
      "2514          USA  under18  1999   71946051.0   NaN          NaN\n",
      "2515          USA    total  2000  282162411.0   NaN          NaN\n",
      "2516          USA  under18  2000   72376189.0   NaN          NaN\n",
      "2517          USA    total  1999  279040181.0   NaN          NaN\n",
      "2518          USA    total  2001  284968955.0   NaN          NaN\n",
      "2519          USA  under18  2001   72671175.0   NaN          NaN\n",
      "2520          USA    total  2002  287625193.0   NaN          NaN\n",
      "2521          USA  under18  2002   72936457.0   NaN          NaN\n",
      "2522          USA    total  2003  290107933.0   NaN          NaN\n",
      "2523          USA  under18  2003   73100758.0   NaN          NaN\n",
      "2524          USA    total  2004  292805298.0   NaN          NaN\n",
      "2525          USA  under18  2004   73297735.0   NaN          NaN\n",
      "2526          USA    total  2005  295516599.0   NaN          NaN\n",
      "2527          USA  under18  2005   73523669.0   NaN          NaN\n",
      "2528          USA    total  2006  298379912.0   NaN          NaN\n",
      "2529          USA  under18  2006   73757714.0   NaN          NaN\n",
      "2530          USA    total  2007  301231207.0   NaN          NaN\n",
      "2531          USA  under18  2007   74019405.0   NaN          NaN\n",
      "2532          USA    total  2008  304093966.0   NaN          NaN\n",
      "2533          USA  under18  2008   74104602.0   NaN          NaN\n",
      "2534          USA  under18  2013   73585872.0   NaN          NaN\n",
      "2535          USA    total  2013  316128839.0   NaN          NaN\n",
      "2536          USA    total  2009  306771529.0   NaN          NaN\n",
      "2537          USA  under18  2009   74134167.0   NaN          NaN\n",
      "2538          USA  under18  2010   74119556.0   NaN          NaN\n",
      "2539          USA    total  2010  309326295.0   NaN          NaN\n",
      "2540          USA  under18  2011   73902222.0   NaN          NaN\n",
      "2541          USA    total  2011  311582564.0   NaN          NaN\n",
      "2542          USA  under18  2012   73708179.0   NaN          NaN\n",
      "2543          USA    total  2012  313873685.0   NaN          NaN\n",
      "\n",
      "[96 rows x 6 columns]\n",
      "     state/region     ages  year   population state abbreviation\n",
      "2448           PR  under18  1990          NaN   NaN          NaN\n",
      "2449           PR    total  1990          NaN   NaN          NaN\n",
      "2450           PR    total  1991          NaN   NaN          NaN\n",
      "2451           PR  under18  1991          NaN   NaN          NaN\n",
      "2452           PR    total  1993          NaN   NaN          NaN\n",
      "2453           PR  under18  1993          NaN   NaN          NaN\n",
      "2454           PR  under18  1992          NaN   NaN          NaN\n",
      "2455           PR    total  1992          NaN   NaN          NaN\n",
      "2456           PR  under18  1994          NaN   NaN          NaN\n",
      "2457           PR    total  1994          NaN   NaN          NaN\n",
      "2458           PR    total  1995          NaN   NaN          NaN\n",
      "2459           PR  under18  1995          NaN   NaN          NaN\n",
      "2460           PR  under18  1996          NaN   NaN          NaN\n",
      "2461           PR    total  1996          NaN   NaN          NaN\n",
      "2462           PR  under18  1998          NaN   NaN          NaN\n",
      "2463           PR    total  1998          NaN   NaN          NaN\n",
      "2464           PR    total  1997          NaN   NaN          NaN\n",
      "2465           PR  under18  1997          NaN   NaN          NaN\n",
      "2466           PR    total  1999          NaN   NaN          NaN\n",
      "2467           PR  under18  1999          NaN   NaN          NaN\n",
      "2468           PR    total  2000    3810605.0   NaN          NaN\n",
      "2469           PR  under18  2000    1089063.0   NaN          NaN\n",
      "2470           PR    total  2001    3818774.0   NaN          NaN\n",
      "2471           PR  under18  2001    1077566.0   NaN          NaN\n",
      "2472           PR    total  2002    3823701.0   NaN          NaN\n",
      "2473           PR  under18  2002    1065051.0   NaN          NaN\n",
      "2474           PR    total  2004    3826878.0   NaN          NaN\n",
      "2475           PR  under18  2004    1035919.0   NaN          NaN\n",
      "2476           PR    total  2003    3826095.0   NaN          NaN\n",
      "2477           PR  under18  2003    1050615.0   NaN          NaN\n",
      "...           ...      ...   ...          ...   ...          ...\n",
      "2514          USA  under18  1999   71946051.0   NaN          NaN\n",
      "2515          USA    total  2000  282162411.0   NaN          NaN\n",
      "2516          USA  under18  2000   72376189.0   NaN          NaN\n",
      "2517          USA    total  1999  279040181.0   NaN          NaN\n",
      "2518          USA    total  2001  284968955.0   NaN          NaN\n",
      "2519          USA  under18  2001   72671175.0   NaN          NaN\n",
      "2520          USA    total  2002  287625193.0   NaN          NaN\n",
      "2521          USA  under18  2002   72936457.0   NaN          NaN\n",
      "2522          USA    total  2003  290107933.0   NaN          NaN\n",
      "2523          USA  under18  2003   73100758.0   NaN          NaN\n",
      "2524          USA    total  2004  292805298.0   NaN          NaN\n",
      "2525          USA  under18  2004   73297735.0   NaN          NaN\n",
      "2526          USA    total  2005  295516599.0   NaN          NaN\n",
      "2527          USA  under18  2005   73523669.0   NaN          NaN\n",
      "2528          USA    total  2006  298379912.0   NaN          NaN\n",
      "2529          USA  under18  2006   73757714.0   NaN          NaN\n",
      "2530          USA    total  2007  301231207.0   NaN          NaN\n",
      "2531          USA  under18  2007   74019405.0   NaN          NaN\n",
      "2532          USA    total  2008  304093966.0   NaN          NaN\n",
      "2533          USA  under18  2008   74104602.0   NaN          NaN\n",
      "2534          USA  under18  2013   73585872.0   NaN          NaN\n",
      "2535          USA    total  2013  316128839.0   NaN          NaN\n",
      "2536          USA    total  2009  306771529.0   NaN          NaN\n",
      "2537          USA  under18  2009   74134167.0   NaN          NaN\n",
      "2538          USA  under18  2010   74119556.0   NaN          NaN\n",
      "2539          USA    total  2010  309326295.0   NaN          NaN\n",
      "2540          USA  under18  2011   73902222.0   NaN          NaN\n",
      "2541          USA    total  2011  311582564.0   NaN          NaN\n",
      "2542          USA  under18  2012   73708179.0   NaN          NaN\n",
      "2543          USA    total  2012  313873685.0   NaN          NaN\n",
      "\n",
      "[96 rows x 6 columns]\n"
     ]
    }
   ],
   "source": [
    "\"\"\" 2. 데이타 연결\n",
    "        1- 인구 데이타(pop)와 주이름 약어 데이타(abbrevs)를 연결\n",
    "            ( 각 주의 전체 이름과 인구를 볼 수 있도록 )\n",
    "        2- 각 주의 인구 데이타(pop)와 면적 데이타(areas)를 연결\n",
    "            ( 각 주의 면적당 인구를 계산하여 인구 밀도를 구하기 )\n",
    "\n",
    "\"\"\" \n",
    "\n",
    "\n",
    "# (0) inner 조인 (merge)\n",
    "# merged = pd.merge(pop, abbrevs, left_on='state/region', right_on='abbreviation')\n",
    "# print(merged)\n",
    "# print(merged.shape) # pop.shape와 비교하면 2544-2488로 데이타 수의 차이\n",
    "\n",
    "# (1) outer 조인\n",
    "merged = pd.merge(pop, abbrevs, how='outer', left_on='state/region', right_on='abbreviation')\n",
    "# print(merged.head())\n",
    "# print(merged.shape)  #  (2544, 6) : pop 데이타프레임의 행수와 동일\n",
    "\n"
   ]
  },
  {
   "cell_type": "code",
   "execution_count": 10,
   "metadata": {},
   "outputs": [
    {
     "data": {
      "text/plain": [
       "state/region    False\n",
       "ages            False\n",
       "year            False\n",
       "population       True\n",
       "state           False\n",
       "abbreviation     True\n",
       "dtype: bool"
      ]
     },
     "execution_count": 10,
     "metadata": {},
     "output_type": "execute_result"
    }
   ],
   "source": [
    "\"\"\"                \n",
    "    3. 데이타 정제 -    누락값 처리\n",
    "        (1) 삭제한다\n",
    "        (2) 대체한다\n",
    "    \n",
    "    실제로 2000년 이전의 PR(푸에르토리토)의 인구 데이타가 없는 것이다.\n",
    "    여기서는 2010년 데이타를 구할 것이기에 삭제해도 되지만 대체하는 방식을 연습한다\n",
    "    또한 전체 미국을 뜻하는 USA에 state와 abbreviation이 없다.\n",
    "\"\"\"\n",
    "\n",
    "# (1) null 값 확인\n",
    "merged.isnull().any()\n",
    "\n",
    "# null 값이 있다는 항목에서 null 값 확인\n",
    "# print(merged[merged['population'].isnull()])\n",
    "# print(merged[merged['state'].isnull()])\n",
    "# print(merged[merged['abbreviation'].isnull()])\n",
    "\n",
    "# (2) 우선 state 컬럼의 null 처리\n",
    "merged.loc[merged['state/region']=='PR', 'state'] = 'Puerto Rico'\n",
    "merged.loc[merged['state/region']=='USA', 'state'] = 'United States'\n",
    "# print(merged)\n",
    "merged.isnull().any()  # [결과] state  False"
   ]
  },
  {
   "cell_type": "markdown",
   "metadata": {},
   "source": [
    "####  각 주의 인구를 연결한 데이타셋에 주의 면적 데이타 셋을 연결하기"
   ]
  },
  {
   "cell_type": "code",
   "execution_count": 41,
   "metadata": {},
   "outputs": [],
   "source": [
    "# 각 주의 인구를 연결한 데이타셋에 주의 면적 데이타 셋을 연결하기\n",
    "\n",
    "# 1- pop과 abbreviation의 연결한 데이타셋과 areas(면적) 데이타셋을 연결\n",
    "finalmerged = pd.merge(merged, areas, on='state', how='left')\n",
    "# print(finalmerged)\n",
    "\n",
    "# 2-널 값 여부 확인\n",
    "# finalmerged.isnull().any()  # [결과] area (sq. mi)     True\n",
    "\n",
    "# 면적값이 널인 주를 찾으면\n",
    "# finalmerged['state'][finalmerged['area (sq. mi)'].isnull()]\n",
    "# finalmerged['state'][finalmerged['area (sq. mi)'].isnull()].unique()  # unique()를 붙여서 확인하면 더 편리\n",
    "\n"
   ]
  },
  {
   "cell_type": "code",
   "execution_count": 47,
   "metadata": {
    "scrolled": true
   },
   "outputs": [
    {
     "data": {
      "text/plain": [
       "(2448, 7)"
      ]
     },
     "execution_count": 47,
     "metadata": {},
     "output_type": "execute_result"
    }
   ],
   "source": [
    "# 3- 널값 데이타 삭제하기\n",
    "# 미국 전역에 대한 데이타는 인구 밀도와 관련이 없이게 삭제\n",
    "\n",
    "finalmerged.dropna(inplace=True)\n",
    "finalmerged.shape\n",
    "\n",
    "\n",
    "# inplace 속성은 반환값을 받지않고 기존 데이타프레임을 변경\n",
    "# inplace 속성이 없으면 결과가 반환되어 화면에 출력된다"
   ]
  },
  {
   "cell_type": "code",
   "execution_count": 36,
   "metadata": {},
   "outputs": [
    {
     "data": {
      "text/plain": [
       "array(['Alabama', 'Alaska', 'Arizona', 'Arkansas', 'California',\n",
       "       'Colorado', 'Connecticut', 'Delaware', 'District of Columbia',\n",
       "       'Florida', 'Georgia', 'Hawaii', 'Idaho', 'Illinois', 'Indiana',\n",
       "       'Iowa', 'Kansas', 'Kentucky', 'Louisiana', 'Maine', 'Maryland',\n",
       "       'Massachusetts', 'Michigan', 'Minnesota', 'Mississippi',\n",
       "       'Missouri', 'Montana', 'Nebraska', 'Nevada', 'New Hampshire',\n",
       "       'New Jersey', 'New Mexico', 'New York', 'North Carolina',\n",
       "       'North Dakota', 'Ohio', 'Oklahoma', 'Oregon', 'Pennsylvania',\n",
       "       'Rhode Island', 'South Carolina', 'South Dakota', 'Tennessee',\n",
       "       'Texas', 'Utah', 'Vermont', 'Virginia', 'Washington',\n",
       "       'West Virginia', 'Wisconsin', 'Wyoming'], dtype=object)"
      ]
     },
     "execution_count": 36,
     "metadata": {},
     "output_type": "execute_result"
    }
   ],
   "source": [
    "# [결과확인] 면적이 null 값이 있는지 없는지 확인\n",
    "\n",
    "# finalmerged['state'][finalmerged['area (sq. mi)'].isnull()].unique()\n",
    "finalmerged['state'][finalmerged['area (sq. mi)'].notnull()].unique()\n"
   ]
  },
  {
   "cell_type": "code",
   "execution_count": 61,
   "metadata": {
    "collapsed": true
   },
   "outputs": [
    {
     "name": "stdout",
     "output_type": "stream",
     "text": [
      "['AL' 'AK' 'AZ' 'AR' 'CA' 'CO' 'CT' 'DE' 'DC' 'FL' 'GA' 'HI' 'ID' 'IL'\n",
      " 'IN' 'IA' 'KS' 'KY' 'LA' 'ME' 'MD' 'MA' 'MI' 'MN' 'MS' 'MO' 'MT' 'NE'\n",
      " 'NV' 'NH' 'NJ' 'NM' 'NY' 'NC' 'ND' 'OH' 'OK' 'OR' 'PA' 'RI' 'SC' 'SD'\n",
      " 'TN' 'TX' 'UT' 'VT' 'VA' 'WA' 'WV' 'WI' 'WY' 'PR' 'USA']\n",
      "state\n",
      "District of Columbia    8898.897059\n",
      "Puerto Rico             1058.665149\n",
      "New Jersey              1009.253268\n",
      "Rhode Island             681.339159\n",
      "Connecticut              645.600649\n",
      "Massachusetts            621.815538\n",
      "Maryland                 466.445797\n",
      "Delaware                 460.445752\n",
      "New York                 356.094135\n",
      "Florida                  286.597129\n",
      "Pennsylvania             275.966651\n",
      "Ohio                     257.549634\n",
      "California               228.051342\n",
      "Illinois                 221.687472\n",
      "Virginia                 187.622273\n",
      "Indiana                  178.197831\n",
      "North Carolina           177.617157\n",
      "Georgia                  163.409902\n",
      "Tennessee                150.825298\n",
      "South Carolina           144.854594\n",
      "New Hampshire            140.799273\n",
      "Hawaii                   124.746707\n",
      "Kentucky                 107.586994\n",
      "Michigan                 102.015794\n",
      "Washington                94.557817\n",
      "Texas                     93.987655\n",
      "Alabama                   91.287603\n",
      "Louisiana                 87.676099\n",
      "Wisconsin                 86.851900\n",
      "Missouri                  86.015622\n",
      "West Virginia             76.519582\n",
      "Vermont                   65.085075\n",
      "Mississippi               61.321530\n",
      "Minnesota                 61.078373\n",
      "Arizona                   56.214497\n",
      "Arkansas                  54.948667\n",
      "Iowa                      54.202751\n",
      "Oklahoma                  53.778278\n",
      "Colorado                  48.493718\n",
      "Oregon                    39.001565\n",
      "Maine                     37.509990\n",
      "Kansas                    34.745266\n",
      "Utah                      32.677188\n",
      "Nevada                    24.448796\n",
      "Nebraska                  23.654153\n",
      "Idaho                     18.794338\n",
      "New Mexico                16.982737\n",
      "South Dakota              10.583512\n",
      "North Dakota               9.537565\n",
      "Montana                    6.736171\n",
      "Wyoming                    5.768079\n",
      "Alaska                     1.087509\n",
      "United States                   NaN\n",
      "dtype: float64\n"
     ]
    },
    {
     "name": "stderr",
     "output_type": "stream",
     "text": [
      "C:\\ProgramData\\Anaconda3\\lib\\site-packages\\ipykernel_launcher.py:9: UserWarning: Boolean Series key will be reindexed to match DataFrame index.\n",
      "  if __name__ == '__main__':\n"
     ]
    },
    {
     "data": {
      "text/plain": [
       "'\\n  [분석결과]\\n  인구 밀도가 가장 높은 주는 District of Columbia(DC) 워싱톤DC 이고\\n'"
      ]
     },
     "execution_count": 61,
     "metadata": {},
     "output_type": "execute_result"
    }
   ],
   "source": [
    "\"\"\" 4. 인구밀도 계산하고 표현\n",
    "        인구밀도 = 인구 / 면적\n",
    "        \n",
    "    필요한 데이타는 2010년 전체 인구에 대한 데이타집합이다.\n",
    "\"\"\"\n",
    "\n",
    "# 필요한 데이타집합 추출\n",
    "data = finalmerged[finalmerged['year']==2010]\n",
    "data = data[finalmerged['ages']=='total']\n",
    "# print(data)\n",
    "\n",
    "# 주(state)를 기준으로 데이타 인덱스를 정하고 인구밀도 계산\n",
    "data.set_index('state', inplace=True)\n",
    "# print(data)\n",
    "density = data['population']/data['area (sq. mi)']\n",
    "density\n",
    "\n",
    "density.sort_values(ascending=False, inplace=True)\n",
    "print(density)  \n",
    "# 기본정렬은 인덱스인 state의 알파벳순인지만 ascending속성을 지정하면 값에 의한 정렬이네\n"
   ]
  },
  {
   "cell_type": "markdown",
   "metadata": {},
   "source": [
    "\n",
    "  [분석결과]\n",
    "  \n",
    "  인구 밀도가 가장 높은 주는 District of Columbia(DC) 워싱톤DC 이고\n",
    "  그 다음은 Puerto Rico 이다.\n",
    "  \n",
    "  인구 밀도가 가장 작은 Alaska는 1제곱마일당 평균 주민수가 1만명정도이다.\n",
    "  \n",
    "  [시각화작업]\n"
   ]
  }
 ],
 "metadata": {
  "kernelspec": {
   "display_name": "Python 3",
   "language": "python",
   "name": "python3"
  },
  "language_info": {
   "codemirror_mode": {
    "name": "ipython",
    "version": 3
   },
   "file_extension": ".py",
   "mimetype": "text/x-python",
   "name": "python",
   "nbconvert_exporter": "python",
   "pygments_lexer": "ipython3",
   "version": "3.7.3"
  }
 },
 "nbformat": 4,
 "nbformat_minor": 2
}
