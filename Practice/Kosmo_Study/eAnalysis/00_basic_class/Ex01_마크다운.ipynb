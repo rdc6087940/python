{
 "cells": [
  {
   "cell_type": "markdown",
   "id": "bf6e101b",
   "metadata": {},
   "source": [
    "### 쉘모드 변경\n",
    "\n",
    "+ Code 셀로 변경 : Esc > y\n",
    "+ Markdown 셀로 변경 : Esc > m"
   ]
  },
  {
   "cell_type": "code",
   "execution_count": 1,
   "id": "b0a2752b",
   "metadata": {},
   "outputs": [
    {
     "data": {
      "text/plain": [
       "'hello'"
      ]
     },
     "execution_count": 1,
     "metadata": {},
     "output_type": "execute_result"
    }
   ],
   "source": [
    "# 파이썬 코드\n",
    "a = 'hello'\n",
    "a\n",
    "p"
   ]
  },
  {
   "cell_type": "markdown",
   "id": "b8bbb4d6",
   "metadata": {},
   "source": [
    "# 서울 지하철 이용객수 분석\n",
    "\n",
    "### 가장 이용자 수가 많은 지하철은?\n",
    "\n",
    "+ 강남\n",
    "+ 홍대\n",
    "    - 성수\n",
    "    - 합정\n",
    "    \n",
    "    "
   ]
  },
  {
   "cell_type": "markdown",
   "id": "452c1b63",
   "metadata": {},
   "source": [
    "* 별표 하나는 번호 없는 목록\n",
    "\n",
    "*별표로 감싸면 기울이기(주의:띄어쓰기 없이)*\n",
    "\n",
    "**별표 2개로 감싸면 굵게(주의: 띄어쓰기 없이)**\n",
    "\n",
    "***별표 3개로 감싸면 기울기+굵게***\n",
    "\n",
    "가로선 --- 이면\n",
    "\n",
    "---\n",
    "\n",
    "인용문으로 맨 앞에 >\n",
    "\n",
    "> 안녕하세요"
   ]
  },
  {
   "cell_type": "markdown",
   "id": "bfad1781",
   "metadata": {},
   "source": [
    "<div align='center'> 헬로우 월드 </div>\n",
    "\n",
    "<img src='./dataset/puppy.jpg'>\n",
    "\n",
    "[링크걸기](https://cafe.naver.com/javassem)\n",
    "\n",
    "이미지링크\n",
    "[![구글](https://www.google.com/images/branding/googlelogo/2x/googlelogo_color_92x30dp.png)](https://www.google.com/webhp?hl=ko&sa=X&ved=0ahUKEwj17qWh_sryAhVbY94KHe3aDD0QPAgI)"
   ]
  },
  {
   "cell_type": "markdown",
   "id": "9c52dc38",
   "metadata": {},
   "source": [
    "<font color='green'> [참고] 지하철의 노선도</font>"
   ]
  },
  {
   "cell_type": "markdown",
   "id": "74e8a68f",
   "metadata": {},
   "source": [
    "<table border='1'>\n",
    "    <tr><td>역명</td><td>지역</td></tr>\n",
    "     <tr><td>가산</td><td>금천구</td></tr>\n",
    "</table>"
   ]
  },
  {
   "cell_type": "code",
   "execution_count": null,
   "id": "4258769e",
   "metadata": {},
   "outputs": [],
   "source": []
  }
 ],
 "metadata": {
  "kernelspec": {
   "display_name": "Python [conda env:tensor] *",
   "language": "python",
   "name": "conda-env-tensor-py"
  },
  "language_info": {
   "codemirror_mode": {
    "name": "ipython",
    "version": 3
   },
   "file_extension": ".py",
   "mimetype": "text/x-python",
   "name": "python",
   "nbconvert_exporter": "python",
   "pygments_lexer": "ipython3",
   "version": "3.8.11"
  }
 },
 "nbformat": 4,
 "nbformat_minor": 5
}
