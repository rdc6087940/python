{
 "cells": [
  {
   "cell_type": "code",
   "execution_count": 26,
   "id": "ff584874",
   "metadata": {},
   "outputs": [],
   "source": [
    "import requests\n",
    "from bs4 import BeautifulSoup\n",
    "import time\n",
    "import urllib.request\n",
    "from selenium.webdriver import Chrome\n",
    "import re\n",
    "from selenium.webdriver.chrome.options import Options\n",
    "from selenium.webdriver.common.keys import Keys\n",
    "import datetime as dt\n",
    "import pandas as pd\n",
    "\n",
    "def page_make(max_num):\n",
    "    dial = []\n",
    "    for i in range(1,max_num+1):\n",
    "        addr = 'https://pelicana.co.kr/store/stroe_search.html?page='+str(i)\n",
    "        dial.append(addr)\n",
    "    return dial\n",
    "\n",
    "\n",
    "def store_list(lists):\n",
    "    store_pd2 = []\n",
    "    path = './webdriver/chromedriver'\n",
    "    delay = 2\n",
    "    driver= Chrome(path)\n",
    "    driver.implicitly_wait(delay)\n",
    "    for l in lists:\n",
    "        link = l\n",
    "        driver.get(link)\n",
    "        \n",
    "        tr_list = driver.find_elements_by_xpath('//*[@id=\"contents\"]/table/tbody/tr')\n",
    "        for i in range(1,len(tr_list)+1):\n",
    "            name = driver.find_element_by_xpath('//*[@id=\"contents\"]/table/tbody/tr['+str(i)+']/td[1]').text\n",
    "\n",
    "            addr = driver.find_element_by_xpath('//*[@id=\"contents\"]/table/tbody/tr['+str(i)+']/td[2]').text\n",
    "\n",
    "            tel = driver.find_element_by_xpath('//*[@id=\"contents\"]/table/tbody/tr['+str(i)+']/td[3]').text\n",
    "            tel = tel.split('\\n')\n",
    "            tel = tel[0]\n",
    "            print(name,addr,tel)\n",
    "        \n",
    "        \n",
    "    return store_pd2"
   ]
  },
  {
   "cell_type": "code",
   "execution_count": 27,
   "id": "5172634d",
   "metadata": {},
   "outputs": [
    {
     "name": "stdout",
     "output_type": "stream",
     "text": [
      "갈산점(이천) 경기도 이천시 갈산로 81(갈산동, 102) 031-638-8320\n",
      "갈산점(홍성) 충청남도 홍성군 갈산면 갈산로 109-1 041-634-1881\n",
      "감곡점 충청북도 음성군 감곡면 장감로 142 043-881-3903\n",
      "감삼점 대구광역시 달서구 두류3동 630-1 053-562-9929\n",
      "강경점 충청남도 논산시 강경읍 계백로 126-1 041-745-1206\n",
      "강구점 경상북도 영덕군 강구면 강구리 453 054-733-5544\n",
      "강남구청점 서울특별시 강남구 삼성로119길 41. 1층(삼성동) 02-515-3576\n",
      "강남대점 경기도 용인시기흥구 강남동로114번길 22(상하동) 031-284-9292\n",
      "강릉교동점 강원도 강릉시 강릉대로 269 (교동) 033-642-9800\n",
      "강릉서부점 강원도 강릉시 임영로 170-3(임당동) 033-641-1930\n",
      "강릉옥계점 강원도 강릉시 옥계면 현내시장길 59 033-534-2587\n",
      "강릉옥천동점 강원도 강릉시 경강로 2166 1층(옥천동) 033-642-1532\n",
      "강릉유천점 강원도 강릉시 선수촌로63번길 5 우미린상가106 033-641-8494\n",
      "강릉택지점 강원도 강릉시 율곡초교길39번 23(교동) 033-645-6288\n",
      "강북점 대구광역시 북구 읍내동 대천로9길 11-5 053-322-5090\n",
      "강상점 경기도 양평군 강상면 강남로 922, 107호 031-775-8259\n",
      "강서점 충청북도 청주시흥덕구 가로수로1154 5-21(강서동) 043-232-5254\n",
      "강진점 전라남도 강진군 강진읍 탐진로 76-1 061-433-8292\n",
      "강화1점 인천광역시 강화군 강화읍 강화대로403번길 5 032-933-3153\n",
      "강화2점 인천광역시 강화군 강화읍 중앙로 27 032-934-9200\n",
      "개군점 경기도 양평군 개군면 하자포길 35 031-772-4612\n",
      "개금점 부산광역시 부산진구 개금본동로32 051-897-6061\n",
      "개봉1점 서울특별시 구로구 개봉로11길 13, 1층 3호(개봉동) 02-2688-9292\n",
      "개신점 충청북도 청주시서원구 장구봉로 130 1층 043-218-9292\n",
      "개운점 강원도 원주시 송림길 48-10(개운동) 033-761-2592\n",
      "개포2점 서울특별시 강남구 선릉로6길 12. 1층(개포동) 02-575-2405\n",
      "개포3점 서울특별시 강남구 개포로22길 23. 지상1층(개포동) 02-575-8993\n",
      "거모점 경기도 시흥시 도일로 100-3, 103호 031-492-8222\n",
      "거제상동점 경상남도 거제시 상동1길 15-11 320동 1층 055-636-0588\n",
      "거진점 강원도 고성군 거진읍 거탄진로 117 033-682-3327\n"
     ]
    },
    {
     "data": {
      "text/plain": [
       "[]"
      ]
     },
     "execution_count": 27,
     "metadata": {},
     "output_type": "execute_result"
    }
   ],
   "source": [
    "store_list(['https://pelicana.co.kr/store/stroe_search.html?page=3','https://pelicana.co.kr/store/stroe_search.html?page=4','https://pelicana.co.kr/store/stroe_search.html?page=5'])"
   ]
  },
  {
   "cell_type": "code",
   "execution_count": null,
   "id": "350d592b",
   "metadata": {},
   "outputs": [],
   "source": []
  }
 ],
 "metadata": {
  "kernelspec": {
   "display_name": "Python [conda env:tensor] *",
   "language": "python",
   "name": "conda-env-tensor-py"
  },
  "language_info": {
   "codemirror_mode": {
    "name": "ipython",
    "version": 3
   },
   "file_extension": ".py",
   "mimetype": "text/x-python",
   "name": "python",
   "nbconvert_exporter": "python",
   "pygments_lexer": "ipython3",
   "version": "3.8.11"
  }
 },
 "nbformat": 4,
 "nbformat_minor": 5
}
