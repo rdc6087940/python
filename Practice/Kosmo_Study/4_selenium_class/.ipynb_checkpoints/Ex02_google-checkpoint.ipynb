{
 "cells": [
  {
   "cell_type": "markdown",
   "id": "7265f452",
   "metadata": {},
   "source": [
    "# 2. google\n",
    "1. 크롬웹드라이버로 구글 사이트 열기\n",
    "\n",
    "2. 실제 크롬창에서 '파이썬'라고 검색버튼을 누른다.\n",
    "    개발자모드(F12)에서 이 부분을 보면\n",
    "    <input name='q' value='파이썬'~~ >\n",
    "    그리고 'google검색' 버튼이 type='submit' 인거 확인\n",
    "'''"
   ]
  },
  {
   "cell_type": "markdown",
   "id": "e6cd0876",
   "metadata": {},
   "source": [
    "## 1) 드라이버 선언"
   ]
  },
  {
   "cell_type": "code",
   "execution_count": 2,
   "id": "70090d96",
   "metadata": {},
   "outputs": [],
   "source": [
    "from selenium import webdriver\n",
    "\n",
    "driver = webdriver.Chrome('./webdriver/chromedriver.exe')\n",
    "driver.implicitly_wait(2)\n",
    "\n",
    "driver.get('http://www.google.com')\n",
    "\n",
    "\n"
   ]
  },
  {
   "cell_type": "markdown",
   "id": "e045681c",
   "metadata": {},
   "source": [
    "## 2) 페이지 접근"
   ]
  },
  {
   "cell_type": "code",
   "execution_count": null,
   "id": "fffc8a4a",
   "metadata": {},
   "outputs": [],
   "source": [
    "driver.get('http://www.google.com')"
   ]
  },
  {
   "cell_type": "markdown",
   "id": "809789ec",
   "metadata": {},
   "source": [
    "### [2]"
   ]
  },
  {
   "cell_type": "code",
   "execution_count": null,
   "id": "58afc408",
   "metadata": {},
   "outputs": [],
   "source": [
    "search_input = driver.find_element_by_name('q')\n",
    "search_input.send_keys('파이썬')\n",
    "search_input.submit()\n"
   ]
  }
 ],
 "metadata": {
  "kernelspec": {
   "display_name": "Python [conda env:tensor] *",
   "language": "python",
   "name": "conda-env-tensor-py"
  },
  "language_info": {
   "codemirror_mode": {
    "name": "ipython",
    "version": 3
   },
   "file_extension": ".py",
   "mimetype": "text/x-python",
   "name": "python",
   "nbconvert_exporter": "python",
   "pygments_lexer": "ipython3",
   "version": "3.8.11"
  }
 },
 "nbformat": 4,
 "nbformat_minor": 5
}
