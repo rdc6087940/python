{
 "cells": [
  {
   "cell_type": "markdown",
   "id": "9bc918ce",
   "metadata": {},
   "source": [
    "# 3. naverlogin"
   ]
  },
  {
   "cell_type": "markdown",
   "id": "5c866b1c",
   "metadata": {},
   "source": [
    "### 0) 네이버 로그인 정보"
   ]
  },
  {
   "cell_type": "code",
   "execution_count": 1,
   "id": "e78a5b56",
   "metadata": {},
   "outputs": [],
   "source": [
    "myID = 'rdc6087'\n",
    "mypw = "
   ]
  },
  {
   "cell_type": "markdown",
   "id": "b9f47add",
   "metadata": {},
   "source": [
    "### 1) webdriver 객체 생성"
   ]
  },
  {
   "cell_type": "code",
   "execution_count": 2,
   "id": "b5f27d87",
   "metadata": {},
   "outputs": [],
   "source": [
    "from selenium import webdriver\n",
    "\n",
    "driver = webdriver.Chrome('./webdriver/chromedriver.exe')"
   ]
  },
  {
   "cell_type": "markdown",
   "id": "abba7708",
   "metadata": {},
   "source": [
    "### 2) 페이지 접근"
   ]
  },
  {
   "cell_type": "code",
   "execution_count": 3,
   "id": "f116a5ed",
   "metadata": {},
   "outputs": [],
   "source": [
    "driver.get('https://nid.naver.com/nidlogin.login')"
   ]
  },
  {
   "cell_type": "markdown",
   "id": "72748992",
   "metadata": {},
   "source": [
    "### 3) 로그인 입력"
   ]
  },
  {
   "cell_type": "code",
   "execution_count": null,
   "id": "4d338b76",
   "metadata": {},
   "outputs": [],
   "source": [
    "driver.find_element_by_id('id').send_keys(myID)\n",
    "driver.find_element_by_id('pw').send_keys(myPW)\n",
    "driver.find_element_by_id('log.login').submit()"
   ]
  }
 ],
 "metadata": {
  "kernelspec": {
   "display_name": "Python [conda env:tensor] *",
   "language": "python",
   "name": "conda-env-tensor-py"
  },
  "language_info": {
   "codemirror_mode": {
    "name": "ipython",
    "version": 3
   },
   "file_extension": ".py",
   "mimetype": "text/x-python",
   "name": "python",
   "nbconvert_exporter": "python",
   "pygments_lexer": "ipython3",
   "version": "3.8.11"
  }
 },
 "nbformat": 4,
 "nbformat_minor": 5
}
