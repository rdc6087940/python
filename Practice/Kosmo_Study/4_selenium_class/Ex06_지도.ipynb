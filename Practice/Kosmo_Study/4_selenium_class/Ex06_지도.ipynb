{
 "cells": [
  {
   "cell_type": "code",
   "execution_count": 10,
   "id": "01d5f72d",
   "metadata": {},
   "outputs": [],
   "source": [
    "import folium\n",
    "\n",
    "map_osm = folium.Map()\n",
    "\n",
    "map_osm = folium.Map(location=[37.4526527708009, 126.85972513819276],zoom_start=14, tiles='Stamen Toner')\n",
    "\n",
    "folium.Marker(location=[37.4526527708009, 126.85972513819276], popup='경복궁',icon=folium.Icon(color='red',icon='info-sign')).add_to(map_osm)\n",
    "\n",
    "folium.CircleMarker(location=[37.4526527708009, 126.85972513819276], popup='경복궁',radius=100,color='blue',fill_color=\"#AAAA33\").add_to(map_osm)\n",
    "\n",
    "map_osm.save('map1.html')"
   ]
  },
  {
   "cell_type": "code",
   "execution_count": null,
   "id": "9ed1ee4c",
   "metadata": {},
   "outputs": [],
   "source": []
  }
 ],
 "metadata": {
  "kernelspec": {
   "display_name": "Python [conda env:tensor] *",
   "language": "python",
   "name": "conda-env-tensor-py"
  },
  "language_info": {
   "codemirror_mode": {
    "name": "ipython",
    "version": 3
   },
   "file_extension": ".py",
   "mimetype": "text/x-python",
   "name": "python",
   "nbconvert_exporter": "python",
   "pygments_lexer": "ipython3",
   "version": "3.8.11"
  }
 },
 "nbformat": 4,
 "nbformat_minor": 5
}
