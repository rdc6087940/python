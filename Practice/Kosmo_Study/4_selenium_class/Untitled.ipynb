{
 "cells": [
  {
   "cell_type": "code",
   "execution_count": 1,
   "id": "3324425e",
   "metadata": {},
   "outputs": [],
   "source": [
    "from selenium import webdriver\n",
    "\n",
    "\n",
    "\n"
   ]
  },
  {
   "cell_type": "code",
   "execution_count": null,
   "id": "b1bb4cd1",
   "metadata": {},
   "outputs": [],
   "source": []
  },
  {
   "cell_type": "code",
   "execution_count": 3,
   "id": "94ae806a",
   "metadata": {},
   "outputs": [
    {
     "name": "stdout",
     "output_type": "stream",
     "text": [
      "0\n"
     ]
    }
   ],
   "source": [
    "myID =''\n",
    "myPW = ''\n",
    "driver = webdriver.Chrome('./webdriver/chromedriver.exe')\n",
    "driver.get('http://kosmo.atosoft.org/worknet/SLogin.asp')\n",
    "driver.find_element_by_id('search').send_keys(myID)\n",
    "driver.implicitly_wait(2)\n",
    "driver.find_element_by_id('search').click()\n",
    "driver.implicitly_wait(2)\n",
    "\n",
    "ids = 'ui-id-'\n",
    "\n",
    "for i in range(0,100):\n",
    "    try:\n",
    "        driver.find_element_by_id(ids + str(i)).click()\n",
    "        driver.find_element_by_id('strLoginPwd').send_keys(myPW)\n",
    "        driver.find_element_by_class_name('login-btn').click()\n",
    "        break\n",
    "    except:\n",
    "        print(i)\n"
   ]
  },
  {
   "cell_type": "code",
   "execution_count": null,
   "id": "c579a21c",
   "metadata": {},
   "outputs": [],
   "source": []
  },
  {
   "cell_type": "code",
   "execution_count": null,
   "id": "00927730",
   "metadata": {},
   "outputs": [],
   "source": []
  }
 ],
 "metadata": {
  "kernelspec": {
   "display_name": "Python [conda env:tensor] *",
   "language": "python",
   "name": "conda-env-tensor-py"
  },
  "language_info": {
   "codemirror_mode": {
    "name": "ipython",
    "version": 3
   },
   "file_extension": ".py",
   "mimetype": "text/x-python",
   "name": "python",
   "nbconvert_exporter": "python",
   "pygments_lexer": "ipython3",
   "version": "3.8.11"
  }
 },
 "nbformat": 4,
 "nbformat_minor": 5
}
