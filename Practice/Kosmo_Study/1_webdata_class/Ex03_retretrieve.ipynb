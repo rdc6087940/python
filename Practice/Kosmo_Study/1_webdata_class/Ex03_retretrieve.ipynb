{
 "cells": [
  {
   "cell_type": "markdown",
   "id": "50f31a1c",
   "metadata": {},
   "source": [
    "# 3. retretrieve"
   ]
  },
  {
   "cell_type": "markdown",
   "id": "452a9770",
   "metadata": {},
   "source": [
    "#### 자료"
   ]
  },
  {
   "cell_type": "markdown",
   "id": "d6226e02",
   "metadata": {},
   "source": [
    "- 크롬에서 구글이미지 > 오른마우스 > 이미지 주소 복사 >\n",
    "- 구글 이미지 : https://www.google.com/images/branding/googlelogo/2x/googlelogo_color_272x92dp.png\n",
    "- 다음 이미지 : https://t1.daumcdn.net/daumtop_chanel/op/20170315064553027.png"
   ]
  },
  {
   "cell_type": "markdown",
   "id": "e2e94bff",
   "metadata": {},
   "source": [
    "### urllib 라이브러리(패키지)"
   ]
  },
  {
   "cell_type": "code",
   "execution_count": 2,
   "id": "3e3a6b0c",
   "metadata": {},
   "outputs": [
    {
     "data": {
      "text/plain": [
       "('./data/daum.png', <http.client.HTTPMessage at 0x167e7e2cb20>)"
      ]
     },
     "execution_count": 2,
     "metadata": {},
     "output_type": "execute_result"
    }
   ],
   "source": [
    "import urllib.request\n",
    "\n",
    "url = 'https://t1.daumcdn.net/daumtop_chanel/op/20170315064553027.png'\n",
    "imgName = './data/daum.png'\n",
    "\n",
    "request.urlretrieve(url, imgName)\n"
   ]
  },
  {
   "cell_type": "code",
   "execution_count": null,
   "id": "3061ece9",
   "metadata": {},
   "outputs": [],
   "source": []
  }
 ],
 "metadata": {
  "kernelspec": {
   "display_name": "Python [conda env:tensor] *",
   "language": "python",
   "name": "conda-env-tensor-py"
  },
  "language_info": {
   "codemirror_mode": {
    "name": "ipython",
    "version": 3
   },
   "file_extension": ".py",
   "mimetype": "text/x-python",
   "name": "python",
   "nbconvert_exporter": "python",
   "pygments_lexer": "ipython3",
   "version": "3.8.11"
  }
 },
 "nbformat": 4,
 "nbformat_minor": 5
}
