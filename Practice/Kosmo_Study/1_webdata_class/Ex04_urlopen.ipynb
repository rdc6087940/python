{
 "cells": [
  {
   "cell_type": "markdown",
   "id": "509467f1",
   "metadata": {},
   "source": [
    "# 4. urlopen"
   ]
  },
  {
   "cell_type": "markdown",
   "id": "3b33a0bb",
   "metadata": {},
   "source": [
    "#### 설명\n",
    "- urlretrieve(): 파일로 바로 저장\n",
    "- urlopen(): 파일로 바로 저장하기 않고 메모리에 로딩을 한다."
   ]
  },
  {
   "cell_type": "markdown",
   "id": "6a887674",
   "metadata": {},
   "source": [
    "[참고] 파일저장 기본방식\n",
    " - f = open('a.txt','w')\n",
    " - f.write(\"테스트 내용\")\n",
    " - f.close()\n",
    "\n",
    "    위의 과정을 with 문으로 간략하게 close 필요없음\n",
    "    with open(\"a.txt\",\"w\") as f:\n",
    "        f.write(\"테스트 내용\")"
   ]
  },
  {
   "cell_type": "markdown",
   "id": "478f5628",
   "metadata": {},
   "source": [
    "## 4-1. 웹페이지 열고 읽기"
   ]
  },
  {
   "cell_type": "code",
   "execution_count": null,
   "id": "a90be7eb",
   "metadata": {},
   "outputs": [],
   "source": [
    "\n",
    "url = 'https://t1.daumcdn.net/daumtop_chanel/op/20170315064553027.png'\n",
    "imgName = './data/daum22.png'\n",
    "\n",
    "site = request.urlopen(url)\n",
    "content = site.read()"
   ]
  },
  {
   "cell_type": "markdown",
   "id": "64b8f4f2",
   "metadata": {},
   "source": [
    "## 4-2. 읽은 내용을 파일에 직접 저장하기"
   ]
  },
  {
   "cell_type": "code",
   "execution_count": null,
   "id": "5e0cf9b9",
   "metadata": {},
   "outputs": [],
   "source": [
    "with open(imgName, \"wb\") as f:\n",
    "    f.write(content)"
   ]
  },
  {
   "cell_type": "markdown",
   "id": "bcb625f4",
   "metadata": {},
   "source": []
  }
 ],
 "metadata": {
  "kernelspec": {
   "display_name": "Python [conda env:tensor] *",
   "language": "python",
   "name": "conda-env-tensor-py"
  },
  "language_info": {
   "codemirror_mode": {
    "name": "ipython",
    "version": 3
   },
   "file_extension": ".py",
   "mimetype": "text/x-python",
   "name": "python",
   "nbconvert_exporter": "python",
   "pygments_lexer": "ipython3",
   "version": "3.8.11"
  }
 },
 "nbformat": 4,
 "nbformat_minor": 5
}
