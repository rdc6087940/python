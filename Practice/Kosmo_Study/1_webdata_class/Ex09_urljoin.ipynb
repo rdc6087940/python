{
 "cells": [
  {
   "cell_type": "markdown",
   "id": "e3c095a5",
   "metadata": {},
   "source": [
    "# 9. urljoin\n",
    "urllib.parse.urljoin() : 상대경로를 절대경로로 변화하는 함수"
   ]
  },
  {
   "cell_type": "code",
   "execution_count": 3,
   "id": "f8b8a774",
   "metadata": {},
   "outputs": [
    {
     "name": "stdout",
     "output_type": "stream",
     "text": [
      "http://www.example.com/html/b.html\n",
      "http://www.example.com/html/sub/c.html\n",
      "http://www.example.com/sub/d.html\n",
      "http://www.example.com/html/sub/e.html\n",
      "http://www.example.com/temp/f.html\n",
      "http://www.daum.net\n"
     ]
    }
   ],
   "source": [
    "from urllib import parse\n",
    "# urllib.pars import urljoin\n",
    "\n",
    "baseUrl = 'http://www.example.com/html/a.html'\n",
    "\n",
    "print(parse.urljoin(baseUrl,'b.html'))\n",
    "print(parse.urljoin(baseUrl,'sub/c.html'))\n",
    "print(parse.urljoin(baseUrl,'/sub/d.html'))\n",
    "print(parse.urljoin(baseUrl,'./sub/e.html'))\n",
    "print(parse.urljoin(baseUrl,'../temp/f.html'))\n",
    "\n",
    "print(parse.urljoin(baseUrl,'http://www.daum.net'))"
   ]
  },
  {
   "cell_type": "code",
   "execution_count": null,
   "id": "5b3bccd2",
   "metadata": {},
   "outputs": [],
   "source": []
  }
 ],
 "metadata": {
  "kernelspec": {
   "display_name": "Python [conda env:tensor] *",
   "language": "python",
   "name": "conda-env-tensor-py"
  },
  "language_info": {
   "codemirror_mode": {
    "name": "ipython",
    "version": 3
   },
   "file_extension": ".py",
   "mimetype": "text/x-python",
   "name": "python",
   "nbconvert_exporter": "python",
   "pygments_lexer": "ipython3",
   "version": "3.8.11"
  }
 },
 "nbformat": 4,
 "nbformat_minor": 5
}
