{
 "cells": [
  {
   "cell_type": "markdown",
   "id": "eab09611",
   "metadata": {},
   "source": [
    "# 1.Requests"
   ]
  },
  {
   "cell_type": "markdown",
   "id": "b459ec76",
   "metadata": {},
   "source": [
    "## 1-1. 파이썬에서 웹을 요청할 수 있는 라이브러리\n",
    "- 1) requests 라이브러리 (s붙음 주의) - 추가\n",
    "- 2) urllib 라이브러리 - 내장모듈"
   ]
  },
  {
   "cell_type": "markdown",
   "id": "e24f989f",
   "metadata": {},
   "source": [
    "## 1-2. 차이점\n",
    " - 1) requests는 요청 메소드(get/post)를 구분하지만 urllib는 보내는 데이타 여부에 따라 구분됨\n",
    " - 2) 데이타 보낼 때 requests는 딕셔러니 형태로 urllib는 인코딩한 바이너리 형태로 보낸다\n"
   ]
  },
  {
   "cell_type": "markdown",
   "id": "f87c166f",
   "metadata": {},
   "source": [
    "## 1-3. requests 라이브러리 추가\n",
    "메뉴 > File > Settings > Project Interpreter > + 버튼 > 'requests' 검색 후 인스톨"
   ]
  },
  {
   "cell_type": "markdown",
   "id": "8acfd808",
   "metadata": {},
   "source": [
    "## 1-4. [ requests 모듈 ]"
   ]
  },
  {
   "cell_type": "markdown",
   "id": "11d89d03",
   "metadata": {},
   "source": [
    "### (1) Rest API 지원"
   ]
  },
  {
   "cell_type": "code",
   "execution_count": null,
   "id": "c0fddb18",
   "metadata": {
    "scrolled": true
   },
   "outputs": [],
   "source": [
    "import requests\n",
    "resp = requests.get('http://www.mywebsite.com/user')\n",
    "print(\"get :\",resp)\n",
    "resp = requests.post('http://www.mywebsite.com/user')\n",
    "print(\"get :\",resp)\n",
    "resp = requests.put('http://www.mywebsite.com/user/put')\n",
    "print(\"put :\",resp)\n",
    "resp = requests.delete('http://www.mywebsite.com/user/delete')\n",
    "print(\"delete :\",resp)"
   ]
  },
  {
   "cell_type": "markdown",
   "id": "1668c758",
   "metadata": {},
   "source": [
    "##### b'문자열' : byte 바이트 객체"
   ]
  },
  {
   "cell_type": "code",
   "execution_count": null,
   "id": "42fed560",
   "metadata": {},
   "outputs": [],
   "source": [
    "import requests\n",
    "resp = requests.post('http://www.mywebsite.com/user')\n",
    "print(\"post :\",resp)\n",
    "print(\"-\"*50)\n",
    "print(resp.content)\n",
    "print(\"-\"*50)"
   ]
  },
  {
   "cell_type": "markdown",
   "id": "18626497",
   "metadata": {},
   "source": [
    "##### requests.headers "
   ]
  },
  {
   "cell_type": "code",
   "execution_count": null,
   "id": "f7c5b2c0",
   "metadata": {},
   "outputs": [],
   "source": [
    "import requests\n",
    "resp = requests.post('http://www.mywebsite.com/user')\n",
    "print(\"post :\",resp)\n",
    "print(\"-\"*50)\n",
    "print(resp.headers)\n",
    "print(\"-\"*50)\n",
    "\n",
    "# requests.headers => Dictionary 형태로 저장되어 있다.\n",
    "\n",
    "for head in resp.headers:\n",
    "    print(head, \":\", resp.headers[head])\n",
    "\n",
    "for head in resp.headers.items() :\n",
    "    print(head)\n"
   ]
  },
  {
   "cell_type": "markdown",
   "id": "d1d8df4e",
   "metadata": {},
   "source": [
    "### (2) 파라미터가 딕셔너리 인수로 가능"
   ]
  },
  {
   "cell_type": "code",
   "execution_count": null,
   "id": "5e30b042",
   "metadata": {
    "scrolled": false
   },
   "outputs": [],
   "source": [
    "data = {'firstname':'John', 'lastname':'Kim', 'job':'baksu'}\n",
    "resp = requests.post('http://www.mywebsite.com/user', data=userdata)"
   ]
  },
  {
   "cell_type": "markdown",
   "id": "ff33db27",
   "metadata": {},
   "source": [
    "### (3) json 디코더 내장 (따로 json 모듈 사용 안해도 됨)"
   ]
  },
  {
   "cell_type": "code",
   "execution_count": null,
   "id": "d2335ea3",
   "metadata": {},
   "outputs": [],
   "source": [
    "resp.json()"
   ]
  }
 ],
 "metadata": {
  "kernelspec": {
   "display_name": "Python [conda env:tensor] *",
   "language": "python",
   "name": "conda-env-tensor-py"
  },
  "language_info": {
   "codemirror_mode": {
    "name": "ipython",
    "version": 3
   },
   "file_extension": ".py",
   "mimetype": "text/x-python",
   "name": "python",
   "nbconvert_exporter": "python",
   "pygments_lexer": "ipython3",
   "version": "3.8.11"
  }
 },
 "nbformat": 4,
 "nbformat_minor": 5
}
